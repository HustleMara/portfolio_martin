{
 "cells": [
  {
   "cell_type": "markdown",
   "metadata": {},
   "source": [
    "# Анализ данных, для выявления стратегии игропроизводства на будущий год\n",
    "***Задача***\n",
    "\n",
    "Вы работаете в интернет-магазине «Стримчик», который продаёт по всему миру компьютерные игры. Из открытых источников доступны исторические данные о продажах игр, оценки пользователей и экспертов, жанры и платформы (например, Xbox или PlayStation). Вам нужно выявить определяющие успешность игры закономерности. Это позволит сделать ставку на потенциально популярный продукт и спланировать рекламные кампании.\n",
    "\n",
    "***План исследования:***\n",
    "1. Загрузить и обработать датафрэйм\n",
    "2. Провести исследование данных\n",
    "3. Выдвинуть и проверить гипотезы\n",
    "4. Составить итоги исследования"
   ]
  },
  {
   "cell_type": "markdown",
   "metadata": {},
   "source": [
    "# Table of Contents\n",
    "* [Загрузка данных](#chapter1)\n",
    "* [Предобработка данных](#chapter2)\n",
    "* [Исследовательский анализ данных](#chapter3)\n",
    "    * [Ответ на 1 вопрос](#section_3_1)\n",
    "    * [Ответ на 2 вопрос](#section_3_2)\n",
    "    * [Ответ на 3 вопрос](#section_3_3)\n",
    "    * [Ответ на 4 вопрос](#section_3_4)\n",
    "    * [Ответ на 5 вопрос](#section_3_5)\n",
    "    * [Ответ на 6 вопрос](#section_3_6)\n",
    "    * [Ответ на 7 вопрос](#section_3_7)\n",
    "    * [Ответ на 8 вопрос](#section_3_8)\n",
    "* [Портрет пользователя по регионам](#chapter4)\n",
    "* [Проверка гипотез](#chapter5)\n",
    "* [Заключение](#chapter6) "
   ]
  },
  {
   "cell_type": "markdown",
   "metadata": {},
   "source": [
    "# Шаг 1 - Загрузка данных, импортирование библиотек <a class=\"anchor\" id=\"chapter1\"></a>"
   ]
  },
  {
   "cell_type": "code",
   "execution_count": 1,
   "metadata": {},
   "outputs": [],
   "source": [
    "#Импортирование нужных библиотек\n",
    "import pandas as pd\n",
    "import scipy \n",
    "from scipy import stats as st\n",
    "import matplotlib.pyplot as plt\n",
    "import numpy as np\n",
    "import seaborn as sns"
   ]
  },
  {
   "cell_type": "markdown",
   "metadata": {},
   "source": [
    "***Описание данных***\n",
    "\n",
    "Name — название игры\n",
    "\n",
    "Platform — платформа\n",
    "\n",
    "Year_of_Release — год выпуска\n",
    "\n",
    "Genre — жанр игры\n",
    "\n",
    "NA_sales — продажи в Северной Америке (миллионы проданных копий)\n",
    "\n",
    "EU_sales — продажи в Европе (миллионы проданных копий)\n",
    "\n",
    "JP_sales — продажи в Японии (миллионы проданных копий)\n",
    "\n",
    "Other_sales — продажи в других странах (миллионы проданных копий)\n",
    "\n",
    "Critic_Score — оценка критиков (максимум 100)\n",
    "\n",
    "User_Score — оценка пользователей (максимум 10)\n",
    "\n",
    "Rating — рейтинг от организации ESRB (англ. Entertainment Software Rating Board). Эта ассоциация определяет рейтинг \n",
    "компьютерных игр и присваивает им подходящую возрастную категорию."
   ]
  },
  {
   "cell_type": "code",
   "execution_count": 2,
   "metadata": {},
   "outputs": [
    {
     "data": {
      "text/html": [
       "<div>\n",
       "<style scoped>\n",
       "    .dataframe tbody tr th:only-of-type {\n",
       "        vertical-align: middle;\n",
       "    }\n",
       "\n",
       "    .dataframe tbody tr th {\n",
       "        vertical-align: top;\n",
       "    }\n",
       "\n",
       "    .dataframe thead th {\n",
       "        text-align: right;\n",
       "    }\n",
       "</style>\n",
       "<table border=\"1\" class=\"dataframe\">\n",
       "  <thead>\n",
       "    <tr style=\"text-align: right;\">\n",
       "      <th></th>\n",
       "      <th>Name</th>\n",
       "      <th>Platform</th>\n",
       "      <th>Year_of_Release</th>\n",
       "      <th>Genre</th>\n",
       "      <th>NA_sales</th>\n",
       "      <th>EU_sales</th>\n",
       "      <th>JP_sales</th>\n",
       "      <th>Other_sales</th>\n",
       "      <th>Critic_Score</th>\n",
       "      <th>User_Score</th>\n",
       "      <th>Rating</th>\n",
       "    </tr>\n",
       "  </thead>\n",
       "  <tbody>\n",
       "    <tr>\n",
       "      <th>0</th>\n",
       "      <td>Wii Sports</td>\n",
       "      <td>Wii</td>\n",
       "      <td>2006.0</td>\n",
       "      <td>Sports</td>\n",
       "      <td>41.36</td>\n",
       "      <td>28.96</td>\n",
       "      <td>3.77</td>\n",
       "      <td>8.45</td>\n",
       "      <td>76.0</td>\n",
       "      <td>8</td>\n",
       "      <td>E</td>\n",
       "    </tr>\n",
       "    <tr>\n",
       "      <th>1</th>\n",
       "      <td>Super Mario Bros.</td>\n",
       "      <td>NES</td>\n",
       "      <td>1985.0</td>\n",
       "      <td>Platform</td>\n",
       "      <td>29.08</td>\n",
       "      <td>3.58</td>\n",
       "      <td>6.81</td>\n",
       "      <td>0.77</td>\n",
       "      <td>NaN</td>\n",
       "      <td>NaN</td>\n",
       "      <td>NaN</td>\n",
       "    </tr>\n",
       "    <tr>\n",
       "      <th>2</th>\n",
       "      <td>Mario Kart Wii</td>\n",
       "      <td>Wii</td>\n",
       "      <td>2008.0</td>\n",
       "      <td>Racing</td>\n",
       "      <td>15.68</td>\n",
       "      <td>12.76</td>\n",
       "      <td>3.79</td>\n",
       "      <td>3.29</td>\n",
       "      <td>82.0</td>\n",
       "      <td>8.3</td>\n",
       "      <td>E</td>\n",
       "    </tr>\n",
       "    <tr>\n",
       "      <th>3</th>\n",
       "      <td>Wii Sports Resort</td>\n",
       "      <td>Wii</td>\n",
       "      <td>2009.0</td>\n",
       "      <td>Sports</td>\n",
       "      <td>15.61</td>\n",
       "      <td>10.93</td>\n",
       "      <td>3.28</td>\n",
       "      <td>2.95</td>\n",
       "      <td>80.0</td>\n",
       "      <td>8</td>\n",
       "      <td>E</td>\n",
       "    </tr>\n",
       "    <tr>\n",
       "      <th>4</th>\n",
       "      <td>Pokemon Red/Pokemon Blue</td>\n",
       "      <td>GB</td>\n",
       "      <td>1996.0</td>\n",
       "      <td>Role-Playing</td>\n",
       "      <td>11.27</td>\n",
       "      <td>8.89</td>\n",
       "      <td>10.22</td>\n",
       "      <td>1.00</td>\n",
       "      <td>NaN</td>\n",
       "      <td>NaN</td>\n",
       "      <td>NaN</td>\n",
       "    </tr>\n",
       "    <tr>\n",
       "      <th>5</th>\n",
       "      <td>Tetris</td>\n",
       "      <td>GB</td>\n",
       "      <td>1989.0</td>\n",
       "      <td>Puzzle</td>\n",
       "      <td>23.20</td>\n",
       "      <td>2.26</td>\n",
       "      <td>4.22</td>\n",
       "      <td>0.58</td>\n",
       "      <td>NaN</td>\n",
       "      <td>NaN</td>\n",
       "      <td>NaN</td>\n",
       "    </tr>\n",
       "    <tr>\n",
       "      <th>6</th>\n",
       "      <td>New Super Mario Bros.</td>\n",
       "      <td>DS</td>\n",
       "      <td>2006.0</td>\n",
       "      <td>Platform</td>\n",
       "      <td>11.28</td>\n",
       "      <td>9.14</td>\n",
       "      <td>6.50</td>\n",
       "      <td>2.88</td>\n",
       "      <td>89.0</td>\n",
       "      <td>8.5</td>\n",
       "      <td>E</td>\n",
       "    </tr>\n",
       "    <tr>\n",
       "      <th>7</th>\n",
       "      <td>Wii Play</td>\n",
       "      <td>Wii</td>\n",
       "      <td>2006.0</td>\n",
       "      <td>Misc</td>\n",
       "      <td>13.96</td>\n",
       "      <td>9.18</td>\n",
       "      <td>2.93</td>\n",
       "      <td>2.84</td>\n",
       "      <td>58.0</td>\n",
       "      <td>6.6</td>\n",
       "      <td>E</td>\n",
       "    </tr>\n",
       "    <tr>\n",
       "      <th>8</th>\n",
       "      <td>New Super Mario Bros. Wii</td>\n",
       "      <td>Wii</td>\n",
       "      <td>2009.0</td>\n",
       "      <td>Platform</td>\n",
       "      <td>14.44</td>\n",
       "      <td>6.94</td>\n",
       "      <td>4.70</td>\n",
       "      <td>2.24</td>\n",
       "      <td>87.0</td>\n",
       "      <td>8.4</td>\n",
       "      <td>E</td>\n",
       "    </tr>\n",
       "    <tr>\n",
       "      <th>9</th>\n",
       "      <td>Duck Hunt</td>\n",
       "      <td>NES</td>\n",
       "      <td>1984.0</td>\n",
       "      <td>Shooter</td>\n",
       "      <td>26.93</td>\n",
       "      <td>0.63</td>\n",
       "      <td>0.28</td>\n",
       "      <td>0.47</td>\n",
       "      <td>NaN</td>\n",
       "      <td>NaN</td>\n",
       "      <td>NaN</td>\n",
       "    </tr>\n",
       "  </tbody>\n",
       "</table>\n",
       "</div>"
      ],
      "text/plain": [
       "                        Name Platform  Year_of_Release         Genre  \\\n",
       "0                 Wii Sports      Wii           2006.0        Sports   \n",
       "1          Super Mario Bros.      NES           1985.0      Platform   \n",
       "2             Mario Kart Wii      Wii           2008.0        Racing   \n",
       "3          Wii Sports Resort      Wii           2009.0        Sports   \n",
       "4   Pokemon Red/Pokemon Blue       GB           1996.0  Role-Playing   \n",
       "5                     Tetris       GB           1989.0        Puzzle   \n",
       "6      New Super Mario Bros.       DS           2006.0      Platform   \n",
       "7                   Wii Play      Wii           2006.0          Misc   \n",
       "8  New Super Mario Bros. Wii      Wii           2009.0      Platform   \n",
       "9                  Duck Hunt      NES           1984.0       Shooter   \n",
       "\n",
       "   NA_sales  EU_sales  JP_sales  Other_sales  Critic_Score User_Score Rating  \n",
       "0     41.36     28.96      3.77         8.45          76.0          8      E  \n",
       "1     29.08      3.58      6.81         0.77           NaN        NaN    NaN  \n",
       "2     15.68     12.76      3.79         3.29          82.0        8.3      E  \n",
       "3     15.61     10.93      3.28         2.95          80.0          8      E  \n",
       "4     11.27      8.89     10.22         1.00           NaN        NaN    NaN  \n",
       "5     23.20      2.26      4.22         0.58           NaN        NaN    NaN  \n",
       "6     11.28      9.14      6.50         2.88          89.0        8.5      E  \n",
       "7     13.96      9.18      2.93         2.84          58.0        6.6      E  \n",
       "8     14.44      6.94      4.70         2.24          87.0        8.4      E  \n",
       "9     26.93      0.63      0.28         0.47           NaN        NaN    NaN  "
      ]
     },
     "metadata": {},
     "output_type": "display_data"
    },
    {
     "name": "stdout",
     "output_type": "stream",
     "text": [
      "<class 'pandas.core.frame.DataFrame'>\n",
      "RangeIndex: 16715 entries, 0 to 16714\n",
      "Data columns (total 11 columns):\n",
      " #   Column           Non-Null Count  Dtype  \n",
      "---  ------           --------------  -----  \n",
      " 0   Name             16713 non-null  object \n",
      " 1   Platform         16715 non-null  object \n",
      " 2   Year_of_Release  16446 non-null  float64\n",
      " 3   Genre            16713 non-null  object \n",
      " 4   NA_sales         16715 non-null  float64\n",
      " 5   EU_sales         16715 non-null  float64\n",
      " 6   JP_sales         16715 non-null  float64\n",
      " 7   Other_sales      16715 non-null  float64\n",
      " 8   Critic_Score     8137 non-null   float64\n",
      " 9   User_Score       10014 non-null  object \n",
      " 10  Rating           9949 non-null   object \n",
      "dtypes: float64(6), object(5)\n",
      "memory usage: 1.4+ MB\n"
     ]
    }
   ],
   "source": [
    "#загрузка датафрэйма, получение общей информации о датафрэйме\n",
    "data = pd.read_csv('/datasets/games.csv')\n",
    "display(data.head(10))\n",
    "data.info()"
   ]
  },
  {
   "cell_type": "code",
   "execution_count": 3,
   "metadata": {},
   "outputs": [
    {
     "data": {
      "image/png": "[encoded data removed]",
      "text/plain": [
       "<Figure size 720x720 with 6 Axes>"
      ]
     },
     "metadata": {
      "needs_background": "light"
     },
     "output_type": "display_data"
    }
   ],
   "source": [
    "#составление первичного представления о датафрэйме\n",
    "data.hist(figsize=(10, 10))\n",
    "plt.show()"
   ]
  },
  {
   "cell_type": "markdown",
   "metadata": {},
   "source": [
    "Данные содержат информацию об играх, годах их выпуска, характеристиках игры, а также о продажах в разных регионах, можно наблюдать, что некоторые типы данных не соответсвуют их значениям, стоит исправит, есть пропущенные значения, которые также нужно исследовать."
   ]
  },
  {
   "cell_type": "markdown",
   "metadata": {},
   "source": [
    "# Шаг 2 - предобработка данных <a class=\"anchor\" id=\"chapter2\"></a>"
   ]
  },
  {
   "cell_type": "code",
   "execution_count": 4,
   "metadata": {},
   "outputs": [
    {
     "data": {
      "text/html": [
       "<div>\n",
       "<style scoped>\n",
       "    .dataframe tbody tr th:only-of-type {\n",
       "        vertical-align: middle;\n",
       "    }\n",
       "\n",
       "    .dataframe tbody tr th {\n",
       "        vertical-align: top;\n",
       "    }\n",
       "\n",
       "    .dataframe thead th {\n",
       "        text-align: right;\n",
       "    }\n",
       "</style>\n",
       "<table border=\"1\" class=\"dataframe\">\n",
       "  <thead>\n",
       "    <tr style=\"text-align: right;\">\n",
       "      <th></th>\n",
       "      <th>name</th>\n",
       "      <th>platform</th>\n",
       "      <th>year_of_release</th>\n",
       "      <th>genre</th>\n",
       "      <th>na_sales</th>\n",
       "      <th>eu_sales</th>\n",
       "      <th>jp_sales</th>\n",
       "      <th>other_sales</th>\n",
       "      <th>critic_score</th>\n",
       "      <th>user_score</th>\n",
       "      <th>rating</th>\n",
       "    </tr>\n",
       "  </thead>\n",
       "  <tbody>\n",
       "    <tr>\n",
       "      <th>0</th>\n",
       "      <td>Wii Sports</td>\n",
       "      <td>Wii</td>\n",
       "      <td>2006.0</td>\n",
       "      <td>Sports</td>\n",
       "      <td>41.36</td>\n",
       "      <td>28.96</td>\n",
       "      <td>3.77</td>\n",
       "      <td>8.45</td>\n",
       "      <td>76.0</td>\n",
       "      <td>8</td>\n",
       "      <td>E</td>\n",
       "    </tr>\n",
       "    <tr>\n",
       "      <th>1</th>\n",
       "      <td>Super Mario Bros.</td>\n",
       "      <td>NES</td>\n",
       "      <td>1985.0</td>\n",
       "      <td>Platform</td>\n",
       "      <td>29.08</td>\n",
       "      <td>3.58</td>\n",
       "      <td>6.81</td>\n",
       "      <td>0.77</td>\n",
       "      <td>NaN</td>\n",
       "      <td>NaN</td>\n",
       "      <td>NaN</td>\n",
       "    </tr>\n",
       "    <tr>\n",
       "      <th>2</th>\n",
       "      <td>Mario Kart Wii</td>\n",
       "      <td>Wii</td>\n",
       "      <td>2008.0</td>\n",
       "      <td>Racing</td>\n",
       "      <td>15.68</td>\n",
       "      <td>12.76</td>\n",
       "      <td>3.79</td>\n",
       "      <td>3.29</td>\n",
       "      <td>82.0</td>\n",
       "      <td>8.3</td>\n",
       "      <td>E</td>\n",
       "    </tr>\n",
       "    <tr>\n",
       "      <th>3</th>\n",
       "      <td>Wii Sports Resort</td>\n",
       "      <td>Wii</td>\n",
       "      <td>2009.0</td>\n",
       "      <td>Sports</td>\n",
       "      <td>15.61</td>\n",
       "      <td>10.93</td>\n",
       "      <td>3.28</td>\n",
       "      <td>2.95</td>\n",
       "      <td>80.0</td>\n",
       "      <td>8</td>\n",
       "      <td>E</td>\n",
       "    </tr>\n",
       "    <tr>\n",
       "      <th>4</th>\n",
       "      <td>Pokemon Red/Pokemon Blue</td>\n",
       "      <td>GB</td>\n",
       "      <td>1996.0</td>\n",
       "      <td>Role-Playing</td>\n",
       "      <td>11.27</td>\n",
       "      <td>8.89</td>\n",
       "      <td>10.22</td>\n",
       "      <td>1.00</td>\n",
       "      <td>NaN</td>\n",
       "      <td>NaN</td>\n",
       "      <td>NaN</td>\n",
       "    </tr>\n",
       "    <tr>\n",
       "      <th>5</th>\n",
       "      <td>Tetris</td>\n",
       "      <td>GB</td>\n",
       "      <td>1989.0</td>\n",
       "      <td>Puzzle</td>\n",
       "      <td>23.20</td>\n",
       "      <td>2.26</td>\n",
       "      <td>4.22</td>\n",
       "      <td>0.58</td>\n",
       "      <td>NaN</td>\n",
       "      <td>NaN</td>\n",
       "      <td>NaN</td>\n",
       "    </tr>\n",
       "    <tr>\n",
       "      <th>6</th>\n",
       "      <td>New Super Mario Bros.</td>\n",
       "      <td>DS</td>\n",
       "      <td>2006.0</td>\n",
       "      <td>Platform</td>\n",
       "      <td>11.28</td>\n",
       "      <td>9.14</td>\n",
       "      <td>6.50</td>\n",
       "      <td>2.88</td>\n",
       "      <td>89.0</td>\n",
       "      <td>8.5</td>\n",
       "      <td>E</td>\n",
       "    </tr>\n",
       "    <tr>\n",
       "      <th>7</th>\n",
       "      <td>Wii Play</td>\n",
       "      <td>Wii</td>\n",
       "      <td>2006.0</td>\n",
       "      <td>Misc</td>\n",
       "      <td>13.96</td>\n",
       "      <td>9.18</td>\n",
       "      <td>2.93</td>\n",
       "      <td>2.84</td>\n",
       "      <td>58.0</td>\n",
       "      <td>6.6</td>\n",
       "      <td>E</td>\n",
       "    </tr>\n",
       "    <tr>\n",
       "      <th>8</th>\n",
       "      <td>New Super Mario Bros. Wii</td>\n",
       "      <td>Wii</td>\n",
       "      <td>2009.0</td>\n",
       "      <td>Platform</td>\n",
       "      <td>14.44</td>\n",
       "      <td>6.94</td>\n",
       "      <td>4.70</td>\n",
       "      <td>2.24</td>\n",
       "      <td>87.0</td>\n",
       "      <td>8.4</td>\n",
       "      <td>E</td>\n",
       "    </tr>\n",
       "    <tr>\n",
       "      <th>9</th>\n",
       "      <td>Duck Hunt</td>\n",
       "      <td>NES</td>\n",
       "      <td>1984.0</td>\n",
       "      <td>Shooter</td>\n",
       "      <td>26.93</td>\n",
       "      <td>0.63</td>\n",
       "      <td>0.28</td>\n",
       "      <td>0.47</td>\n",
       "      <td>NaN</td>\n",
       "      <td>NaN</td>\n",
       "      <td>NaN</td>\n",
       "    </tr>\n",
       "  </tbody>\n",
       "</table>\n",
       "</div>"
      ],
      "text/plain": [
       "                        name platform  year_of_release         genre  \\\n",
       "0                 Wii Sports      Wii           2006.0        Sports   \n",
       "1          Super Mario Bros.      NES           1985.0      Platform   \n",
       "2             Mario Kart Wii      Wii           2008.0        Racing   \n",
       "3          Wii Sports Resort      Wii           2009.0        Sports   \n",
       "4   Pokemon Red/Pokemon Blue       GB           1996.0  Role-Playing   \n",
       "5                     Tetris       GB           1989.0        Puzzle   \n",
       "6      New Super Mario Bros.       DS           2006.0      Platform   \n",
       "7                   Wii Play      Wii           2006.0          Misc   \n",
       "8  New Super Mario Bros. Wii      Wii           2009.0      Platform   \n",
       "9                  Duck Hunt      NES           1984.0       Shooter   \n",
       "\n",
       "   na_sales  eu_sales  jp_sales  other_sales  critic_score user_score rating  \n",
       "0     41.36     28.96      3.77         8.45          76.0          8      E  \n",
       "1     29.08      3.58      6.81         0.77           NaN        NaN    NaN  \n",
       "2     15.68     12.76      3.79         3.29          82.0        8.3      E  \n",
       "3     15.61     10.93      3.28         2.95          80.0          8      E  \n",
       "4     11.27      8.89     10.22         1.00           NaN        NaN    NaN  \n",
       "5     23.20      2.26      4.22         0.58           NaN        NaN    NaN  \n",
       "6     11.28      9.14      6.50         2.88          89.0        8.5      E  \n",
       "7     13.96      9.18      2.93         2.84          58.0        6.6      E  \n",
       "8     14.44      6.94      4.70         2.24          87.0        8.4      E  \n",
       "9     26.93      0.63      0.28         0.47           NaN        NaN    NaN  "
      ]
     },
     "execution_count": 4,
     "metadata": {},
     "output_type": "execute_result"
    }
   ],
   "source": [
    "#Приведем название колонок к нижнему регистру\n",
    "data.columns = map(str.lower, data.columns)\n",
    "data.head(10)"
   ]
  },
  {
   "cell_type": "code",
   "execution_count": 5,
   "metadata": {},
   "outputs": [
    {
     "data": {
      "text/plain": [
       "False    16712\n",
       "dtype: int64"
      ]
     },
     "execution_count": 5,
     "metadata": {},
     "output_type": "execute_result"
    }
   ],
   "source": [
    "# Проверим наличие дупликатов\n",
    "data.duplicated().sum()\n",
    "#Удалим неявные дупликаты\n",
    "data[['name', 'platform', 'year_of_release']].drop_duplicates()\n",
    "dupl = data[['name', 'platform', 'year_of_release']].duplicated()\n",
    "dupl[dupl].index\n",
    "data.drop([659, 16240, 16230],inplace=True)\n",
    "data[['name', 'platform', 'year_of_release']].duplicated().value_counts()"
   ]
  },
  {
   "cell_type": "markdown",
   "metadata": {},
   "source": [
    "***Работа с пропусками:***\n",
    "1. Проверим наличие пропусков\n",
    "2. Заполним в колонках name, genre пустые значение на unknown\n",
    "3. Заменим tbd (- to be determined) на NaN. Вероятно не успели внести в датасет значения, или прошло недостаточно времени, чтобы данные были выверены и актуальны\n",
    "4. Заменим пропуски в rating на неизвестно, вероятно недостаточное количество оценок повлияло на возможность выставления рэйтинга\n",
    "5. удалим те строки в которых у игр не указан год выпуска или он равен 0"
   ]
  },
  {
   "cell_type": "code",
   "execution_count": 6,
   "metadata": {
    "scrolled": true
   },
   "outputs": [],
   "source": [
    "data.isna().sum()\n",
    "data.fillna(\n",
    "    {\"name\" : \"Unknown\", \n",
    "     \"genre\" : \"Unknown\"}\n",
    "    , inplace=True)"
   ]
  },
  {
   "cell_type": "code",
   "execution_count": 7,
   "metadata": {},
   "outputs": [],
   "source": [
    "data['user_score'] = data['user_score'].replace('tbd', np.NaN)\n",
    "data[\"rating\"] = data['rating'].fillna(\"undefined\")"
   ]
  },
  {
   "cell_type": "code",
   "execution_count": 8,
   "metadata": {},
   "outputs": [],
   "source": [
    "data.dropna(subset=['year_of_release'])\n",
    "data['year_of_release'].isna().value_counts()\n",
    "data = data[data.year_of_release != 0 ]"
   ]
  },
  {
   "cell_type": "code",
   "execution_count": 38,
   "metadata": {},
   "outputs": [
    {
     "data": {
      "text/plain": [
       "False    16443\n",
       "True       269\n",
       "Name: year_of_release, dtype: int64"
      ]
     },
     "execution_count": 38,
     "metadata": {},
     "output_type": "execute_result"
    }
   ],
   "source": [
    "# код ревьюера\n",
    "data['year_of_release'].isna().value_counts()"
   ]
  },
  {
   "cell_type": "markdown",
   "metadata": {},
   "source": [
    "***Изменение типов данных в нужных стобцах:***\n",
    "1. Приведем годы и оценки критиков в целочисленный тип, так как эти значения целые\n",
    "2. Оценки пользователей приведем к типу float, так как в стобце только, нецелые числа"
   ]
  },
  {
   "cell_type": "code",
   "execution_count": 9,
   "metadata": {
    "scrolled": true
   },
   "outputs": [
    {
     "name": "stdout",
     "output_type": "stream",
     "text": [
      "<class 'pandas.core.frame.DataFrame'>\n",
      "Int64Index: 16712 entries, 0 to 16714\n",
      "Data columns (total 11 columns):\n",
      " #   Column           Non-Null Count  Dtype  \n",
      "---  ------           --------------  -----  \n",
      " 0   name             16712 non-null  object \n",
      " 1   platform         16712 non-null  object \n",
      " 2   year_of_release  16443 non-null  Int64  \n",
      " 3   genre            16712 non-null  object \n",
      " 4   na_sales         16712 non-null  float64\n",
      " 5   eu_sales         16712 non-null  float64\n",
      " 6   jp_sales         16712 non-null  float64\n",
      " 7   other_sales      16712 non-null  float64\n",
      " 8   critic_score     8135 non-null   Int64  \n",
      " 9   user_score       7588 non-null   float64\n",
      " 10  rating           16712 non-null  object \n",
      "dtypes: Int64(2), float64(5), object(4)\n",
      "memory usage: 1.6+ MB\n"
     ]
    }
   ],
   "source": [
    "data['critic_score'].unique()\n",
    "data['year_of_release'] = data['year_of_release'].astype('Int64')\n",
    "data['critic_score'] = data['critic_score'].astype('Int64')\n",
    "data['user_score'] = pd.to_numeric(data['user_score'], errors='coerce')\n",
    "data.info()"
   ]
  },
  {
   "cell_type": "markdown",
   "metadata": {},
   "source": [
    "***Создание столбца с суммарными продажами, окончательный взгляд на обработанный датафрэйм***"
   ]
  },
  {
   "cell_type": "code",
   "execution_count": 10,
   "metadata": {
    "scrolled": true
   },
   "outputs": [
    {
     "data": {
      "text/html": [
       "<div>\n",
       "<style scoped>\n",
       "    .dataframe tbody tr th:only-of-type {\n",
       "        vertical-align: middle;\n",
       "    }\n",
       "\n",
       "    .dataframe tbody tr th {\n",
       "        vertical-align: top;\n",
       "    }\n",
       "\n",
       "    .dataframe thead th {\n",
       "        text-align: right;\n",
       "    }\n",
       "</style>\n",
       "<table border=\"1\" class=\"dataframe\">\n",
       "  <thead>\n",
       "    <tr style=\"text-align: right;\">\n",
       "      <th></th>\n",
       "      <th>name</th>\n",
       "      <th>platform</th>\n",
       "      <th>year_of_release</th>\n",
       "      <th>genre</th>\n",
       "      <th>na_sales</th>\n",
       "      <th>eu_sales</th>\n",
       "      <th>jp_sales</th>\n",
       "      <th>other_sales</th>\n",
       "      <th>critic_score</th>\n",
       "      <th>user_score</th>\n",
       "      <th>rating</th>\n",
       "      <th>total_sales</th>\n",
       "    </tr>\n",
       "  </thead>\n",
       "  <tbody>\n",
       "    <tr>\n",
       "      <th>0</th>\n",
       "      <td>Wii Sports</td>\n",
       "      <td>Wii</td>\n",
       "      <td>2006</td>\n",
       "      <td>Sports</td>\n",
       "      <td>41.36</td>\n",
       "      <td>28.96</td>\n",
       "      <td>3.77</td>\n",
       "      <td>8.45</td>\n",
       "      <td>76</td>\n",
       "      <td>8.0</td>\n",
       "      <td>E</td>\n",
       "      <td>82.54</td>\n",
       "    </tr>\n",
       "    <tr>\n",
       "      <th>1</th>\n",
       "      <td>Super Mario Bros.</td>\n",
       "      <td>NES</td>\n",
       "      <td>1985</td>\n",
       "      <td>Platform</td>\n",
       "      <td>29.08</td>\n",
       "      <td>3.58</td>\n",
       "      <td>6.81</td>\n",
       "      <td>0.77</td>\n",
       "      <td>&lt;NA&gt;</td>\n",
       "      <td>NaN</td>\n",
       "      <td>undefined</td>\n",
       "      <td>40.24</td>\n",
       "    </tr>\n",
       "    <tr>\n",
       "      <th>2</th>\n",
       "      <td>Mario Kart Wii</td>\n",
       "      <td>Wii</td>\n",
       "      <td>2008</td>\n",
       "      <td>Racing</td>\n",
       "      <td>15.68</td>\n",
       "      <td>12.76</td>\n",
       "      <td>3.79</td>\n",
       "      <td>3.29</td>\n",
       "      <td>82</td>\n",
       "      <td>8.3</td>\n",
       "      <td>E</td>\n",
       "      <td>35.52</td>\n",
       "    </tr>\n",
       "    <tr>\n",
       "      <th>3</th>\n",
       "      <td>Wii Sports Resort</td>\n",
       "      <td>Wii</td>\n",
       "      <td>2009</td>\n",
       "      <td>Sports</td>\n",
       "      <td>15.61</td>\n",
       "      <td>10.93</td>\n",
       "      <td>3.28</td>\n",
       "      <td>2.95</td>\n",
       "      <td>80</td>\n",
       "      <td>8.0</td>\n",
       "      <td>E</td>\n",
       "      <td>32.77</td>\n",
       "    </tr>\n",
       "    <tr>\n",
       "      <th>4</th>\n",
       "      <td>Pokemon Red/Pokemon Blue</td>\n",
       "      <td>GB</td>\n",
       "      <td>1996</td>\n",
       "      <td>Role-Playing</td>\n",
       "      <td>11.27</td>\n",
       "      <td>8.89</td>\n",
       "      <td>10.22</td>\n",
       "      <td>1.00</td>\n",
       "      <td>&lt;NA&gt;</td>\n",
       "      <td>NaN</td>\n",
       "      <td>undefined</td>\n",
       "      <td>31.38</td>\n",
       "    </tr>\n",
       "    <tr>\n",
       "      <th>5</th>\n",
       "      <td>Tetris</td>\n",
       "      <td>GB</td>\n",
       "      <td>1989</td>\n",
       "      <td>Puzzle</td>\n",
       "      <td>23.20</td>\n",
       "      <td>2.26</td>\n",
       "      <td>4.22</td>\n",
       "      <td>0.58</td>\n",
       "      <td>&lt;NA&gt;</td>\n",
       "      <td>NaN</td>\n",
       "      <td>undefined</td>\n",
       "      <td>30.26</td>\n",
       "    </tr>\n",
       "    <tr>\n",
       "      <th>6</th>\n",
       "      <td>New Super Mario Bros.</td>\n",
       "      <td>DS</td>\n",
       "      <td>2006</td>\n",
       "      <td>Platform</td>\n",
       "      <td>11.28</td>\n",
       "      <td>9.14</td>\n",
       "      <td>6.50</td>\n",
       "      <td>2.88</td>\n",
       "      <td>89</td>\n",
       "      <td>8.5</td>\n",
       "      <td>E</td>\n",
       "      <td>29.80</td>\n",
       "    </tr>\n",
       "    <tr>\n",
       "      <th>7</th>\n",
       "      <td>Wii Play</td>\n",
       "      <td>Wii</td>\n",
       "      <td>2006</td>\n",
       "      <td>Misc</td>\n",
       "      <td>13.96</td>\n",
       "      <td>9.18</td>\n",
       "      <td>2.93</td>\n",
       "      <td>2.84</td>\n",
       "      <td>58</td>\n",
       "      <td>6.6</td>\n",
       "      <td>E</td>\n",
       "      <td>28.91</td>\n",
       "    </tr>\n",
       "    <tr>\n",
       "      <th>8</th>\n",
       "      <td>New Super Mario Bros. Wii</td>\n",
       "      <td>Wii</td>\n",
       "      <td>2009</td>\n",
       "      <td>Platform</td>\n",
       "      <td>14.44</td>\n",
       "      <td>6.94</td>\n",
       "      <td>4.70</td>\n",
       "      <td>2.24</td>\n",
       "      <td>87</td>\n",
       "      <td>8.4</td>\n",
       "      <td>E</td>\n",
       "      <td>28.32</td>\n",
       "    </tr>\n",
       "    <tr>\n",
       "      <th>9</th>\n",
       "      <td>Duck Hunt</td>\n",
       "      <td>NES</td>\n",
       "      <td>1984</td>\n",
       "      <td>Shooter</td>\n",
       "      <td>26.93</td>\n",
       "      <td>0.63</td>\n",
       "      <td>0.28</td>\n",
       "      <td>0.47</td>\n",
       "      <td>&lt;NA&gt;</td>\n",
       "      <td>NaN</td>\n",
       "      <td>undefined</td>\n",
       "      <td>28.31</td>\n",
       "    </tr>\n",
       "  </tbody>\n",
       "</table>\n",
       "</div>"
      ],
      "text/plain": [
       "                        name platform  year_of_release         genre  \\\n",
       "0                 Wii Sports      Wii             2006        Sports   \n",
       "1          Super Mario Bros.      NES             1985      Platform   \n",
       "2             Mario Kart Wii      Wii             2008        Racing   \n",
       "3          Wii Sports Resort      Wii             2009        Sports   \n",
       "4   Pokemon Red/Pokemon Blue       GB             1996  Role-Playing   \n",
       "5                     Tetris       GB             1989        Puzzle   \n",
       "6      New Super Mario Bros.       DS             2006      Platform   \n",
       "7                   Wii Play      Wii             2006          Misc   \n",
       "8  New Super Mario Bros. Wii      Wii             2009      Platform   \n",
       "9                  Duck Hunt      NES             1984       Shooter   \n",
       "\n",
       "   na_sales  eu_sales  jp_sales  other_sales  critic_score  user_score  \\\n",
       "0     41.36     28.96      3.77         8.45            76         8.0   \n",
       "1     29.08      3.58      6.81         0.77          <NA>         NaN   \n",
       "2     15.68     12.76      3.79         3.29            82         8.3   \n",
       "3     15.61     10.93      3.28         2.95            80         8.0   \n",
       "4     11.27      8.89     10.22         1.00          <NA>         NaN   \n",
       "5     23.20      2.26      4.22         0.58          <NA>         NaN   \n",
       "6     11.28      9.14      6.50         2.88            89         8.5   \n",
       "7     13.96      9.18      2.93         2.84            58         6.6   \n",
       "8     14.44      6.94      4.70         2.24            87         8.4   \n",
       "9     26.93      0.63      0.28         0.47          <NA>         NaN   \n",
       "\n",
       "      rating  total_sales  \n",
       "0          E        82.54  \n",
       "1  undefined        40.24  \n",
       "2          E        35.52  \n",
       "3          E        32.77  \n",
       "4  undefined        31.38  \n",
       "5  undefined        30.26  \n",
       "6          E        29.80  \n",
       "7          E        28.91  \n",
       "8          E        28.32  \n",
       "9  undefined        28.31  "
      ]
     },
     "execution_count": 10,
     "metadata": {},
     "output_type": "execute_result"
    }
   ],
   "source": [
    "# Создадим новый столбец с сумарными продажами по всем регионам\n",
    "data['total_sales'] = data['na_sales'] + data['eu_sales'] + data['jp_sales'] + data['other_sales']\n",
    "data.head(10)\n"
   ]
  },
  {
   "cell_type": "markdown",
   "metadata": {},
   "source": [
    "Данные готовы к анализу. Было выполнено следующее.\n",
    "\n",
    "1. Название столбцов было приведено к нижнему регистру\n",
    "2. Восстановлены пропуски в строках.\n",
    "3. Добавлен столбец суммарных продаж."
   ]
  },
  {
   "cell_type": "markdown",
   "metadata": {},
   "source": [
    "# Шаг 3 - Исследовательский анализ данных <a class=\"anchor\" id=\"chapter3\"></a>"
   ]
  },
  {
   "cell_type": "markdown",
   "metadata": {},
   "source": [
    "Во время исследования данных, нужно выполнить следующие шаги:\n",
    "1. Посмотрите, сколько игр выпускалось в разные годы. Важны ли данные за все периоды?\n",
    "2. Посмотрите, как менялись продажи по платформам. Выберите платформы с наибольшими суммарными продажами и постройте распределение по годам. За какой характерный срок появляются новые и исчезают старые платформы?\n",
    "3. Возьмите данные за соответствующий актуальный период. Актуальный период определите самостоятельно в результате исследования предыдущих вопросов. Основной фактор — эти данные помогут построить прогноз на 2017 год. Не учитывайте в работе данные за предыдущие годы.\n",
    "4. Какие платформы лидируют по продажам, растут или падают? Выберите несколько потенциально прибыльных платформ.\n",
    "5. Постройте график «ящик с усами» по глобальным продажам игр в разбивке по платформам. Опишите результат.\n",
    "6. Посмотрите, как влияют на продажи внутри одной популярной платформы отзывы пользователей и критиков. Постройте диаграмму рассеяния и посчитайте корреляцию между отзывами и продажами. Сформулируйте выводы.\n",
    "7. Соотнесите выводы с продажами игр на других платформах.\n",
    "8. Посмотрите на общее распределение игр по жанрам. Что можно сказать о самых прибыльных жанрах? Выделяются ли жанры с высокими и низкими продажами?"
   ]
  },
  {
   "cell_type": "markdown",
   "metadata": {},
   "source": [
    "Получение ответа на первый вопрос <a class=\"anchor\" id=\"section_3_1\"></a>"
   ]
  },
  {
   "cell_type": "code",
   "execution_count": 11,
   "metadata": {
    "scrolled": true
   },
   "outputs": [
    {
     "data": {
      "text/html": [
       "<div>\n",
       "<style scoped>\n",
       "    .dataframe tbody tr th:only-of-type {\n",
       "        vertical-align: middle;\n",
       "    }\n",
       "\n",
       "    .dataframe tbody tr th {\n",
       "        vertical-align: top;\n",
       "    }\n",
       "\n",
       "    .dataframe thead th {\n",
       "        text-align: right;\n",
       "    }\n",
       "</style>\n",
       "<table border=\"1\" class=\"dataframe\">\n",
       "  <thead>\n",
       "    <tr style=\"text-align: right;\">\n",
       "      <th></th>\n",
       "      <th>games_count</th>\n",
       "    </tr>\n",
       "    <tr>\n",
       "      <th>year_of_release</th>\n",
       "      <th></th>\n",
       "    </tr>\n",
       "  </thead>\n",
       "  <tbody>\n",
       "    <tr>\n",
       "      <th>1980</th>\n",
       "      <td>9</td>\n",
       "    </tr>\n",
       "    <tr>\n",
       "      <th>1981</th>\n",
       "      <td>46</td>\n",
       "    </tr>\n",
       "    <tr>\n",
       "      <th>1982</th>\n",
       "      <td>36</td>\n",
       "    </tr>\n",
       "    <tr>\n",
       "      <th>1983</th>\n",
       "      <td>17</td>\n",
       "    </tr>\n",
       "    <tr>\n",
       "      <th>1984</th>\n",
       "      <td>14</td>\n",
       "    </tr>\n",
       "    <tr>\n",
       "      <th>1985</th>\n",
       "      <td>14</td>\n",
       "    </tr>\n",
       "    <tr>\n",
       "      <th>1986</th>\n",
       "      <td>21</td>\n",
       "    </tr>\n",
       "    <tr>\n",
       "      <th>1987</th>\n",
       "      <td>16</td>\n",
       "    </tr>\n",
       "    <tr>\n",
       "      <th>1988</th>\n",
       "      <td>15</td>\n",
       "    </tr>\n",
       "    <tr>\n",
       "      <th>1989</th>\n",
       "      <td>17</td>\n",
       "    </tr>\n",
       "    <tr>\n",
       "      <th>1990</th>\n",
       "      <td>16</td>\n",
       "    </tr>\n",
       "    <tr>\n",
       "      <th>1991</th>\n",
       "      <td>41</td>\n",
       "    </tr>\n",
       "    <tr>\n",
       "      <th>1992</th>\n",
       "      <td>43</td>\n",
       "    </tr>\n",
       "    <tr>\n",
       "      <th>1993</th>\n",
       "      <td>61</td>\n",
       "    </tr>\n",
       "    <tr>\n",
       "      <th>1994</th>\n",
       "      <td>121</td>\n",
       "    </tr>\n",
       "    <tr>\n",
       "      <th>1995</th>\n",
       "      <td>219</td>\n",
       "    </tr>\n",
       "    <tr>\n",
       "      <th>1996</th>\n",
       "      <td>263</td>\n",
       "    </tr>\n",
       "    <tr>\n",
       "      <th>1997</th>\n",
       "      <td>289</td>\n",
       "    </tr>\n",
       "    <tr>\n",
       "      <th>1998</th>\n",
       "      <td>379</td>\n",
       "    </tr>\n",
       "    <tr>\n",
       "      <th>1999</th>\n",
       "      <td>338</td>\n",
       "    </tr>\n",
       "    <tr>\n",
       "      <th>2000</th>\n",
       "      <td>350</td>\n",
       "    </tr>\n",
       "    <tr>\n",
       "      <th>2001</th>\n",
       "      <td>481</td>\n",
       "    </tr>\n",
       "    <tr>\n",
       "      <th>2002</th>\n",
       "      <td>829</td>\n",
       "    </tr>\n",
       "    <tr>\n",
       "      <th>2003</th>\n",
       "      <td>775</td>\n",
       "    </tr>\n",
       "    <tr>\n",
       "      <th>2004</th>\n",
       "      <td>762</td>\n",
       "    </tr>\n",
       "    <tr>\n",
       "      <th>2005</th>\n",
       "      <td>939</td>\n",
       "    </tr>\n",
       "    <tr>\n",
       "      <th>2006</th>\n",
       "      <td>1006</td>\n",
       "    </tr>\n",
       "    <tr>\n",
       "      <th>2007</th>\n",
       "      <td>1197</td>\n",
       "    </tr>\n",
       "    <tr>\n",
       "      <th>2008</th>\n",
       "      <td>1427</td>\n",
       "    </tr>\n",
       "    <tr>\n",
       "      <th>2009</th>\n",
       "      <td>1426</td>\n",
       "    </tr>\n",
       "    <tr>\n",
       "      <th>2010</th>\n",
       "      <td>1255</td>\n",
       "    </tr>\n",
       "    <tr>\n",
       "      <th>2011</th>\n",
       "      <td>1136</td>\n",
       "    </tr>\n",
       "    <tr>\n",
       "      <th>2012</th>\n",
       "      <td>652</td>\n",
       "    </tr>\n",
       "    <tr>\n",
       "      <th>2013</th>\n",
       "      <td>544</td>\n",
       "    </tr>\n",
       "    <tr>\n",
       "      <th>2014</th>\n",
       "      <td>581</td>\n",
       "    </tr>\n",
       "    <tr>\n",
       "      <th>2015</th>\n",
       "      <td>606</td>\n",
       "    </tr>\n",
       "    <tr>\n",
       "      <th>2016</th>\n",
       "      <td>502</td>\n",
       "    </tr>\n",
       "  </tbody>\n",
       "</table>\n",
       "</div>"
      ],
      "text/plain": [
       "                 games_count\n",
       "year_of_release             \n",
       "1980                       9\n",
       "1981                      46\n",
       "1982                      36\n",
       "1983                      17\n",
       "1984                      14\n",
       "1985                      14\n",
       "1986                      21\n",
       "1987                      16\n",
       "1988                      15\n",
       "1989                      17\n",
       "1990                      16\n",
       "1991                      41\n",
       "1992                      43\n",
       "1993                      61\n",
       "1994                     121\n",
       "1995                     219\n",
       "1996                     263\n",
       "1997                     289\n",
       "1998                     379\n",
       "1999                     338\n",
       "2000                     350\n",
       "2001                     481\n",
       "2002                     829\n",
       "2003                     775\n",
       "2004                     762\n",
       "2005                     939\n",
       "2006                    1006\n",
       "2007                    1197\n",
       "2008                    1427\n",
       "2009                    1426\n",
       "2010                    1255\n",
       "2011                    1136\n",
       "2012                     652\n",
       "2013                     544\n",
       "2014                     581\n",
       "2015                     606\n",
       "2016                     502"
      ]
     },
     "metadata": {},
     "output_type": "display_data"
    },
    {
     "data": {
      "image/png": "[encoded data removed]",
      "text/plain": [
       "<Figure size 1080x360 with 1 Axes>"
      ]
     },
     "metadata": {
      "needs_background": "light"
     },
     "output_type": "display_data"
    }
   ],
   "source": [
    "data['year_of_release'].max()\n",
    "data['year_of_release'].min()\n",
    "year_of_release_pivot_table = pd.pivot_table(data, index='year_of_release', values='name', aggfunc='count')\n",
    "year_of_release_pivot_table.columns = ['games_count']\n",
    "display(year_of_release_pivot_table)\n",
    "year_of_release_pivot_table.plot(kind = 'bar',figsize=(15,5))\n",
    "plt.title('Зависимость числа игр от года выпуска')\n",
    "plt.xlabel('год выпуска')\n",
    "plt.ylabel('Число игр')\n",
    "plt.show()"
   ]
  },
  {
   "cell_type": "markdown",
   "metadata": {},
   "source": [
    "На диаграмме наблюдается, что до 1994 года количество выпущенных игр оставалось на низком уровне. Это может быть обусловлено ограниченными возможностями вычислительной техники и операционных систем в те годы, а также тем, что компьютеры были далеко не у всех пользователей. Освобождение ресурсов компьютеров для игр также не было приоритетом, поскольку они использовались в основном для других целей.\n",
    "\n",
    "В 2002 году произошёл резкий скачок в количестве выпускаемых игр в год, вероятно, благодаря развитию технологий и увеличению интереса к игровой индустрии. Пик этого роста был достигнут в 2008-2009 годах. Однако последующий спад в производстве игр начался в результате распространения мобильных устройств и интеграции социальных сетей в повседневную жизнь. Эти изменения снизили интерес к традиционным видам игр, что отразилось на их производстве."
   ]
  },
  {
   "cell_type": "markdown",
   "metadata": {},
   "source": [
    "Получение ответа на 2 вопрос <a class=\"anchor\" id=\"section_3_2\"></a>"
   ]
  },
  {
   "cell_type": "code",
   "execution_count": 12,
   "metadata": {
    "scrolled": true
   },
   "outputs": [
    {
     "name": "stdout",
     "output_type": "stream",
     "text": [
      "          total_sales\n",
      "platform             \n",
      "PS2           1255.77\n",
      "X360           971.42\n",
      "PS3            939.64\n",
      "Wii            907.51\n",
      "DS             806.12\n",
      "PS             730.86\n",
      "GBA            317.85\n",
      "PS4            314.14\n",
      "PSP            294.05\n",
      "PC             259.51\n"
     ]
    },
    {
     "data": {
      "image/png": "[encoded data removed]",
      "text/plain": [
       "<Figure size 1080x360 with 1 Axes>"
      ]
     },
     "metadata": {
      "needs_background": "light"
     },
     "output_type": "display_data"
    }
   ],
   "source": [
    "top10_platforms = data.pivot_table(index = 'platform', \n",
    "                                       values = 'total_sales', \n",
    "                                       aggfunc = 'sum').sort_values(by = 'total_sales', \n",
    "                                                                    ascending = False).head(10)\n",
    "print(top10_platforms)\n",
    "top10_platforms.plot(y=\"total_sales\", kind='bar', figsize=(15,5))\n",
    "plt.xlabel('Платформа')\n",
    "plt.ylabel('Число игр')\n",
    "plt.show()"
   ]
  },
  {
   "cell_type": "markdown",
   "metadata": {},
   "source": [
    "Представили самые популярные платформы"
   ]
  },
  {
   "cell_type": "code",
   "execution_count": 13,
   "metadata": {
    "scrolled": false
   },
   "outputs": [
    {
     "data": {
      "image/png": "[encoded data removed]",
      "text/plain": [
       "<Figure size 1080x360 with 1 Axes>"
      ]
     },
     "metadata": {
      "needs_background": "light"
     },
     "output_type": "display_data"
    },
    {
     "data": {
      "image/png": "[encoded data removed]",
      "text/plain": [
       "<Figure size 1080x360 with 1 Axes>"
      ]
     },
     "metadata": {
      "needs_background": "light"
     },
     "output_type": "display_data"
    },
    {
     "data": {
      "image/png": "[encoded data removed]",
      "text/plain": [
       "<Figure size 1080x360 with 1 Axes>"
      ]
     },
     "metadata": {
      "needs_background": "light"
     },
     "output_type": "display_data"
    },
    {
     "data": {
      "image/png": "[encoded data removed]",
      "text/plain": [
       "<Figure size 1080x360 with 1 Axes>"
      ]
     },
     "metadata": {
      "needs_background": "light"
     },
     "output_type": "display_data"
    },
    {
     "data": {
      "image/png": "[encoded data removed]",
      "text/plain": [
       "<Figure size 1080x360 with 1 Axes>"
      ]
     },
     "metadata": {
      "needs_background": "light"
     },
     "output_type": "display_data"
    },
    {
     "data": {
      "image/png": "[encoded data removed]",
      "text/plain": [
       "<Figure size 1080x360 with 1 Axes>"
      ]
     },
     "metadata": {
      "needs_background": "light"
     },
     "output_type": "display_data"
    }
   ],
   "source": [
    "data[data['platform'] == 'PS2'].pivot_table(index = 'year_of_release', \n",
    "                                                     values = 'total_sales', \n",
    "                                                     aggfunc = 'sum').plot(kind = 'bar', \n",
    "                                                                           figsize=(15,5))\n",
    "plt.title('PS2')\n",
    "plt.xlabel('Платформа')\n",
    "plt.ylabel('Число продаж')\n",
    "plt.show()\n",
    "data[data['platform'] == 'X360'].pivot_table(index = 'year_of_release', \n",
    "                                                     values = 'total_sales', \n",
    "                                                     aggfunc = 'sum').plot(kind = 'bar', \n",
    "                                                                           figsize=(15,5))\n",
    "plt.title('X360')\n",
    "plt.xlabel('Платформа')\n",
    "plt.ylabel('Число продаж')\n",
    "plt.show()\n",
    "data[data['platform'] == 'PS3'].pivot_table(index = 'year_of_release', \n",
    "                                                     values = 'total_sales', \n",
    "                                                     aggfunc = 'sum').plot(kind = 'bar', \n",
    "                                                                           figsize=(15,5))\n",
    "plt.title('PS3')\n",
    "plt.xlabel('Платформа')\n",
    "plt.ylabel('Число продаж')\n",
    "plt.show()\n",
    "data[data['platform'] == 'Wii'].pivot_table(index = 'year_of_release', \n",
    "                                                     values = 'total_sales', \n",
    "                                                     aggfunc = 'sum').plot(kind = 'bar', \n",
    "                                                                           figsize=(15,5))\n",
    "plt.title('Wii')\n",
    "plt.xlabel('Платформа')\n",
    "plt.ylabel('Число продаж')\n",
    "plt.show()\n",
    "data[data['platform'] == 'DS'].pivot_table(index = 'year_of_release', \n",
    "                                                     values = 'total_sales', \n",
    "                                                     aggfunc = 'sum').plot(kind = 'bar', \n",
    "                                                                           figsize=(15,5))\n",
    "plt.title('DS')\n",
    "plt.xlabel('Платформа')\n",
    "plt.ylabel('Число продаж')\n",
    "plt.show()\n",
    "data[data['platform'] == 'PS'].pivot_table(index = 'year_of_release', \n",
    "                                                     values = 'total_sales', \n",
    "                                                     aggfunc = 'sum').plot(kind = 'bar', \n",
    "                                                                           figsize=(15,5))\n",
    "plt.title('PS')\n",
    "plt.xlabel('Платформа')\n",
    "plt.ylabel('Число продаж')\n",
    "plt.show()"
   ]
  },
  {
   "cell_type": "markdown",
   "metadata": {},
   "source": [
    "Можно отметить, что каждая из перечисленных игровых платформ имела примерно десятилетний жизненный цикл.\n",
    "\n",
    "Например, PlayStation 2 просуществовала с 2000 по 2010 год (точно 10 лет), Nintendo DS — с 2004 по 2013 год (9 лет), Xbox 360 — с 2006 по 2015 год (также 9 лет), а Wii — с 2006 по 2015 год (также 9 лет). PlayStation 3 осталась в строю с 2006 по 2016 год (10 лет).\n",
    "\n",
    "Стоит заметить, что плафторма DS, и ее последователь 3DS популярны в родном регионе, что также отражено в данных и это влияет на продолжительность жизни плафтормы\n",
    "\n",
    "Таким образом, средний срок службы игровой консоли составляет около десяти лет. Это является закономерным явлением, поскольку технический прогресс продвигает аппаратные возможности, и \"железо\" старых консолей перестает соответствовать требованиям современных игр."
   ]
  },
  {
   "cell_type": "markdown",
   "metadata": {},
   "source": [
    "Ответ на 3 вопрос <a class=\"anchor\" id=\"section_3_3\"></a>"
   ]
  },
  {
   "cell_type": "markdown",
   "metadata": {},
   "source": [
    "В 2006 году наблюдается заметный всплеск в появлении новых игровых платформ, таких как Wii, PS3 и Xbox 360. Интересно отметить, что характерный срок жизни этих платформ составляет около десяти лет, что становится явным к 2013 году, когда мы видим их активный спад.\n",
    "\n",
    "Этот период также характеризуется возрастанием интереса к новым платформам, которые остаются актуальными в наше время. Эти платформы становятся основным объектом анализа и изучения для понимания текущих тенденций и перспектив развития игровой индустрии.\n",
    "\n",
    "Таким образом, по моему мнению, данные, наиболее репрезентативные для анализа, можно считать начиная с 2013 года, когда начинается переход от старых к новым игровым платформам."
   ]
  },
  {
   "cell_type": "code",
   "execution_count": 14,
   "metadata": {},
   "outputs": [],
   "source": [
    "actual_data = data.query('year_of_release >= 2013') #возьмем все данные после 2013 года"
   ]
  },
  {
   "cell_type": "markdown",
   "metadata": {},
   "source": [
    "Ответ на 4 вопрос <a class=\"anchor\" id=\"section_3_4\"></a>"
   ]
  },
  {
   "cell_type": "code",
   "execution_count": 41,
   "metadata": {
    "scrolled": false
   },
   "outputs": [
    {
     "data": {
      "image/png": "[encoded data removed]",
      "text/plain": [
       "<Figure size 1080x720 with 1 Axes>"
      ]
     },
     "metadata": {
      "needs_background": "light"
     },
     "output_type": "display_data"
    }
   ],
   "source": [
    "actual_data.pivot_table(index='year_of_release', \n",
    "                                                columns = 'platform', \n",
    "                                                values='total_sales', \n",
    "                                                aggfunc='sum').plot(figsize=(15, 10))\n",
    "\n",
    "plt.title('Продажи на разных платформах')\n",
    "plt.xlabel('Год выпуска')\n",
    "plt.ylabel('Мировые продажи')\n",
    "\n",
    "plt.xticks(list(actual_data['year_of_release'].unique())) #  код ревьюера\n",
    "\n",
    "plt.show()"
   ]
  },
  {
   "cell_type": "code",
   "execution_count": 16,
   "metadata": {},
   "outputs": [
    {
     "data": {
      "text/plain": [
       "<IntegerArray>\n",
       "[2013, 2015, 2014, 2016]\n",
       "Length: 4, dtype: Int64"
      ]
     },
     "execution_count": 16,
     "metadata": {},
     "output_type": "execute_result"
    }
   ],
   "source": [
    "actual_data['year_of_release'].unique()"
   ]
  },
  {
   "cell_type": "markdown",
   "metadata": {},
   "source": [
    "Продажи игр на всех платформах общим трендом идут на спад. Однако стоит отметить, что игры для PlayStation 4 (PS4) продолжают продаваться сравнительно лучше, вероятно, благодаря относительной новизне этой консоли на рынке. PS4 представляет собой потенциально прибыльную платформу, а также PC, который демонстрирует стабильные, хоть и небольшие, объемы продаж.\n",
    "\n",
    "Спрос на консоли Xbox 360 и PlayStation 3 падает наиболее резко, что может быть связано с их устаревшими техническими характеристиками и появлением более современных альтернатив. Для остальных консолей спрос уже давно упал или они вовсе перестали продаваться.\n",
    "\n",
    "Таким образом, среди перечисленных платформ потенциально прибыльными являются Nintendo 3DS, PlayStation 4 (PS4) и Xbox One (XOne), в то время как Xbox 360, PlayStation 3 и PSP (PlayStation Portable) скорее всего не будут иметь значительных продаж в будущем."
   ]
  },
  {
   "cell_type": "markdown",
   "metadata": {},
   "source": [
    "Ответ на 5 вопрос <a class=\"anchor\" id=\"section_3_5\"></a>"
   ]
  },
  {
   "cell_type": "code",
   "execution_count": 17,
   "metadata": {},
   "outputs": [
    {
     "data": {
      "image/png": "[encoded data removed]",
      "text/plain": [
       "<Figure size 1080x720 with 1 Axes>"
      ]
     },
     "metadata": {
      "needs_background": "light"
     },
     "output_type": "display_data"
    }
   ],
   "source": [
    "actual_data.pivot_table(index = 'name', \n",
    "                        columns = 'platform', \n",
    "                        values = 'total_sales', \n",
    "                        aggfunc = 'sum').plot(kind='box', ylim=(0,1.8), figsize=(15,10))\n",
    "plt.title('Продажи на разных платформах')\n",
    "plt.xlabel('Платформа')\n",
    "plt.ylabel('Мировые продажи')\n",
    "plt.show()"
   ]
  },
  {
   "cell_type": "markdown",
   "metadata": {},
   "source": [
    "Вывод\n",
    "Медианные продажи наибольшие у платформы Wii U, за ней следуют Xbox One, а затем PlayStation 4. Такое положение вещей с Xbox One и PlayStation 4 можно объяснить тем, что эти консоли были выпущены на рынок позже других. Они получили меньше времени для аккумулирования продаж, чем их предшественники.\n",
    "\n",
    "Почти на всех платформах наблюдаются многочисленные выбросы в данных о продажах. Вероятно, это связано с тем, что некоторые игры стали популярными и были распространены бесплатно или по сниженной цене, либо привлекли большое внимание геймеров, что повлекло за собой аномально высокие продажи.\n",
    "\n",
    "Также стоит отметить, что компьютерные игры (PC) обычно стоят дешевле, чем игры для консолей, и это может влиять на спрос и продажи. В дополнение к этому, игровые приставки часто обладают специализированными возможностями, которые делают их более удобными для игр, чем персональные компьютеры."
   ]
  },
  {
   "cell_type": "markdown",
   "metadata": {},
   "source": [
    "Ответ на 6 вопрос (для примера возьмем плтаформу 'PS4') <a class=\"anchor\" id=\"section_3_6\"></a>"
   ]
  },
  {
   "cell_type": "code",
   "execution_count": 18,
   "metadata": {},
   "outputs": [
    {
     "data": {
      "image/png": "[encoded data removed]",
      "text/plain": [
       "<Figure size 432x288 with 1 Axes>"
      ]
     },
     "metadata": {
      "needs_background": "light"
     },
     "output_type": "display_data"
    },
    {
     "name": "stdout",
     "output_type": "stream",
     "text": [
      "Матрица корреляций\n"
     ]
    },
    {
     "data": {
      "text/html": [
       "<div>\n",
       "<style scoped>\n",
       "    .dataframe tbody tr th:only-of-type {\n",
       "        vertical-align: middle;\n",
       "    }\n",
       "\n",
       "    .dataframe tbody tr th {\n",
       "        vertical-align: top;\n",
       "    }\n",
       "\n",
       "    .dataframe thead th {\n",
       "        text-align: right;\n",
       "    }\n",
       "</style>\n",
       "<table border=\"1\" class=\"dataframe\">\n",
       "  <thead>\n",
       "    <tr style=\"text-align: right;\">\n",
       "      <th></th>\n",
       "      <th>total_sales</th>\n",
       "      <th>user_score</th>\n",
       "    </tr>\n",
       "  </thead>\n",
       "  <tbody>\n",
       "    <tr>\n",
       "      <th>total_sales</th>\n",
       "      <td>1.000000</td>\n",
       "      <td>-0.031957</td>\n",
       "    </tr>\n",
       "    <tr>\n",
       "      <th>user_score</th>\n",
       "      <td>-0.031957</td>\n",
       "      <td>1.000000</td>\n",
       "    </tr>\n",
       "  </tbody>\n",
       "</table>\n",
       "</div>"
      ],
      "text/plain": [
       "             total_sales  user_score\n",
       "total_sales     1.000000   -0.031957\n",
       "user_score     -0.031957    1.000000"
      ]
     },
     "execution_count": 18,
     "metadata": {},
     "output_type": "execute_result"
    }
   ],
   "source": [
    "actual_data[actual_data['platform'] == \"PS4\"].plot.scatter(x= 'user_score', y = 'total_sales')\n",
    "plt.title('PS4')\n",
    "plt.show()\n",
    "print(\"Матрица корреляций\")\n",
    "actual_data[actual_data['platform'] == \"PS4\"][['total_sales','user_score']].corr()"
   ]
  },
  {
   "cell_type": "code",
   "execution_count": 19,
   "metadata": {
    "scrolled": true
   },
   "outputs": [
    {
     "data": {
      "image/png": "[encoded data removed]",
      "text/plain": [
       "<Figure size 432x288 with 1 Axes>"
      ]
     },
     "metadata": {
      "needs_background": "light"
     },
     "output_type": "display_data"
    },
    {
     "name": "stdout",
     "output_type": "stream",
     "text": [
      "Матрица корреляций\n"
     ]
    },
    {
     "data": {
      "text/html": [
       "<div>\n",
       "<style scoped>\n",
       "    .dataframe tbody tr th:only-of-type {\n",
       "        vertical-align: middle;\n",
       "    }\n",
       "\n",
       "    .dataframe tbody tr th {\n",
       "        vertical-align: top;\n",
       "    }\n",
       "\n",
       "    .dataframe thead th {\n",
       "        text-align: right;\n",
       "    }\n",
       "</style>\n",
       "<table border=\"1\" class=\"dataframe\">\n",
       "  <thead>\n",
       "    <tr style=\"text-align: right;\">\n",
       "      <th></th>\n",
       "      <th>total_sales</th>\n",
       "      <th>critic_score</th>\n",
       "    </tr>\n",
       "  </thead>\n",
       "  <tbody>\n",
       "    <tr>\n",
       "      <th>total_sales</th>\n",
       "      <td>1.000000</td>\n",
       "      <td>0.406568</td>\n",
       "    </tr>\n",
       "    <tr>\n",
       "      <th>critic_score</th>\n",
       "      <td>0.406568</td>\n",
       "      <td>1.000000</td>\n",
       "    </tr>\n",
       "  </tbody>\n",
       "</table>\n",
       "</div>"
      ],
      "text/plain": [
       "              total_sales  critic_score\n",
       "total_sales      1.000000      0.406568\n",
       "critic_score     0.406568      1.000000"
      ]
     },
     "execution_count": 19,
     "metadata": {},
     "output_type": "execute_result"
    }
   ],
   "source": [
    "actual_data[actual_data['platform'] == \"PS4\"].plot.scatter(x= 'critic_score', y = 'total_sales')\n",
    "plt.title('PS4')\n",
    "plt.show()\n",
    "print(\"Матрица корреляций\")\n",
    "actual_data[actual_data['platform'] == \"PS4\"][['total_sales','critic_score']].corr()"
   ]
  },
  {
   "cell_type": "markdown",
   "metadata": {},
   "source": [
    "В общем, мы наблюдаем закономерную тенденцию: чем выше оценка, тем качественнее игра и, как следствие, больше продаж. Однако есть и \"аномалии\", которые привлекают внимание. Например, в столбце с пользовательскими оценками есть игры, которые получили высокие рейтинги от пользователей, но при этом показали невысокие продажи. Это может быть обусловлено различными факторами, такими как недостаточная маркетинговая поддержка, невысокий уровень осведомленности о продукте или другие факторы, не связанные с качеством игры.\n",
    "\n",
    "Корреляция между общими продажами и оценками критиков составляет 0.4, что вполне ожидаемо, учитывая, что мы наблюдали эту зависимость на графиках. Это подтверждает, что мнение критиков о игре влияет на ее коммерческий успех, но не является единственным фактором.\n",
    "\n",
    "С другой стороны, корреляция между общими продажами и пользовательскими оценками отсутствует. Это может быть вызвано тем, что пользовательские оценки могут быть более субъективными и зависят от личных предпочтений и вкусов каждого игрока, а также от внешних факторов, таких как репутация разработчика или платформа, на которой вышла игра."
   ]
  },
  {
   "cell_type": "markdown",
   "metadata": {},
   "source": [
    "Ответ на 7 вопрос <a class=\"anchor\" id=\"section_3_7\"></a>"
   ]
  },
  {
   "cell_type": "code",
   "execution_count": 20,
   "metadata": {},
   "outputs": [
    {
     "name": "stdout",
     "output_type": "stream",
     "text": [
      "Матрица корреляций\n"
     ]
    },
    {
     "data": {
      "text/html": [
       "<div>\n",
       "<style scoped>\n",
       "    .dataframe tbody tr th:only-of-type {\n",
       "        vertical-align: middle;\n",
       "    }\n",
       "\n",
       "    .dataframe tbody tr th {\n",
       "        vertical-align: top;\n",
       "    }\n",
       "\n",
       "    .dataframe thead th {\n",
       "        text-align: right;\n",
       "    }\n",
       "</style>\n",
       "<table border=\"1\" class=\"dataframe\">\n",
       "  <thead>\n",
       "    <tr style=\"text-align: right;\">\n",
       "      <th></th>\n",
       "      <th>total_sales</th>\n",
       "      <th>critic_score</th>\n",
       "      <th>user_score</th>\n",
       "    </tr>\n",
       "  </thead>\n",
       "  <tbody>\n",
       "    <tr>\n",
       "      <th>total_sales</th>\n",
       "      <td>1.000000</td>\n",
       "      <td>0.357057</td>\n",
       "      <td>0.241504</td>\n",
       "    </tr>\n",
       "    <tr>\n",
       "      <th>critic_score</th>\n",
       "      <td>0.357057</td>\n",
       "      <td>1.000000</td>\n",
       "      <td>0.769536</td>\n",
       "    </tr>\n",
       "    <tr>\n",
       "      <th>user_score</th>\n",
       "      <td>0.241504</td>\n",
       "      <td>0.769536</td>\n",
       "      <td>1.000000</td>\n",
       "    </tr>\n",
       "  </tbody>\n",
       "</table>\n",
       "</div>"
      ],
      "text/plain": [
       "              total_sales  critic_score  user_score\n",
       "total_sales      1.000000      0.357057    0.241504\n",
       "critic_score     0.357057      1.000000    0.769536\n",
       "user_score       0.241504      0.769536    1.000000"
      ]
     },
     "execution_count": 20,
     "metadata": {},
     "output_type": "execute_result"
    }
   ],
   "source": [
    "print(\"Матрица корреляций\")\n",
    "actual_data[actual_data['platform'] == \"3DS\"][['total_sales', 'critic_score', 'user_score']].corr()"
   ]
  },
  {
   "cell_type": "code",
   "execution_count": 21,
   "metadata": {},
   "outputs": [
    {
     "name": "stdout",
     "output_type": "stream",
     "text": [
      "Матрица корреляций\n"
     ]
    },
    {
     "data": {
      "text/html": [
       "<div>\n",
       "<style scoped>\n",
       "    .dataframe tbody tr th:only-of-type {\n",
       "        vertical-align: middle;\n",
       "    }\n",
       "\n",
       "    .dataframe tbody tr th {\n",
       "        vertical-align: top;\n",
       "    }\n",
       "\n",
       "    .dataframe thead th {\n",
       "        text-align: right;\n",
       "    }\n",
       "</style>\n",
       "<table border=\"1\" class=\"dataframe\">\n",
       "  <thead>\n",
       "    <tr style=\"text-align: right;\">\n",
       "      <th></th>\n",
       "      <th>total_sales</th>\n",
       "      <th>critic_score</th>\n",
       "      <th>user_score</th>\n",
       "    </tr>\n",
       "  </thead>\n",
       "  <tbody>\n",
       "    <tr>\n",
       "      <th>total_sales</th>\n",
       "      <td>1.000000</td>\n",
       "      <td>0.416998</td>\n",
       "      <td>-0.068925</td>\n",
       "    </tr>\n",
       "    <tr>\n",
       "      <th>critic_score</th>\n",
       "      <td>0.416998</td>\n",
       "      <td>1.000000</td>\n",
       "      <td>0.472462</td>\n",
       "    </tr>\n",
       "    <tr>\n",
       "      <th>user_score</th>\n",
       "      <td>-0.068925</td>\n",
       "      <td>0.472462</td>\n",
       "      <td>1.000000</td>\n",
       "    </tr>\n",
       "  </tbody>\n",
       "</table>\n",
       "</div>"
      ],
      "text/plain": [
       "              total_sales  critic_score  user_score\n",
       "total_sales      1.000000      0.416998   -0.068925\n",
       "critic_score     0.416998      1.000000    0.472462\n",
       "user_score      -0.068925      0.472462    1.000000"
      ]
     },
     "execution_count": 21,
     "metadata": {},
     "output_type": "execute_result"
    }
   ],
   "source": [
    "print(\"Матрица корреляций\")\n",
    "actual_data[actual_data['platform'] == \"XOne\"][['total_sales', 'critic_score', 'user_score']].corr()"
   ]
  },
  {
   "cell_type": "code",
   "execution_count": 22,
   "metadata": {
    "scrolled": true
   },
   "outputs": [
    {
     "name": "stdout",
     "output_type": "stream",
     "text": [
      "Матрица корреляций\n"
     ]
    },
    {
     "data": {
      "text/html": [
       "<div>\n",
       "<style scoped>\n",
       "    .dataframe tbody tr th:only-of-type {\n",
       "        vertical-align: middle;\n",
       "    }\n",
       "\n",
       "    .dataframe tbody tr th {\n",
       "        vertical-align: top;\n",
       "    }\n",
       "\n",
       "    .dataframe thead th {\n",
       "        text-align: right;\n",
       "    }\n",
       "</style>\n",
       "<table border=\"1\" class=\"dataframe\">\n",
       "  <thead>\n",
       "    <tr style=\"text-align: right;\">\n",
       "      <th></th>\n",
       "      <th>total_sales</th>\n",
       "      <th>critic_score</th>\n",
       "      <th>user_score</th>\n",
       "    </tr>\n",
       "  </thead>\n",
       "  <tbody>\n",
       "    <tr>\n",
       "      <th>total_sales</th>\n",
       "      <td>1.000000</td>\n",
       "      <td>0.334285</td>\n",
       "      <td>0.002394</td>\n",
       "    </tr>\n",
       "    <tr>\n",
       "      <th>critic_score</th>\n",
       "      <td>0.334285</td>\n",
       "      <td>1.000000</td>\n",
       "      <td>0.599920</td>\n",
       "    </tr>\n",
       "    <tr>\n",
       "      <th>user_score</th>\n",
       "      <td>0.002394</td>\n",
       "      <td>0.599920</td>\n",
       "      <td>1.000000</td>\n",
       "    </tr>\n",
       "  </tbody>\n",
       "</table>\n",
       "</div>"
      ],
      "text/plain": [
       "              total_sales  critic_score  user_score\n",
       "total_sales      1.000000      0.334285    0.002394\n",
       "critic_score     0.334285      1.000000    0.599920\n",
       "user_score       0.002394      0.599920    1.000000"
      ]
     },
     "execution_count": 22,
     "metadata": {},
     "output_type": "execute_result"
    }
   ],
   "source": [
    "print(\"Матрица корреляций\")\n",
    "actual_data[actual_data['platform'] == \"PS3\"][['total_sales', 'critic_score', 'user_score']].corr()"
   ]
  },
  {
   "cell_type": "code",
   "execution_count": 23,
   "metadata": {},
   "outputs": [
    {
     "name": "stdout",
     "output_type": "stream",
     "text": [
      "Матрица корреляций\n"
     ]
    },
    {
     "data": {
      "text/html": [
       "<div>\n",
       "<style scoped>\n",
       "    .dataframe tbody tr th:only-of-type {\n",
       "        vertical-align: middle;\n",
       "    }\n",
       "\n",
       "    .dataframe tbody tr th {\n",
       "        vertical-align: top;\n",
       "    }\n",
       "\n",
       "    .dataframe thead th {\n",
       "        text-align: right;\n",
       "    }\n",
       "</style>\n",
       "<table border=\"1\" class=\"dataframe\">\n",
       "  <thead>\n",
       "    <tr style=\"text-align: right;\">\n",
       "      <th></th>\n",
       "      <th>total_sales</th>\n",
       "      <th>critic_score</th>\n",
       "      <th>user_score</th>\n",
       "    </tr>\n",
       "  </thead>\n",
       "  <tbody>\n",
       "    <tr>\n",
       "      <th>total_sales</th>\n",
       "      <td>1.000000</td>\n",
       "      <td>0.254742</td>\n",
       "      <td>0.000942</td>\n",
       "    </tr>\n",
       "    <tr>\n",
       "      <th>critic_score</th>\n",
       "      <td>0.254742</td>\n",
       "      <td>1.000000</td>\n",
       "      <td>0.611521</td>\n",
       "    </tr>\n",
       "    <tr>\n",
       "      <th>user_score</th>\n",
       "      <td>0.000942</td>\n",
       "      <td>0.611521</td>\n",
       "      <td>1.000000</td>\n",
       "    </tr>\n",
       "  </tbody>\n",
       "</table>\n",
       "</div>"
      ],
      "text/plain": [
       "              total_sales  critic_score  user_score\n",
       "total_sales      1.000000      0.254742    0.000942\n",
       "critic_score     0.254742      1.000000    0.611521\n",
       "user_score       0.000942      0.611521    1.000000"
      ]
     },
     "execution_count": 23,
     "metadata": {},
     "output_type": "execute_result"
    }
   ],
   "source": [
    "print(\"Матрица корреляций\")\n",
    "actual_data[actual_data['platform'] == \"PSV\"][['total_sales', 'critic_score', 'user_score']].corr()"
   ]
  },
  {
   "cell_type": "markdown",
   "metadata": {},
   "source": [
    "По убыванию корреляции(оценка критиков)--> XOne, PS4,WiiU, 3DS, PSV,PC. По убыванию корреляции(оценка пользователей) почти нет связи за исключением WiiU, 3DS."
   ]
  },
  {
   "cell_type": "markdown",
   "metadata": {},
   "source": [
    "Ответ на 8 вопрос <a class=\"anchor\" id=\"section_3_8\"></a>"
   ]
  },
  {
   "cell_type": "code",
   "execution_count": 24,
   "metadata": {
    "scrolled": true
   },
   "outputs": [
    {
     "name": "stdout",
     "output_type": "stream",
     "text": [
      "              total_sales\n",
      "genre                    \n",
      "Action             321.87\n",
      "Adventure           23.64\n",
      "Fighting            35.31\n",
      "Misc                62.82\n",
      "Platform            42.63\n",
      "Puzzle               3.17\n",
      "Racing              39.89\n",
      "Role-Playing       145.89\n",
      "Shooter            232.98\n",
      "Simulation          21.76\n",
      "Sports             150.65\n",
      "Strategy            10.08\n"
     ]
    },
    {
     "data": {
      "image/png": "[encoded data removed]",
      "text/plain": [
       "<Figure size 720x1080 with 1 Axes>"
      ]
     },
     "metadata": {},
     "output_type": "display_data"
    }
   ],
   "source": [
    "#Посмотрим на жанры у которых, наибольшие проаджи\n",
    "print(actual_data.pivot_table(index = 'genre', values = 'total_sales', aggfunc = 'sum'))\n",
    "actual_data.pivot_table(index = 'genre', \n",
    "                        values = 'total_sales', \n",
    "                        aggfunc = 'sum').sort_values(ascending=False, by = 'total_sales').plot(kind='pie', \n",
    "                                                                                               figsize=(10,15), \n",
    "                                                                                               y= 'total_sales', legend = False)\n",
    "plt.show()"
   ]
  },
  {
   "cell_type": "markdown",
   "metadata": {},
   "source": [
    "Но общие продажи не всегда описывают прибыльность, рассмотрим прибыль как отношение числа общих продаж к числу игр в этом жанре"
   ]
  },
  {
   "cell_type": "code",
   "execution_count": 25,
   "metadata": {},
   "outputs": [
    {
     "name": "stdout",
     "output_type": "stream",
     "text": [
      "              name  total_sales     ratio\n",
      "genre                                    \n",
      "Shooter        187       232.98  1.245882\n",
      "Sports         214       150.65  0.703972\n",
      "Platform        74        42.63  0.576081\n",
      "Role-Playing   292       145.89  0.499623\n",
      "Racing          85        39.89  0.469294\n",
      "Fighting        80        35.31  0.441375\n",
      "Action         766       321.87  0.420196\n",
      "Misc           155        62.82  0.405290\n",
      "Simulation      62        21.76  0.350968\n",
      "Puzzle          17         3.17  0.186471\n",
      "Strategy        56        10.08  0.180000\n",
      "Adventure      245        23.64  0.096490\n"
     ]
    },
    {
     "data": {
      "image/png": "[encoded data removed]",
      "text/plain": [
       "<Figure size 720x1080 with 1 Axes>"
      ]
     },
     "metadata": {},
     "output_type": "display_data"
    }
   ],
   "source": [
    "#Опишем прибыльность при помощи пропорции\n",
    "ratio_genres = actual_data.groupby('genre').agg({'name': 'count', 'total_sales': 'sum'}).sort_values(by='name', ascending=False)\n",
    "ratio_genres['ratio'] = ratio_genres['total_sales'] / ratio_genres['name']\n",
    "print(ratio_genres.sort_values(by='ratio', ascending=False))\n",
    "ratio_genres.plot(kind='pie', figsize=(10,15), y= 'ratio', legend = False)\n",
    "plt.show()"
   ]
  },
  {
   "cell_type": "markdown",
   "metadata": {},
   "source": [
    "Вывод:\n",
    " \n",
    "Самый прибылный жанр - Шутеры\n",
    "\n",
    "Самый не прибыльный - Adventure"
   ]
  },
  {
   "cell_type": "markdown",
   "metadata": {},
   "source": [
    "# Шаг 4 - Портрет пользователя каждого региона<a class=\"anchor\" id=\"chapter4\"></a>"
   ]
  },
  {
   "cell_type": "markdown",
   "metadata": {},
   "source": [
    "Составим портрет пользователя по трем кртирериям: платформа, жанр, рэйтинг"
   ]
  },
  {
   "cell_type": "markdown",
   "metadata": {},
   "source": [
    "***Северная Америка***"
   ]
  },
  {
   "cell_type": "code",
   "execution_count": 26,
   "metadata": {
    "scrolled": true
   },
   "outputs": [
    {
     "data": {
      "text/html": [
       "<div>\n",
       "<style scoped>\n",
       "    .dataframe tbody tr th:only-of-type {\n",
       "        vertical-align: middle;\n",
       "    }\n",
       "\n",
       "    .dataframe tbody tr th {\n",
       "        vertical-align: top;\n",
       "    }\n",
       "\n",
       "    .dataframe thead th {\n",
       "        text-align: right;\n",
       "    }\n",
       "</style>\n",
       "<table border=\"1\" class=\"dataframe\">\n",
       "  <thead>\n",
       "    <tr style=\"text-align: right;\">\n",
       "      <th></th>\n",
       "      <th>na_sales</th>\n",
       "    </tr>\n",
       "    <tr>\n",
       "      <th>platform</th>\n",
       "      <th></th>\n",
       "    </tr>\n",
       "  </thead>\n",
       "  <tbody>\n",
       "    <tr>\n",
       "      <th>PS4</th>\n",
       "      <td>108.74</td>\n",
       "    </tr>\n",
       "    <tr>\n",
       "      <th>XOne</th>\n",
       "      <td>93.12</td>\n",
       "    </tr>\n",
       "    <tr>\n",
       "      <th>X360</th>\n",
       "      <td>81.66</td>\n",
       "    </tr>\n",
       "    <tr>\n",
       "      <th>PS3</th>\n",
       "      <td>63.50</td>\n",
       "    </tr>\n",
       "    <tr>\n",
       "      <th>3DS</th>\n",
       "      <td>38.20</td>\n",
       "    </tr>\n",
       "  </tbody>\n",
       "</table>\n",
       "</div>"
      ],
      "text/plain": [
       "          na_sales\n",
       "platform          \n",
       "PS4         108.74\n",
       "XOne         93.12\n",
       "X360         81.66\n",
       "PS3          63.50\n",
       "3DS          38.20"
      ]
     },
     "metadata": {},
     "output_type": "display_data"
    },
    {
     "data": {
      "image/png": "[encoded data removed]",
      "text/plain": [
       "<Figure size 1080x360 with 1 Axes>"
      ]
     },
     "metadata": {},
     "output_type": "display_data"
    }
   ],
   "source": [
    "display(actual_data.pivot_table(index = 'platform', values = 'na_sales', aggfunc = 'sum').sort_values(ascending=False, \n",
    "                                                                                                     by = 'na_sales')[:5])\n",
    "actual_data.pivot_table(index = 'platform', \n",
    "                        values = 'na_sales', \n",
    "                        aggfunc = 'sum').sort_values(ascending=False, \n",
    "                                                     by = 'na_sales')[:5].plot(kind = 'pie', y = 'na_sales', legend = False,\n",
    "                                                                     figsize=(15,5))\n",
    "plt.title('Зависимость продаж в регионе от платформы')\n",
    "plt.ylabel('')\n",
    "plt.show()"
   ]
  },
  {
   "cell_type": "code",
   "execution_count": 27,
   "metadata": {
    "scrolled": true
   },
   "outputs": [
    {
     "data": {
      "text/html": [
       "<div>\n",
       "<style scoped>\n",
       "    .dataframe tbody tr th:only-of-type {\n",
       "        vertical-align: middle;\n",
       "    }\n",
       "\n",
       "    .dataframe tbody tr th {\n",
       "        vertical-align: top;\n",
       "    }\n",
       "\n",
       "    .dataframe thead th {\n",
       "        text-align: right;\n",
       "    }\n",
       "</style>\n",
       "<table border=\"1\" class=\"dataframe\">\n",
       "  <thead>\n",
       "    <tr style=\"text-align: right;\">\n",
       "      <th></th>\n",
       "      <th>na_sales</th>\n",
       "    </tr>\n",
       "    <tr>\n",
       "      <th>genre</th>\n",
       "      <th></th>\n",
       "    </tr>\n",
       "  </thead>\n",
       "  <tbody>\n",
       "    <tr>\n",
       "      <th>Action</th>\n",
       "      <td>126.05</td>\n",
       "    </tr>\n",
       "    <tr>\n",
       "      <th>Shooter</th>\n",
       "      <td>109.74</td>\n",
       "    </tr>\n",
       "    <tr>\n",
       "      <th>Sports</th>\n",
       "      <td>65.27</td>\n",
       "    </tr>\n",
       "    <tr>\n",
       "      <th>Role-Playing</th>\n",
       "      <td>46.40</td>\n",
       "    </tr>\n",
       "    <tr>\n",
       "      <th>Misc</th>\n",
       "      <td>27.49</td>\n",
       "    </tr>\n",
       "  </tbody>\n",
       "</table>\n",
       "</div>"
      ],
      "text/plain": [
       "              na_sales\n",
       "genre                 \n",
       "Action          126.05\n",
       "Shooter         109.74\n",
       "Sports           65.27\n",
       "Role-Playing     46.40\n",
       "Misc             27.49"
      ]
     },
     "metadata": {},
     "output_type": "display_data"
    },
    {
     "data": {
      "image/png": "[encoded data removed]",
      "text/plain": [
       "<Figure size 1080x360 with 1 Axes>"
      ]
     },
     "metadata": {},
     "output_type": "display_data"
    }
   ],
   "source": [
    "display(actual_data.pivot_table(index = 'genre', values = 'na_sales', aggfunc = 'sum').sort_values(ascending=False, \n",
    "                                                                                           by = 'na_sales')[:5])\n",
    "actual_data.pivot_table(index = 'genre', values = 'na_sales', aggfunc = 'sum').sort_values(ascending=False, \n",
    "                                                                                           by = 'na_sales')[:5].plot(kind = 'pie', y = 'na_sales', legend = False, \n",
    "                                                                                                                 figsize=(15,5))\n",
    "plt.title('Зависимость продаж от жанра')\n",
    "plt.ylabel('')\n",
    "plt.show()"
   ]
  },
  {
   "cell_type": "markdown",
   "metadata": {},
   "source": [
    "Пользователи из Северной америки предпочитают играть на консолях PS4, XOne, X360 в Action, Shooter"
   ]
  },
  {
   "cell_type": "markdown",
   "metadata": {},
   "source": [
    "***Европа***"
   ]
  },
  {
   "cell_type": "code",
   "execution_count": 28,
   "metadata": {},
   "outputs": [
    {
     "data": {
      "text/html": [
       "<div>\n",
       "<style scoped>\n",
       "    .dataframe tbody tr th:only-of-type {\n",
       "        vertical-align: middle;\n",
       "    }\n",
       "\n",
       "    .dataframe tbody tr th {\n",
       "        vertical-align: top;\n",
       "    }\n",
       "\n",
       "    .dataframe thead th {\n",
       "        text-align: right;\n",
       "    }\n",
       "</style>\n",
       "<table border=\"1\" class=\"dataframe\">\n",
       "  <thead>\n",
       "    <tr style=\"text-align: right;\">\n",
       "      <th></th>\n",
       "      <th>eu_sales</th>\n",
       "    </tr>\n",
       "    <tr>\n",
       "      <th>platform</th>\n",
       "      <th></th>\n",
       "    </tr>\n",
       "  </thead>\n",
       "  <tbody>\n",
       "    <tr>\n",
       "      <th>PS4</th>\n",
       "      <td>141.09</td>\n",
       "    </tr>\n",
       "    <tr>\n",
       "      <th>PS3</th>\n",
       "      <td>67.81</td>\n",
       "    </tr>\n",
       "    <tr>\n",
       "      <th>XOne</th>\n",
       "      <td>51.59</td>\n",
       "    </tr>\n",
       "    <tr>\n",
       "      <th>X360</th>\n",
       "      <td>42.52</td>\n",
       "    </tr>\n",
       "    <tr>\n",
       "      <th>3DS</th>\n",
       "      <td>30.96</td>\n",
       "    </tr>\n",
       "  </tbody>\n",
       "</table>\n",
       "</div>"
      ],
      "text/plain": [
       "          eu_sales\n",
       "platform          \n",
       "PS4         141.09\n",
       "PS3          67.81\n",
       "XOne         51.59\n",
       "X360         42.52\n",
       "3DS          30.96"
      ]
     },
     "metadata": {},
     "output_type": "display_data"
    },
    {
     "data": {
      "image/png": "[encoded data removed]",
      "text/plain": [
       "<Figure size 1080x360 with 1 Axes>"
      ]
     },
     "metadata": {},
     "output_type": "display_data"
    }
   ],
   "source": [
    "display(actual_data.pivot_table(index = 'platform', values = 'eu_sales', aggfunc = 'sum').sort_values(ascending=False, \n",
    "                                                                                                     by = 'eu_sales')[:5])\n",
    "actual_data.pivot_table(index = 'platform', \n",
    "                        values = 'eu_sales', \n",
    "                        aggfunc = 'sum').sort_values(ascending=False, \n",
    "                                                     by = 'eu_sales')[:5].plot(kind = 'pie', y = 'eu_sales', legend = False, \n",
    "                                                                     figsize=(15,5))\n",
    "plt.title('Зависимость продаж в регионе от платформы')\n",
    "plt.ylabel('')\n",
    "plt.show()"
   ]
  },
  {
   "cell_type": "code",
   "execution_count": 29,
   "metadata": {
    "scrolled": true
   },
   "outputs": [
    {
     "data": {
      "text/html": [
       "<div>\n",
       "<style scoped>\n",
       "    .dataframe tbody tr th:only-of-type {\n",
       "        vertical-align: middle;\n",
       "    }\n",
       "\n",
       "    .dataframe tbody tr th {\n",
       "        vertical-align: top;\n",
       "    }\n",
       "\n",
       "    .dataframe thead th {\n",
       "        text-align: right;\n",
       "    }\n",
       "</style>\n",
       "<table border=\"1\" class=\"dataframe\">\n",
       "  <thead>\n",
       "    <tr style=\"text-align: right;\">\n",
       "      <th></th>\n",
       "      <th>eu_sales</th>\n",
       "    </tr>\n",
       "    <tr>\n",
       "      <th>genre</th>\n",
       "      <th></th>\n",
       "    </tr>\n",
       "  </thead>\n",
       "  <tbody>\n",
       "    <tr>\n",
       "      <th>Action</th>\n",
       "      <td>118.13</td>\n",
       "    </tr>\n",
       "    <tr>\n",
       "      <th>Shooter</th>\n",
       "      <td>87.86</td>\n",
       "    </tr>\n",
       "    <tr>\n",
       "      <th>Sports</th>\n",
       "      <td>60.52</td>\n",
       "    </tr>\n",
       "    <tr>\n",
       "      <th>Role-Playing</th>\n",
       "      <td>36.97</td>\n",
       "    </tr>\n",
       "    <tr>\n",
       "      <th>Racing</th>\n",
       "      <td>20.19</td>\n",
       "    </tr>\n",
       "  </tbody>\n",
       "</table>\n",
       "</div>"
      ],
      "text/plain": [
       "              eu_sales\n",
       "genre                 \n",
       "Action          118.13\n",
       "Shooter          87.86\n",
       "Sports           60.52\n",
       "Role-Playing     36.97\n",
       "Racing           20.19"
      ]
     },
     "metadata": {},
     "output_type": "display_data"
    },
    {
     "data": {
      "image/png": "[encoded data removed]",
      "text/plain": [
       "<Figure size 1080x360 with 1 Axes>"
      ]
     },
     "metadata": {},
     "output_type": "display_data"
    }
   ],
   "source": [
    "display(actual_data.pivot_table(index = 'genre', values = 'eu_sales', aggfunc = 'sum').sort_values(ascending=False, \n",
    "                                                                                           by = 'eu_sales')[:5])\n",
    "actual_data.pivot_table(index = 'genre', values = 'eu_sales', aggfunc = 'sum').sort_values(ascending=False, \n",
    "                                                                                           by = 'eu_sales')[:5].plot(kind = 'pie', y = 'eu_sales', legend = False, \n",
    "                                                                                                                 figsize=(15,5))\n",
    "plt.title('Зависимость продаж от жанра')\n",
    "plt.ylabel('')\n",
    "plt.show()"
   ]
  },
  {
   "cell_type": "markdown",
   "metadata": {},
   "source": [
    "Пользователи из Европы предпочитают играть на консолях PS4 в Action, Shooter"
   ]
  },
  {
   "cell_type": "markdown",
   "metadata": {},
   "source": [
    "***Япония***"
   ]
  },
  {
   "cell_type": "code",
   "execution_count": 30,
   "metadata": {},
   "outputs": [
    {
     "data": {
      "text/html": [
       "<div>\n",
       "<style scoped>\n",
       "    .dataframe tbody tr th:only-of-type {\n",
       "        vertical-align: middle;\n",
       "    }\n",
       "\n",
       "    .dataframe tbody tr th {\n",
       "        vertical-align: top;\n",
       "    }\n",
       "\n",
       "    .dataframe thead th {\n",
       "        text-align: right;\n",
       "    }\n",
       "</style>\n",
       "<table border=\"1\" class=\"dataframe\">\n",
       "  <thead>\n",
       "    <tr style=\"text-align: right;\">\n",
       "      <th></th>\n",
       "      <th>jp_sales</th>\n",
       "    </tr>\n",
       "    <tr>\n",
       "      <th>platform</th>\n",
       "      <th></th>\n",
       "    </tr>\n",
       "  </thead>\n",
       "  <tbody>\n",
       "    <tr>\n",
       "      <th>3DS</th>\n",
       "      <td>67.81</td>\n",
       "    </tr>\n",
       "    <tr>\n",
       "      <th>PS3</th>\n",
       "      <td>23.35</td>\n",
       "    </tr>\n",
       "    <tr>\n",
       "      <th>PSV</th>\n",
       "      <td>18.59</td>\n",
       "    </tr>\n",
       "    <tr>\n",
       "      <th>PS4</th>\n",
       "      <td>15.96</td>\n",
       "    </tr>\n",
       "    <tr>\n",
       "      <th>WiiU</th>\n",
       "      <td>10.88</td>\n",
       "    </tr>\n",
       "  </tbody>\n",
       "</table>\n",
       "</div>"
      ],
      "text/plain": [
       "          jp_sales\n",
       "platform          \n",
       "3DS          67.81\n",
       "PS3          23.35\n",
       "PSV          18.59\n",
       "PS4          15.96\n",
       "WiiU         10.88"
      ]
     },
     "metadata": {},
     "output_type": "display_data"
    },
    {
     "data": {
      "image/png": "[encoded data removed]",
      "text/plain": [
       "<Figure size 1080x360 with 1 Axes>"
      ]
     },
     "metadata": {},
     "output_type": "display_data"
    }
   ],
   "source": [
    "display(actual_data.pivot_table(index = 'platform', values = 'jp_sales', aggfunc = 'sum').sort_values(ascending=False, \n",
    "                                                                                                     by = 'jp_sales')[:5])\n",
    "actual_data.pivot_table(index = 'platform', \n",
    "                        values = 'jp_sales', \n",
    "                        aggfunc = 'sum').sort_values(ascending=False, \n",
    "                                                     by = 'jp_sales')[:5].plot(kind = 'pie', y = 'jp_sales', legend = False, \n",
    "                                                                     figsize=(15,5))\n",
    "plt.title('Зависимость продаж в регионе от платформы')\n",
    "plt.ylabel('')\n",
    "plt.show()"
   ]
  },
  {
   "cell_type": "code",
   "execution_count": 31,
   "metadata": {},
   "outputs": [
    {
     "data": {
      "text/html": [
       "<div>\n",
       "<style scoped>\n",
       "    .dataframe tbody tr th:only-of-type {\n",
       "        vertical-align: middle;\n",
       "    }\n",
       "\n",
       "    .dataframe tbody tr th {\n",
       "        vertical-align: top;\n",
       "    }\n",
       "\n",
       "    .dataframe thead th {\n",
       "        text-align: right;\n",
       "    }\n",
       "</style>\n",
       "<table border=\"1\" class=\"dataframe\">\n",
       "  <thead>\n",
       "    <tr style=\"text-align: right;\">\n",
       "      <th></th>\n",
       "      <th>jp_sales</th>\n",
       "    </tr>\n",
       "    <tr>\n",
       "      <th>genre</th>\n",
       "      <th></th>\n",
       "    </tr>\n",
       "  </thead>\n",
       "  <tbody>\n",
       "    <tr>\n",
       "      <th>Role-Playing</th>\n",
       "      <td>51.04</td>\n",
       "    </tr>\n",
       "    <tr>\n",
       "      <th>Action</th>\n",
       "      <td>40.49</td>\n",
       "    </tr>\n",
       "    <tr>\n",
       "      <th>Misc</th>\n",
       "      <td>9.20</td>\n",
       "    </tr>\n",
       "    <tr>\n",
       "      <th>Fighting</th>\n",
       "      <td>7.65</td>\n",
       "    </tr>\n",
       "    <tr>\n",
       "      <th>Shooter</th>\n",
       "      <td>6.61</td>\n",
       "    </tr>\n",
       "  </tbody>\n",
       "</table>\n",
       "</div>"
      ],
      "text/plain": [
       "              jp_sales\n",
       "genre                 \n",
       "Role-Playing     51.04\n",
       "Action           40.49\n",
       "Misc              9.20\n",
       "Fighting          7.65\n",
       "Shooter           6.61"
      ]
     },
     "metadata": {},
     "output_type": "display_data"
    },
    {
     "data": {
      "image/png": "[encoded data removed]",
      "text/plain": [
       "<Figure size 1080x360 with 1 Axes>"
      ]
     },
     "metadata": {},
     "output_type": "display_data"
    }
   ],
   "source": [
    "display(actual_data.pivot_table(index = 'genre', values = 'jp_sales', aggfunc = 'sum').sort_values(ascending=False, \n",
    "                                                                                           by = 'jp_sales')[:5])\n",
    "actual_data.pivot_table(index = 'genre', values = 'jp_sales', aggfunc = 'sum').sort_values(ascending=False, \n",
    "                                                                                           by = 'jp_sales')[:5].plot(kind = 'pie', y = 'jp_sales', legend = False, \n",
    "                                                                                                                 figsize=(15,5))\n",
    "plt.title('Зависимость продаж от жанра')\n",
    "plt.ylabel('')\n",
    "plt.show()"
   ]
  },
  {
   "cell_type": "markdown",
   "metadata": {},
   "source": [
    "Пользователи из Японии предпочитают играть на консолях 3DS в Role-Playing, Action"
   ]
  },
  {
   "cell_type": "code",
   "execution_count": 32,
   "metadata": {
    "scrolled": true
   },
   "outputs": [
    {
     "data": {
      "text/html": [
       "<div>\n",
       "<style scoped>\n",
       "    .dataframe tbody tr th:only-of-type {\n",
       "        vertical-align: middle;\n",
       "    }\n",
       "\n",
       "    .dataframe tbody tr th {\n",
       "        vertical-align: top;\n",
       "    }\n",
       "\n",
       "    .dataframe thead th {\n",
       "        text-align: right;\n",
       "    }\n",
       "</style>\n",
       "<table border=\"1\" class=\"dataframe\">\n",
       "  <thead>\n",
       "    <tr style=\"text-align: right;\">\n",
       "      <th></th>\n",
       "      <th>eu_sales</th>\n",
       "      <th>jp_sales</th>\n",
       "      <th>na_sales</th>\n",
       "    </tr>\n",
       "    <tr>\n",
       "      <th>rating</th>\n",
       "      <th></th>\n",
       "      <th></th>\n",
       "      <th></th>\n",
       "    </tr>\n",
       "  </thead>\n",
       "  <tbody>\n",
       "    <tr>\n",
       "      <th>E</th>\n",
       "      <td>83.36</td>\n",
       "      <td>15.14</td>\n",
       "      <td>79.05</td>\n",
       "    </tr>\n",
       "    <tr>\n",
       "      <th>E10+</th>\n",
       "      <td>42.69</td>\n",
       "      <td>5.89</td>\n",
       "      <td>54.24</td>\n",
       "    </tr>\n",
       "    <tr>\n",
       "      <th>M</th>\n",
       "      <td>145.32</td>\n",
       "      <td>14.11</td>\n",
       "      <td>165.21</td>\n",
       "    </tr>\n",
       "    <tr>\n",
       "      <th>T</th>\n",
       "      <td>41.95</td>\n",
       "      <td>20.59</td>\n",
       "      <td>49.79</td>\n",
       "    </tr>\n",
       "    <tr>\n",
       "      <th>undefined</th>\n",
       "      <td>78.91</td>\n",
       "      <td>85.05</td>\n",
       "      <td>89.42</td>\n",
       "    </tr>\n",
       "  </tbody>\n",
       "</table>\n",
       "</div>"
      ],
      "text/plain": [
       "           eu_sales  jp_sales  na_sales\n",
       "rating                                 \n",
       "E             83.36     15.14     79.05\n",
       "E10+          42.69      5.89     54.24\n",
       "M            145.32     14.11    165.21\n",
       "T             41.95     20.59     49.79\n",
       "undefined     78.91     85.05     89.42"
      ]
     },
     "metadata": {},
     "output_type": "display_data"
    },
    {
     "data": {
      "image/png": "[encoded data removed]",
      "text/plain": [
       "<Figure size 1080x360 with 1 Axes>"
      ]
     },
     "metadata": {
      "needs_background": "light"
     },
     "output_type": "display_data"
    }
   ],
   "source": [
    "ESRB = actual_data.pivot_table(index = 'rating', values = ['eu_sales','jp_sales','na_sales'], aggfunc = 'sum')\n",
    "display(ESRB)\n",
    "ESRB.plot(figsize=(15,5))\n",
    "plt.title('Зависимость продаж от рэйтинга')\n",
    "plt.xlabel('Рэйтинг')\n",
    "plt.ylabel('Число продаж в регионе')\n",
    "plt.show()"
   ]
  },
  {
   "cell_type": "markdown",
   "metadata": {},
   "source": [
    "Да, рейтинг влияет на продажи в отдельных регионах. Так, например, игры с рейтингом M продавались в основном в Северной Америке и Европе, а в Японии значительно ниже продажи по сравнению с другими регионами."
   ]
  },
  {
   "cell_type": "markdown",
   "metadata": {},
   "source": [
    "# Шаг 5 - Проверка гипотез <a class=\"anchor\" id=\"chapter5\"></a>"
   ]
  },
  {
   "cell_type": "markdown",
   "metadata": {},
   "source": [
    "Проверить следующие гипотезы:\n",
    "\n",
    "Средние пользовательские рейтинги платформ Xbox One и PC одинаковые?;\n",
    "\n",
    "Средние пользовательские рейтинги жанров Action (англ. «действие», экшен-игры) и Sports (англ. «спортивные соревнования») разные.?\n",
    "\n",
    "пусть: alpha = 0.05"
   ]
  },
  {
   "cell_type": "markdown",
   "metadata": {},
   "source": [
    "Н0 (нулевая гипотеза) - средние пользовательские рейтинги платформ Xbox One и PC одинаковые.\n",
    "\n",
    "Н1 (альтернативная гипотеза) - средние пользовательские рейтинги платформ Xbox One и PC отличаются между собой."
   ]
  },
  {
   "cell_type": "code",
   "execution_count": 33,
   "metadata": {},
   "outputs": [
    {
     "name": "stdout",
     "output_type": "stream",
     "text": [
      "p-значение: 0.14012658403611647\n",
      "Не получилось отвергнуть нулевую гипотезу\n"
     ]
    }
   ],
   "source": [
    "XOne = actual_data[actual_data['platform']==\"XOne\"]['user_score'].dropna()\n",
    "PC = actual_data[actual_data['platform']==\"PC\"]['user_score'].dropna()\n",
    "\n",
    "alpha = 0.05 # критический уровень статистической значимости\n",
    "            # если p-value окажется меньше него - отвергнем гипотезу\n",
    "\n",
    "results_score = st.ttest_ind(\n",
    "    XOne, \n",
    "    PC,\n",
    "    equal_var = True)\n",
    "\n",
    "print('p-значение:', results_score.pvalue)\n",
    "\n",
    "if (results_score.pvalue < alpha):\n",
    "    print(\"Отвергаем нулевую гипотезу\")\n",
    "else:\n",
    "    print(\"Не получилось отвергнуть нулевую гипотезу\")"
   ]
  },
  {
   "cell_type": "markdown",
   "metadata": {},
   "source": [
    "Не получилось отвергнуть нулевую гипотезу о том, что средние пользовательские рейтинги платформ Xbox One и PC одинаковые"
   ]
  },
  {
   "cell_type": "markdown",
   "metadata": {},
   "source": [
    "Н0 (нулевая гипотеза) - средние пользовательские рейтинги жанров Action и Sports одинаковые.\n",
    "\n",
    "Н1 (альтернативная гипотеза) - средние пользовательские рейтинги жанров Action и Sports отличаются между собой."
   ]
  },
  {
   "cell_type": "code",
   "execution_count": 34,
   "metadata": {},
   "outputs": [
    {
     "name": "stdout",
     "output_type": "stream",
     "text": [
      "p-значение: 1.4460039700704315e-20\n",
      "Отвергаем нулевую гипотезу\n"
     ]
    }
   ],
   "source": [
    "Action = actual_data[actual_data['genre']==\"Action\"]['user_score'].dropna()\n",
    "Sports = actual_data[actual_data['genre']==\"Sports\"]['user_score'].dropna()\n",
    "\n",
    "\n",
    "alpha = .05\n",
    "\n",
    "results_genre = st.ttest_ind(Action, Sports, equal_var=False)\n",
    "\n",
    "print('p-значение:', results_genre.pvalue)\n",
    "\n",
    "\n",
    "if (results_genre.pvalue < alpha):\n",
    "    print(\"Отвергаем нулевую гипотезу\")\n",
    "else:\n",
    "    print(\"Не получилось отвергнуть нулевую гипотезу\")"
   ]
  },
  {
   "cell_type": "markdown",
   "metadata": {},
   "source": [
    "Отвергаем нулевую гипотезу. \n",
    "\n",
    "Таким образом, средние пользовательские рейтинги жанров Action и Sports отличаются"
   ]
  },
  {
   "cell_type": "markdown",
   "metadata": {},
   "source": [
    "# Шаг 6 - Общий вывод <a class=\"anchor\" id=\"chapter6\"></a>"
   ]
  },
  {
   "cell_type": "markdown",
   "metadata": {},
   "source": [
    "***Шаг 1. Подготовка данных***:\n",
    "\n",
    "Мы начали исследование с изучения и подготовки предоставленных данных. Осмотрев датасет, мы выявили общую информацию о нем и выявили пропущенные значения и несоответствия типов данных.\n",
    "\n",
    "В ходе этого этапа мы заполнили некоторые пропуски, обнаружив особое значение \"tbd\" (to be determined) и заменили его на NaN. Мы решили оставить многие пропуски, особенно в столбцах с оценками, незаполненными, чтобы не искажать статистические показатели.\n",
    "\n",
    "Также на этом этапе мы вычислили общее количество продаж по всем регионам и добавили эти данные в столбец \"total_sales\".\n",
    "\n",
    "***Шаг 3. Исследовательский анализ данных***:\n",
    "\n",
    "В ходе анализа мы обнаружили, что рост выпуска игр наблюдается в 1994 году, а пик приходится на 2008-2009 годы.\n",
    "\n",
    "Средний срок жизни игровой платформы составляет около 10 лет, поэтому мы сосредоточились на данных с 2013 по 2016 годы.\n",
    "\n",
    "Мы выделили три потенциально прибыльные платформы: PS4, Xbox One и 3DS.\n",
    "\n",
    "Медианные продажи наибольшие у платформ Xbox 360 и PS3.\n",
    "\n",
    "Почти на всех платформах есть определенные игры, которые значительно выделяются по продажам.\n",
    "\n",
    "Компьютерные игры стоят дешевле, чем игры для консолей, и это может влиять на их спрос и продажи.\n",
    "\n",
    "***Шаг 4. Портрет пользователя региона***:\n",
    "\n",
    "Мы проанализировали предпочтения пользователей в различных регионах. Например, в Северной Америке и Европе популярны платформы PS4 и Xbox One, в то время как в Японии популярна 3DS.\n",
    "\n",
    "Также мы выявили, что предпочтения по жанрам игр в Северной Америке и Европе практически совпадают, но в Японии они отличаются.\n",
    "\n",
    "***Шаг 5. Проверка гипотез***:\n",
    "\n",
    "Мы проверили две гипотезы: о равенстве средних пользовательских рейтингов платформ Xbox One и PC, а также о различии средних пользовательских рейтингов жанров Action и Sports. Обе гипотезы не были отвергнуты. "
   ]
  }
 ],
 "metadata": {
  "ExecuteTimeLog": [
   {
    "duration": 1250,
    "start_time": "2024-02-14T10:22:09.360Z"
   },
   {
    "duration": 132,
    "start_time": "2024-02-14T10:22:11.219Z"
   },
   {
    "duration": 113,
    "start_time": "2024-02-14T10:22:19.769Z"
   },
   {
    "duration": 11,
    "start_time": "2024-02-14T10:25:54.653Z"
   },
   {
    "duration": 662,
    "start_time": "2024-02-14T10:26:56.935Z"
   },
   {
    "duration": 22,
    "start_time": "2024-02-14T10:31:13.539Z"
   },
   {
    "duration": 3,
    "start_time": "2024-02-14T21:11:29.593Z"
   },
   {
    "duration": 3,
    "start_time": "2024-02-14T21:12:29.736Z"
   },
   {
    "duration": 21,
    "start_time": "2024-02-14T21:12:49.105Z"
   },
   {
    "duration": 14,
    "start_time": "2024-02-14T21:13:36.726Z"
   },
   {
    "duration": 24,
    "start_time": "2024-02-14T21:16:14.906Z"
   },
   {
    "duration": 26,
    "start_time": "2024-02-14T21:16:26.251Z"
   },
   {
    "duration": 48,
    "start_time": "2024-02-20T21:40:53.152Z"
   },
   {
    "duration": 1271,
    "start_time": "2024-02-20T21:40:56.934Z"
   },
   {
    "duration": 213,
    "start_time": "2024-02-20T21:40:59.089Z"
   },
   {
    "duration": 641,
    "start_time": "2024-02-20T21:41:10.395Z"
   },
   {
    "duration": 19,
    "start_time": "2024-02-20T21:42:09.487Z"
   },
   {
    "duration": 1638,
    "start_time": "2024-02-20T21:42:12.110Z"
   },
   {
    "duration": 17,
    "start_time": "2024-02-20T21:42:39.379Z"
   },
   {
    "duration": 15,
    "start_time": "2024-02-20T21:42:41.655Z"
   },
   {
    "duration": 11,
    "start_time": "2024-02-20T21:42:42.757Z"
   },
   {
    "duration": 11,
    "start_time": "2024-02-20T21:43:25.710Z"
   },
   {
    "duration": 15,
    "start_time": "2024-02-20T21:43:42.468Z"
   },
   {
    "duration": 14,
    "start_time": "2024-02-20T21:43:52.007Z"
   },
   {
    "duration": 9,
    "start_time": "2024-02-20T21:43:55.837Z"
   },
   {
    "duration": 9,
    "start_time": "2024-02-20T21:44:02.039Z"
   },
   {
    "duration": 10,
    "start_time": "2024-02-20T21:44:06.543Z"
   },
   {
    "duration": 11,
    "start_time": "2024-02-20T22:25:49.785Z"
   },
   {
    "duration": 9,
    "start_time": "2024-02-20T22:25:54.384Z"
   },
   {
    "duration": 17,
    "start_time": "2024-02-20T22:27:36.114Z"
   },
   {
    "duration": 18,
    "start_time": "2024-02-20T22:28:31.055Z"
   },
   {
    "duration": 20,
    "start_time": "2024-02-20T22:29:06.366Z"
   },
   {
    "duration": 32,
    "start_time": "2024-02-20T22:29:15.291Z"
   },
   {
    "duration": 24,
    "start_time": "2024-02-20T22:29:32.387Z"
   },
   {
    "duration": 23,
    "start_time": "2024-02-20T22:30:02.965Z"
   },
   {
    "duration": 26,
    "start_time": "2024-02-20T22:30:25.158Z"
   },
   {
    "duration": 30,
    "start_time": "2024-02-20T22:30:38.209Z"
   },
   {
    "duration": 24,
    "start_time": "2024-02-20T22:31:26.144Z"
   },
   {
    "duration": 35,
    "start_time": "2024-02-20T22:31:47.648Z"
   },
   {
    "duration": 34,
    "start_time": "2024-02-20T22:32:42.145Z"
   },
   {
    "duration": 14,
    "start_time": "2024-02-20T22:37:31.372Z"
   },
   {
    "duration": 8,
    "start_time": "2024-02-20T22:37:34.323Z"
   },
   {
    "duration": 18,
    "start_time": "2024-02-20T22:37:35.437Z"
   },
   {
    "duration": 15,
    "start_time": "2024-02-20T22:45:08.801Z"
   },
   {
    "duration": 18,
    "start_time": "2024-02-20T22:47:55.005Z"
   },
   {
    "duration": 13,
    "start_time": "2024-02-20T22:48:10.292Z"
   },
   {
    "duration": 51,
    "start_time": "2024-02-21T10:45:12.568Z"
   },
   {
    "duration": 1488,
    "start_time": "2024-02-21T10:45:30.514Z"
   },
   {
    "duration": 200,
    "start_time": "2024-02-21T10:45:32.004Z"
   },
   {
    "duration": 711,
    "start_time": "2024-02-21T10:45:32.895Z"
   },
   {
    "duration": 25,
    "start_time": "2024-02-21T10:45:35.255Z"
   },
   {
    "duration": 28,
    "start_time": "2024-02-21T10:45:35.860Z"
   },
   {
    "duration": 81,
    "start_time": "2024-02-21T10:46:02.932Z"
   },
   {
    "duration": 29,
    "start_time": "2024-02-21T10:46:21.105Z"
   },
   {
    "duration": 12,
    "start_time": "2024-02-21T21:02:11.103Z"
   },
   {
    "duration": 1693,
    "start_time": "2024-02-21T21:02:18.214Z"
   },
   {
    "duration": 5,
    "start_time": "2024-02-21T21:02:30.750Z"
   },
   {
    "duration": 5,
    "start_time": "2024-02-21T21:06:21.662Z"
   },
   {
    "duration": 9,
    "start_time": "2024-02-21T21:07:58.586Z"
   },
   {
    "duration": 162,
    "start_time": "2024-02-21T21:08:06.643Z"
   },
   {
    "duration": 163,
    "start_time": "2024-02-21T21:08:16.074Z"
   },
   {
    "duration": 9,
    "start_time": "2024-02-21T21:13:52.135Z"
   },
   {
    "duration": 6,
    "start_time": "2024-02-21T21:13:59.746Z"
   },
   {
    "duration": 6,
    "start_time": "2024-02-21T21:14:04.928Z"
   },
   {
    "duration": 7,
    "start_time": "2024-02-21T21:14:12.461Z"
   },
   {
    "duration": 11,
    "start_time": "2024-02-21T21:14:38.901Z"
   },
   {
    "duration": 15,
    "start_time": "2024-02-21T21:14:46.481Z"
   },
   {
    "duration": 21,
    "start_time": "2024-02-21T21:15:00.969Z"
   },
   {
    "duration": 14,
    "start_time": "2024-02-21T21:15:07.456Z"
   },
   {
    "duration": 14,
    "start_time": "2024-02-21T21:15:16.438Z"
   },
   {
    "duration": 12,
    "start_time": "2024-02-21T21:15:27.143Z"
   },
   {
    "duration": 32,
    "start_time": "2024-02-21T21:15:45.995Z"
   },
   {
    "duration": 15,
    "start_time": "2024-02-21T21:16:31.927Z"
   },
   {
    "duration": 5366,
    "start_time": "2024-02-21T21:17:57.766Z"
   },
   {
    "duration": 224,
    "start_time": "2024-02-21T21:18:21.160Z"
   },
   {
    "duration": 161,
    "start_time": "2024-02-21T21:19:23.140Z"
   },
   {
    "duration": 201,
    "start_time": "2024-02-21T21:19:47.568Z"
   },
   {
    "duration": 10,
    "start_time": "2024-02-21T21:22:31.796Z"
   },
   {
    "duration": 18,
    "start_time": "2024-02-21T21:22:45.519Z"
   },
   {
    "duration": 20,
    "start_time": "2024-02-21T21:22:55.507Z"
   },
   {
    "duration": 467,
    "start_time": "2024-02-21T21:25:27.832Z"
   },
   {
    "duration": 21,
    "start_time": "2024-02-21T21:26:00.822Z"
   },
   {
    "duration": 21,
    "start_time": "2024-02-21T21:26:43.192Z"
   },
   {
    "duration": 1853,
    "start_time": "2024-02-21T21:31:02.632Z"
   },
   {
    "duration": 9,
    "start_time": "2024-02-21T21:32:55.478Z"
   },
   {
    "duration": 228,
    "start_time": "2024-02-21T21:33:01.363Z"
   },
   {
    "duration": 230,
    "start_time": "2024-02-21T21:33:40.209Z"
   },
   {
    "duration": 24,
    "start_time": "2024-02-21T21:37:45.239Z"
   },
   {
    "duration": 31,
    "start_time": "2024-02-21T21:41:09.803Z"
   },
   {
    "duration": 218,
    "start_time": "2024-02-21T21:43:54.954Z"
   },
   {
    "duration": 1266,
    "start_time": "2024-02-21T21:45:24.130Z"
   },
   {
    "duration": 1386,
    "start_time": "2024-02-21T21:47:43.892Z"
   },
   {
    "duration": 31,
    "start_time": "2024-02-21T21:52:28.160Z"
   },
   {
    "duration": 104,
    "start_time": "2024-02-21T21:52:40.348Z"
   },
   {
    "duration": 9,
    "start_time": "2024-02-21T21:52:49.932Z"
   },
   {
    "duration": 9,
    "start_time": "2024-02-21T21:52:55.213Z"
   },
   {
    "duration": 8,
    "start_time": "2024-02-21T21:53:12.039Z"
   },
   {
    "duration": 13,
    "start_time": "2024-02-21T21:53:39.077Z"
   },
   {
    "duration": 30,
    "start_time": "2024-02-21T21:54:05.347Z"
   },
   {
    "duration": 15,
    "start_time": "2024-02-21T21:54:17.128Z"
   },
   {
    "duration": 25,
    "start_time": "2024-02-21T21:54:33.085Z"
   },
   {
    "duration": 6,
    "start_time": "2024-02-21T21:54:39.112Z"
   },
   {
    "duration": 20,
    "start_time": "2024-02-21T21:55:41.358Z"
   },
   {
    "duration": 27,
    "start_time": "2024-02-21T21:55:52.851Z"
   },
   {
    "duration": 310,
    "start_time": "2024-02-21T21:57:37.133Z"
   },
   {
    "duration": 1636,
    "start_time": "2024-02-21T21:59:07.020Z"
   },
   {
    "duration": 17,
    "start_time": "2024-02-21T21:59:17.602Z"
   },
   {
    "duration": 314,
    "start_time": "2024-02-21T21:59:27.521Z"
   },
   {
    "duration": 301,
    "start_time": "2024-02-21T22:00:05.569Z"
   },
   {
    "duration": 254,
    "start_time": "2024-02-21T22:03:41.588Z"
   },
   {
    "duration": 342,
    "start_time": "2024-02-21T22:03:53.090Z"
   },
   {
    "duration": 272,
    "start_time": "2024-02-21T22:04:01.084Z"
   },
   {
    "duration": 230,
    "start_time": "2024-02-21T22:04:14.689Z"
   },
   {
    "duration": 239,
    "start_time": "2024-02-21T22:04:20.562Z"
   },
   {
    "duration": 243,
    "start_time": "2024-02-21T22:04:25.126Z"
   },
   {
    "duration": 361,
    "start_time": "2024-02-21T22:04:31.670Z"
   },
   {
    "duration": 263,
    "start_time": "2024-02-21T22:07:19.561Z"
   },
   {
    "duration": 268,
    "start_time": "2024-02-21T22:07:40.408Z"
   },
   {
    "duration": 347,
    "start_time": "2024-02-21T22:07:45.805Z"
   },
   {
    "duration": 1210,
    "start_time": "2024-02-21T22:15:52.986Z"
   },
   {
    "duration": 73,
    "start_time": "2024-02-21T22:15:54.198Z"
   },
   {
    "duration": 690,
    "start_time": "2024-02-21T22:15:54.273Z"
   },
   {
    "duration": 19,
    "start_time": "2024-02-21T22:15:54.965Z"
   },
   {
    "duration": 33,
    "start_time": "2024-02-21T22:15:54.993Z"
   },
   {
    "duration": 26,
    "start_time": "2024-02-21T22:15:55.028Z"
   },
   {
    "duration": 166,
    "start_time": "2024-02-21T22:15:55.056Z"
   },
   {
    "duration": 0,
    "start_time": "2024-02-21T22:15:55.224Z"
   },
   {
    "duration": 0,
    "start_time": "2024-02-21T22:15:55.225Z"
   },
   {
    "duration": 0,
    "start_time": "2024-02-21T22:15:55.226Z"
   },
   {
    "duration": 0,
    "start_time": "2024-02-21T22:15:55.227Z"
   },
   {
    "duration": 0,
    "start_time": "2024-02-21T22:15:55.228Z"
   },
   {
    "duration": 0,
    "start_time": "2024-02-21T22:15:55.229Z"
   },
   {
    "duration": 0,
    "start_time": "2024-02-21T22:15:55.230Z"
   },
   {
    "duration": 24,
    "start_time": "2024-02-21T22:17:01.088Z"
   },
   {
    "duration": 21,
    "start_time": "2024-02-21T22:17:43.646Z"
   },
   {
    "duration": 23,
    "start_time": "2024-02-21T22:20:09.746Z"
   },
   {
    "duration": 18,
    "start_time": "2024-02-21T22:20:38.452Z"
   },
   {
    "duration": 10,
    "start_time": "2024-02-21T22:20:57.004Z"
   },
   {
    "duration": 23,
    "start_time": "2024-02-21T22:21:07.910Z"
   },
   {
    "duration": 23,
    "start_time": "2024-02-21T22:21:19.917Z"
   },
   {
    "duration": 20,
    "start_time": "2024-02-21T22:21:26.926Z"
   },
   {
    "duration": 21,
    "start_time": "2024-02-21T22:21:43.953Z"
   },
   {
    "duration": 17,
    "start_time": "2024-02-21T22:22:06.726Z"
   },
   {
    "duration": 27,
    "start_time": "2024-02-21T22:22:10.477Z"
   },
   {
    "duration": 13,
    "start_time": "2024-02-21T22:24:10.828Z"
   },
   {
    "duration": 21,
    "start_time": "2024-02-21T22:24:20.846Z"
   },
   {
    "duration": 1244,
    "start_time": "2024-02-21T22:24:49.914Z"
   },
   {
    "duration": 81,
    "start_time": "2024-02-21T22:24:51.161Z"
   },
   {
    "duration": 724,
    "start_time": "2024-02-21T22:24:51.244Z"
   },
   {
    "duration": 38,
    "start_time": "2024-02-21T22:24:51.970Z"
   },
   {
    "duration": 39,
    "start_time": "2024-02-21T22:24:52.012Z"
   },
   {
    "duration": 20,
    "start_time": "2024-02-21T22:24:52.053Z"
   },
   {
    "duration": 41,
    "start_time": "2024-02-21T22:24:52.074Z"
   },
   {
    "duration": 20,
    "start_time": "2024-02-21T22:24:52.117Z"
   },
   {
    "duration": 193,
    "start_time": "2024-02-21T22:24:52.138Z"
   },
   {
    "duration": 215,
    "start_time": "2024-02-21T22:24:52.333Z"
   },
   {
    "duration": 1429,
    "start_time": "2024-02-21T22:24:52.550Z"
   },
   {
    "duration": 12,
    "start_time": "2024-02-21T22:24:53.981Z"
   },
   {
    "duration": 347,
    "start_time": "2024-02-21T22:24:53.997Z"
   },
   {
    "duration": 317,
    "start_time": "2024-02-21T22:24:54.346Z"
   },
   {
    "duration": 138,
    "start_time": "2024-02-21T22:29:02.189Z"
   },
   {
    "duration": 111,
    "start_time": "2024-02-21T22:29:08.003Z"
   },
   {
    "duration": 1691,
    "start_time": "2024-02-21T22:29:49.583Z"
   },
   {
    "duration": 1728,
    "start_time": "2024-02-21T22:30:36.016Z"
   },
   {
    "duration": 1781,
    "start_time": "2024-02-21T22:33:08.058Z"
   },
   {
    "duration": 12,
    "start_time": "2024-02-21T22:36:55.066Z"
   },
   {
    "duration": 12,
    "start_time": "2024-02-21T22:36:57.447Z"
   },
   {
    "duration": 13,
    "start_time": "2024-02-21T22:36:59.945Z"
   },
   {
    "duration": 18,
    "start_time": "2024-02-21T22:37:20.390Z"
   },
   {
    "duration": 14,
    "start_time": "2024-02-21T22:40:11.086Z"
   },
   {
    "duration": 406,
    "start_time": "2024-02-21T22:42:39.619Z"
   },
   {
    "duration": 395,
    "start_time": "2024-02-21T22:42:53.063Z"
   },
   {
    "duration": 459,
    "start_time": "2024-02-21T22:42:58.832Z"
   },
   {
    "duration": 393,
    "start_time": "2024-02-21T22:43:06.382Z"
   },
   {
    "duration": 182,
    "start_time": "2024-02-21T22:43:46.882Z"
   },
   {
    "duration": 17,
    "start_time": "2024-02-21T22:47:04.852Z"
   },
   {
    "duration": 119,
    "start_time": "2024-02-21T22:48:50.268Z"
   },
   {
    "duration": 27,
    "start_time": "2024-02-21T22:48:58.782Z"
   },
   {
    "duration": 1029,
    "start_time": "2024-02-21T22:49:16.748Z"
   },
   {
    "duration": 345,
    "start_time": "2024-02-21T22:49:59.226Z"
   },
   {
    "duration": 182,
    "start_time": "2024-02-21T22:50:13.411Z"
   },
   {
    "duration": 14,
    "start_time": "2024-02-21T23:01:11.555Z"
   },
   {
    "duration": 207,
    "start_time": "2024-02-21T23:01:43.488Z"
   },
   {
    "duration": 337,
    "start_time": "2024-02-21T23:01:54.499Z"
   },
   {
    "duration": 215,
    "start_time": "2024-02-21T23:02:40.784Z"
   },
   {
    "duration": 18,
    "start_time": "2024-02-21T23:03:55.484Z"
   },
   {
    "duration": 249,
    "start_time": "2024-02-21T23:05:31.874Z"
   },
   {
    "duration": 14,
    "start_time": "2024-02-21T23:07:17.020Z"
   },
   {
    "duration": 14,
    "start_time": "2024-02-21T23:07:31.914Z"
   },
   {
    "duration": 21,
    "start_time": "2024-02-21T23:09:22.427Z"
   },
   {
    "duration": 234,
    "start_time": "2024-02-21T23:09:37.171Z"
   },
   {
    "duration": 5,
    "start_time": "2024-02-21T23:10:01.676Z"
   },
   {
    "duration": 208,
    "start_time": "2024-02-21T23:10:11.320Z"
   },
   {
    "duration": 201,
    "start_time": "2024-02-21T23:12:42.274Z"
   },
   {
    "duration": 228,
    "start_time": "2024-02-21T23:12:44.632Z"
   },
   {
    "duration": 212,
    "start_time": "2024-02-21T23:12:48.409Z"
   },
   {
    "duration": 251,
    "start_time": "2024-02-21T23:12:49.796Z"
   },
   {
    "duration": 214,
    "start_time": "2024-02-21T23:14:13.114Z"
   },
   {
    "duration": 218,
    "start_time": "2024-02-21T23:14:43.740Z"
   },
   {
    "duration": 334,
    "start_time": "2024-02-21T23:16:18.720Z"
   },
   {
    "duration": 263,
    "start_time": "2024-02-21T23:16:45.974Z"
   },
   {
    "duration": 7,
    "start_time": "2024-02-21T23:41:19.924Z"
   },
   {
    "duration": 19,
    "start_time": "2024-02-21T23:43:28.502Z"
   },
   {
    "duration": 13,
    "start_time": "2024-02-21T23:43:38.993Z"
   },
   {
    "duration": 9,
    "start_time": "2024-02-21T23:43:49.239Z"
   },
   {
    "duration": 8,
    "start_time": "2024-02-21T23:43:54.436Z"
   },
   {
    "duration": 11,
    "start_time": "2024-02-21T23:47:02.698Z"
   },
   {
    "duration": 1186,
    "start_time": "2024-02-21T23:54:08.437Z"
   },
   {
    "duration": 84,
    "start_time": "2024-02-21T23:54:09.625Z"
   },
   {
    "duration": 741,
    "start_time": "2024-02-21T23:54:09.711Z"
   },
   {
    "duration": 19,
    "start_time": "2024-02-21T23:54:10.453Z"
   },
   {
    "duration": 63,
    "start_time": "2024-02-21T23:54:10.475Z"
   },
   {
    "duration": 15,
    "start_time": "2024-02-21T23:54:10.539Z"
   },
   {
    "duration": 37,
    "start_time": "2024-02-21T23:54:10.555Z"
   },
   {
    "duration": 28,
    "start_time": "2024-02-21T23:54:10.594Z"
   },
   {
    "duration": 202,
    "start_time": "2024-02-21T23:54:10.624Z"
   },
   {
    "duration": 221,
    "start_time": "2024-02-21T23:54:10.828Z"
   },
   {
    "duration": 1487,
    "start_time": "2024-02-21T23:54:11.051Z"
   },
   {
    "duration": 7,
    "start_time": "2024-02-21T23:54:12.540Z"
   },
   {
    "duration": 372,
    "start_time": "2024-02-21T23:54:12.548Z"
   },
   {
    "duration": 317,
    "start_time": "2024-02-21T23:54:12.923Z"
   },
   {
    "duration": 1729,
    "start_time": "2024-02-21T23:54:13.242Z"
   },
   {
    "duration": 26,
    "start_time": "2024-02-21T23:54:14.973Z"
   },
   {
    "duration": 21,
    "start_time": "2024-02-21T23:54:15.001Z"
   },
   {
    "duration": 46,
    "start_time": "2024-02-21T23:54:15.024Z"
   },
   {
    "duration": 59,
    "start_time": "2024-02-21T23:54:15.072Z"
   },
   {
    "duration": 346,
    "start_time": "2024-02-21T23:54:15.133Z"
   },
   {
    "duration": 200,
    "start_time": "2024-02-21T23:54:15.481Z"
   },
   {
    "duration": 246,
    "start_time": "2024-02-21T23:54:15.683Z"
   },
   {
    "duration": 255,
    "start_time": "2024-02-21T23:54:15.931Z"
   },
   {
    "duration": 232,
    "start_time": "2024-02-21T23:54:16.193Z"
   },
   {
    "duration": 251,
    "start_time": "2024-02-21T23:54:16.426Z"
   },
   {
    "duration": 225,
    "start_time": "2024-02-21T23:54:16.678Z"
   },
   {
    "duration": 233,
    "start_time": "2024-02-21T23:54:16.904Z"
   },
   {
    "duration": 8,
    "start_time": "2024-02-21T23:54:17.139Z"
   },
   {
    "duration": 20,
    "start_time": "2024-02-21T23:54:17.149Z"
   },
   {
    "duration": 1443,
    "start_time": "2024-02-22T06:59:54.078Z"
   },
   {
    "duration": 124,
    "start_time": "2024-02-22T06:59:55.524Z"
   },
   {
    "duration": 673,
    "start_time": "2024-02-22T06:59:55.650Z"
   },
   {
    "duration": 18,
    "start_time": "2024-02-22T06:59:56.324Z"
   },
   {
    "duration": 44,
    "start_time": "2024-02-22T06:59:56.344Z"
   },
   {
    "duration": 15,
    "start_time": "2024-02-22T06:59:56.390Z"
   },
   {
    "duration": 21,
    "start_time": "2024-02-22T06:59:56.406Z"
   },
   {
    "duration": 21,
    "start_time": "2024-02-22T06:59:56.428Z"
   },
   {
    "duration": 215,
    "start_time": "2024-02-22T06:59:56.450Z"
   },
   {
    "duration": 200,
    "start_time": "2024-02-22T06:59:56.667Z"
   },
   {
    "duration": 1383,
    "start_time": "2024-02-22T06:59:56.869Z"
   },
   {
    "duration": 7,
    "start_time": "2024-02-22T06:59:58.254Z"
   },
   {
    "duration": 334,
    "start_time": "2024-02-22T06:59:58.262Z"
   },
   {
    "duration": 297,
    "start_time": "2024-02-22T06:59:58.599Z"
   },
   {
    "duration": 1601,
    "start_time": "2024-02-22T06:59:58.898Z"
   },
   {
    "duration": 11,
    "start_time": "2024-02-22T07:00:00.501Z"
   },
   {
    "duration": 52,
    "start_time": "2024-02-22T07:00:00.514Z"
   },
   {
    "duration": 62,
    "start_time": "2024-02-22T07:00:00.568Z"
   },
   {
    "duration": 53,
    "start_time": "2024-02-22T07:00:00.631Z"
   },
   {
    "duration": 301,
    "start_time": "2024-02-22T07:00:00.686Z"
   },
   {
    "duration": 183,
    "start_time": "2024-02-22T07:00:00.989Z"
   },
   {
    "duration": 211,
    "start_time": "2024-02-22T07:00:01.173Z"
   },
   {
    "duration": 229,
    "start_time": "2024-02-22T07:00:01.386Z"
   },
   {
    "duration": 217,
    "start_time": "2024-02-22T07:00:01.616Z"
   },
   {
    "duration": 241,
    "start_time": "2024-02-22T07:00:01.834Z"
   },
   {
    "duration": 210,
    "start_time": "2024-02-22T07:00:02.081Z"
   },
   {
    "duration": 228,
    "start_time": "2024-02-22T07:00:02.293Z"
   },
   {
    "duration": 9,
    "start_time": "2024-02-22T07:00:02.523Z"
   },
   {
    "duration": 17,
    "start_time": "2024-02-22T07:00:02.534Z"
   },
   {
    "duration": 31,
    "start_time": "2024-02-22T07:48:50.651Z"
   },
   {
    "duration": 32,
    "start_time": "2024-02-22T08:05:07.591Z"
   },
   {
    "duration": 1225,
    "start_time": "2024-02-22T08:14:52.487Z"
   },
   {
    "duration": 89,
    "start_time": "2024-02-22T08:14:53.714Z"
   },
   {
    "duration": 712,
    "start_time": "2024-02-22T08:14:53.805Z"
   },
   {
    "duration": 19,
    "start_time": "2024-02-22T08:14:54.519Z"
   },
   {
    "duration": 47,
    "start_time": "2024-02-22T08:14:54.539Z"
   },
   {
    "duration": 16,
    "start_time": "2024-02-22T08:14:54.587Z"
   },
   {
    "duration": 21,
    "start_time": "2024-02-22T08:14:54.605Z"
   },
   {
    "duration": 20,
    "start_time": "2024-02-22T08:14:54.628Z"
   },
   {
    "duration": 203,
    "start_time": "2024-02-22T08:14:54.650Z"
   },
   {
    "duration": 210,
    "start_time": "2024-02-22T08:14:54.855Z"
   },
   {
    "duration": 1385,
    "start_time": "2024-02-22T08:14:55.067Z"
   },
   {
    "duration": 6,
    "start_time": "2024-02-22T08:14:56.454Z"
   },
   {
    "duration": 338,
    "start_time": "2024-02-22T08:14:56.462Z"
   },
   {
    "duration": 308,
    "start_time": "2024-02-22T08:14:56.802Z"
   },
   {
    "duration": 1631,
    "start_time": "2024-02-22T08:14:57.112Z"
   },
   {
    "duration": 12,
    "start_time": "2024-02-22T08:14:58.744Z"
   },
   {
    "duration": 27,
    "start_time": "2024-02-22T08:14:58.757Z"
   },
   {
    "duration": 11,
    "start_time": "2024-02-22T08:14:58.786Z"
   },
   {
    "duration": 26,
    "start_time": "2024-02-22T08:14:58.798Z"
   },
   {
    "duration": 312,
    "start_time": "2024-02-22T08:14:58.826Z"
   },
   {
    "duration": 186,
    "start_time": "2024-02-22T08:14:59.140Z"
   },
   {
    "duration": 212,
    "start_time": "2024-02-22T08:14:59.328Z"
   },
   {
    "duration": 224,
    "start_time": "2024-02-22T08:14:59.541Z"
   },
   {
    "duration": 217,
    "start_time": "2024-02-22T08:14:59.767Z"
   },
   {
    "duration": 252,
    "start_time": "2024-02-22T08:14:59.986Z"
   },
   {
    "duration": 221,
    "start_time": "2024-02-22T08:15:00.240Z"
   },
   {
    "duration": 234,
    "start_time": "2024-02-22T08:15:00.462Z"
   },
   {
    "duration": 9,
    "start_time": "2024-02-22T08:15:00.699Z"
   },
   {
    "duration": 71,
    "start_time": "2024-02-22T08:15:00.709Z"
   },
   {
    "duration": 52,
    "start_time": "2024-02-22T21:03:44.589Z"
   },
   {
    "duration": 1420,
    "start_time": "2024-02-22T21:03:48.270Z"
   },
   {
    "duration": 127,
    "start_time": "2024-02-22T21:03:50.980Z"
   },
   {
    "duration": 3,
    "start_time": "2024-02-22T21:08:26.771Z"
   },
   {
    "duration": 79,
    "start_time": "2024-02-22T21:08:27.976Z"
   },
   {
    "duration": 94,
    "start_time": "2024-02-22T21:55:45.116Z"
   },
   {
    "duration": 22,
    "start_time": "2024-02-22T21:56:51.955Z"
   },
   {
    "duration": 1636,
    "start_time": "2024-02-22T21:57:01.586Z"
   },
   {
    "duration": 22,
    "start_time": "2024-02-22T21:57:06.533Z"
   },
   {
    "duration": 19,
    "start_time": "2024-02-22T21:58:01.198Z"
   },
   {
    "duration": 28,
    "start_time": "2024-02-22T21:58:03.251Z"
   },
   {
    "duration": 26,
    "start_time": "2024-02-22T21:58:08.232Z"
   },
   {
    "duration": 27,
    "start_time": "2024-02-22T21:58:19.047Z"
   },
   {
    "duration": 28,
    "start_time": "2024-02-22T21:58:34.137Z"
   },
   {
    "duration": 30,
    "start_time": "2024-02-22T22:00:25.553Z"
   },
   {
    "duration": 34,
    "start_time": "2024-02-22T22:00:46.157Z"
   },
   {
    "duration": 31,
    "start_time": "2024-02-22T22:00:55.381Z"
   },
   {
    "duration": 29,
    "start_time": "2024-02-22T22:01:02.024Z"
   },
   {
    "duration": 29,
    "start_time": "2024-02-22T22:01:14.590Z"
   },
   {
    "duration": 33,
    "start_time": "2024-02-22T22:01:25.200Z"
   },
   {
    "duration": 30,
    "start_time": "2024-02-22T22:01:29.591Z"
   },
   {
    "duration": 32,
    "start_time": "2024-02-22T22:01:41.567Z"
   },
   {
    "duration": 29,
    "start_time": "2024-02-22T22:05:21.382Z"
   },
   {
    "duration": 33,
    "start_time": "2024-02-22T22:06:18.898Z"
   },
   {
    "duration": 1188,
    "start_time": "2024-02-22T22:06:52.077Z"
   },
   {
    "duration": 86,
    "start_time": "2024-02-22T22:06:53.267Z"
   },
   {
    "duration": 686,
    "start_time": "2024-02-22T22:06:53.355Z"
   },
   {
    "duration": 17,
    "start_time": "2024-02-22T22:06:54.043Z"
   },
   {
    "duration": 46,
    "start_time": "2024-02-22T22:06:54.062Z"
   },
   {
    "duration": 15,
    "start_time": "2024-02-22T22:06:54.110Z"
   },
   {
    "duration": 21,
    "start_time": "2024-02-22T22:06:54.126Z"
   },
   {
    "duration": 38,
    "start_time": "2024-02-22T22:06:54.148Z"
   },
   {
    "duration": 172,
    "start_time": "2024-02-22T22:06:54.188Z"
   },
   {
    "duration": 198,
    "start_time": "2024-02-22T22:06:54.362Z"
   },
   {
    "duration": 1347,
    "start_time": "2024-02-22T22:06:54.561Z"
   },
   {
    "duration": 7,
    "start_time": "2024-02-22T22:06:55.910Z"
   },
   {
    "duration": 329,
    "start_time": "2024-02-22T22:06:55.919Z"
   },
   {
    "duration": 313,
    "start_time": "2024-02-22T22:06:56.251Z"
   },
   {
    "duration": 1673,
    "start_time": "2024-02-22T22:06:56.566Z"
   },
   {
    "duration": 11,
    "start_time": "2024-02-22T22:06:58.241Z"
   },
   {
    "duration": 32,
    "start_time": "2024-02-22T22:06:58.254Z"
   },
   {
    "duration": 12,
    "start_time": "2024-02-22T22:06:58.288Z"
   },
   {
    "duration": 16,
    "start_time": "2024-02-22T22:06:58.302Z"
   },
   {
    "duration": 206,
    "start_time": "2024-02-22T22:06:58.320Z"
   },
   {
    "duration": 195,
    "start_time": "2024-02-22T22:06:58.528Z"
   },
   {
    "duration": 214,
    "start_time": "2024-02-22T22:06:58.724Z"
   },
   {
    "duration": 228,
    "start_time": "2024-02-22T22:06:58.940Z"
   },
   {
    "duration": 216,
    "start_time": "2024-02-22T22:06:59.170Z"
   },
   {
    "duration": 226,
    "start_time": "2024-02-22T22:06:59.387Z"
   },
   {
    "duration": 213,
    "start_time": "2024-02-22T22:06:59.614Z"
   },
   {
    "duration": 241,
    "start_time": "2024-02-22T22:06:59.829Z"
   },
   {
    "duration": 15,
    "start_time": "2024-02-22T22:07:00.073Z"
   },
   {
    "duration": 67,
    "start_time": "2024-02-22T22:07:00.090Z"
   },
   {
    "duration": 1144,
    "start_time": "2024-02-22T22:07:42.912Z"
   },
   {
    "duration": 86,
    "start_time": "2024-02-22T22:07:44.057Z"
   },
   {
    "duration": 683,
    "start_time": "2024-02-22T22:07:44.145Z"
   },
   {
    "duration": 16,
    "start_time": "2024-02-22T22:07:44.830Z"
   },
   {
    "duration": 54,
    "start_time": "2024-02-22T22:07:44.848Z"
   },
   {
    "duration": 14,
    "start_time": "2024-02-22T22:07:44.904Z"
   },
   {
    "duration": 20,
    "start_time": "2024-02-22T22:07:44.919Z"
   },
   {
    "duration": 19,
    "start_time": "2024-02-22T22:07:44.941Z"
   },
   {
    "duration": 180,
    "start_time": "2024-02-22T22:07:44.983Z"
   },
   {
    "duration": 197,
    "start_time": "2024-02-22T22:07:45.167Z"
   },
   {
    "duration": 1354,
    "start_time": "2024-02-22T22:07:45.366Z"
   },
   {
    "duration": 6,
    "start_time": "2024-02-22T22:07:46.721Z"
   },
   {
    "duration": 340,
    "start_time": "2024-02-22T22:07:46.729Z"
   },
   {
    "duration": 303,
    "start_time": "2024-02-22T22:07:47.070Z"
   },
   {
    "duration": 1642,
    "start_time": "2024-02-22T22:07:47.375Z"
   },
   {
    "duration": 11,
    "start_time": "2024-02-22T22:07:49.019Z"
   },
   {
    "duration": 22,
    "start_time": "2024-02-22T22:07:49.031Z"
   },
   {
    "duration": 31,
    "start_time": "2024-02-22T22:07:49.055Z"
   },
   {
    "duration": 15,
    "start_time": "2024-02-22T22:07:49.087Z"
   },
   {
    "duration": 193,
    "start_time": "2024-02-22T22:07:49.103Z"
   },
   {
    "duration": 184,
    "start_time": "2024-02-22T22:07:49.298Z"
   },
   {
    "duration": 221,
    "start_time": "2024-02-22T22:07:49.483Z"
   },
   {
    "duration": 236,
    "start_time": "2024-02-22T22:07:49.705Z"
   },
   {
    "duration": 216,
    "start_time": "2024-02-22T22:07:49.942Z"
   },
   {
    "duration": 229,
    "start_time": "2024-02-22T22:07:50.160Z"
   },
   {
    "duration": 214,
    "start_time": "2024-02-22T22:07:50.390Z"
   },
   {
    "duration": 239,
    "start_time": "2024-02-22T22:07:50.606Z"
   },
   {
    "duration": 9,
    "start_time": "2024-02-22T22:07:50.848Z"
   },
   {
    "duration": 8,
    "start_time": "2024-02-22T22:07:50.858Z"
   },
   {
    "duration": 26,
    "start_time": "2024-02-22T22:08:00.368Z"
   },
   {
    "duration": 1143,
    "start_time": "2024-02-22T22:08:19.311Z"
   },
   {
    "duration": 81,
    "start_time": "2024-02-22T22:08:20.456Z"
   },
   {
    "duration": 672,
    "start_time": "2024-02-22T22:08:20.538Z"
   },
   {
    "duration": 17,
    "start_time": "2024-02-22T22:08:21.212Z"
   },
   {
    "duration": 53,
    "start_time": "2024-02-22T22:08:21.230Z"
   },
   {
    "duration": 15,
    "start_time": "2024-02-22T22:08:21.284Z"
   },
   {
    "duration": 19,
    "start_time": "2024-02-22T22:08:21.301Z"
   },
   {
    "duration": 19,
    "start_time": "2024-02-22T22:08:21.322Z"
   },
   {
    "duration": 191,
    "start_time": "2024-02-22T22:08:21.343Z"
   },
   {
    "duration": 196,
    "start_time": "2024-02-22T22:08:21.537Z"
   },
   {
    "duration": 1377,
    "start_time": "2024-02-22T22:08:21.735Z"
   },
   {
    "duration": 6,
    "start_time": "2024-02-22T22:08:23.114Z"
   },
   {
    "duration": 338,
    "start_time": "2024-02-22T22:08:23.122Z"
   },
   {
    "duration": 313,
    "start_time": "2024-02-22T22:08:23.462Z"
   },
   {
    "duration": 1635,
    "start_time": "2024-02-22T22:08:23.777Z"
   },
   {
    "duration": 10,
    "start_time": "2024-02-22T22:08:25.414Z"
   },
   {
    "duration": 13,
    "start_time": "2024-02-22T22:08:25.425Z"
   },
   {
    "duration": 17,
    "start_time": "2024-02-22T22:08:25.439Z"
   },
   {
    "duration": 32,
    "start_time": "2024-02-22T22:08:25.458Z"
   },
   {
    "duration": 192,
    "start_time": "2024-02-22T22:08:25.492Z"
   },
   {
    "duration": 192,
    "start_time": "2024-02-22T22:08:25.686Z"
   },
   {
    "duration": 210,
    "start_time": "2024-02-22T22:08:25.882Z"
   },
   {
    "duration": 234,
    "start_time": "2024-02-22T22:08:26.094Z"
   },
   {
    "duration": 211,
    "start_time": "2024-02-22T22:08:26.330Z"
   },
   {
    "duration": 217,
    "start_time": "2024-02-22T22:08:26.542Z"
   },
   {
    "duration": 211,
    "start_time": "2024-02-22T22:08:26.760Z"
   },
   {
    "duration": 215,
    "start_time": "2024-02-22T22:08:26.973Z"
   },
   {
    "duration": 8,
    "start_time": "2024-02-22T22:08:27.191Z"
   },
   {
    "duration": 8,
    "start_time": "2024-02-22T22:08:27.200Z"
   },
   {
    "duration": 34,
    "start_time": "2024-02-22T22:12:19.614Z"
   },
   {
    "duration": 19,
    "start_time": "2024-02-22T22:12:45.160Z"
   },
   {
    "duration": 20,
    "start_time": "2024-02-22T22:12:53.567Z"
   },
   {
    "duration": 10,
    "start_time": "2024-02-22T22:15:13.620Z"
   },
   {
    "duration": 5,
    "start_time": "2024-02-22T22:15:14.283Z"
   },
   {
    "duration": 9,
    "start_time": "2024-02-22T22:15:14.677Z"
   },
   {
    "duration": 18,
    "start_time": "2024-02-22T22:16:12.402Z"
   },
   {
    "duration": 20,
    "start_time": "2024-02-22T22:17:04.075Z"
   },
   {
    "duration": 20,
    "start_time": "2024-02-22T22:17:09.319Z"
   },
   {
    "duration": 176,
    "start_time": "2024-02-22T22:17:56.794Z"
   },
   {
    "duration": 180,
    "start_time": "2024-02-22T22:18:33.776Z"
   },
   {
    "duration": 265,
    "start_time": "2024-02-22T22:18:40.224Z"
   },
   {
    "duration": 169,
    "start_time": "2024-02-22T22:18:44.569Z"
   },
   {
    "duration": 104,
    "start_time": "2024-02-22T22:19:07.628Z"
   },
   {
    "duration": 167,
    "start_time": "2024-02-22T22:19:18.041Z"
   },
   {
    "duration": 10,
    "start_time": "2024-02-22T22:20:51.012Z"
   },
   {
    "duration": 182,
    "start_time": "2024-02-22T22:20:58.174Z"
   },
   {
    "duration": 166,
    "start_time": "2024-02-22T22:21:16.790Z"
   },
   {
    "duration": 337,
    "start_time": "2024-02-22T22:22:37.465Z"
   },
   {
    "duration": 22,
    "start_time": "2024-02-22T22:23:23.361Z"
   },
   {
    "duration": 31,
    "start_time": "2024-02-22T22:23:43.153Z"
   },
   {
    "duration": 22,
    "start_time": "2024-02-22T22:24:00.503Z"
   },
   {
    "duration": 21,
    "start_time": "2024-02-22T22:24:09.203Z"
   },
   {
    "duration": 45,
    "start_time": "2024-02-22T22:24:57.778Z"
   },
   {
    "duration": 198,
    "start_time": "2024-02-22T22:25:13.102Z"
   },
   {
    "duration": 126,
    "start_time": "2024-02-22T22:26:14.610Z"
   },
   {
    "duration": 363,
    "start_time": "2024-02-22T22:26:39.444Z"
   },
   {
    "duration": 447,
    "start_time": "2024-02-22T22:26:56.552Z"
   },
   {
    "duration": 10,
    "start_time": "2024-02-22T22:27:18.993Z"
   },
   {
    "duration": 368,
    "start_time": "2024-02-22T22:27:25.306Z"
   },
   {
    "duration": 358,
    "start_time": "2024-02-22T22:27:38.449Z"
   },
   {
    "duration": 8,
    "start_time": "2024-02-22T22:27:50.415Z"
   },
   {
    "duration": 11,
    "start_time": "2024-02-22T22:28:26.447Z"
   },
   {
    "duration": 1177,
    "start_time": "2024-02-22T22:29:09.349Z"
   },
   {
    "duration": 74,
    "start_time": "2024-02-22T22:29:27.453Z"
   },
   {
    "duration": 1088,
    "start_time": "2024-02-22T22:29:33.725Z"
   },
   {
    "duration": 16,
    "start_time": "2024-02-22T22:30:08.772Z"
   },
   {
    "duration": 16,
    "start_time": "2024-02-22T22:30:18.081Z"
   },
   {
    "duration": 23,
    "start_time": "2024-02-22T22:31:11.874Z"
   },
   {
    "duration": 10,
    "start_time": "2024-02-22T22:33:41.559Z"
   },
   {
    "duration": 18,
    "start_time": "2024-02-22T22:34:00.490Z"
   },
   {
    "duration": 10,
    "start_time": "2024-02-22T22:34:06.416Z"
   },
   {
    "duration": 10,
    "start_time": "2024-02-22T22:34:22.697Z"
   },
   {
    "duration": 5,
    "start_time": "2024-02-22T22:34:23.051Z"
   },
   {
    "duration": 9,
    "start_time": "2024-02-22T22:34:23.530Z"
   },
   {
    "duration": 20,
    "start_time": "2024-02-22T22:34:30.553Z"
   },
   {
    "duration": 18,
    "start_time": "2024-02-22T22:34:33.438Z"
   },
   {
    "duration": 360,
    "start_time": "2024-02-22T22:34:38.157Z"
   },
   {
    "duration": 1300,
    "start_time": "2024-02-22T22:37:43.542Z"
   },
   {
    "duration": 7,
    "start_time": "2024-02-22T22:41:53.714Z"
   },
   {
    "duration": 298,
    "start_time": "2024-02-22T22:41:55.040Z"
   },
   {
    "duration": 7,
    "start_time": "2024-02-22T22:42:31.132Z"
   },
   {
    "duration": 4,
    "start_time": "2024-02-22T22:42:45.224Z"
   },
   {
    "duration": 4,
    "start_time": "2024-02-22T22:42:53.815Z"
   },
   {
    "duration": 5,
    "start_time": "2024-02-22T22:42:59.221Z"
   },
   {
    "duration": 5,
    "start_time": "2024-02-22T22:43:10.181Z"
   },
   {
    "duration": 333,
    "start_time": "2024-02-22T22:43:24.144Z"
   },
   {
    "duration": 19,
    "start_time": "2024-02-22T22:43:59.818Z"
   },
   {
    "duration": 18,
    "start_time": "2024-02-22T22:44:08.654Z"
   },
   {
    "duration": 347,
    "start_time": "2024-02-22T22:44:11.895Z"
   },
   {
    "duration": 187,
    "start_time": "2024-02-22T22:44:15.356Z"
   },
   {
    "duration": 1291,
    "start_time": "2024-02-22T22:44:18.130Z"
   },
   {
    "duration": 7,
    "start_time": "2024-02-22T22:44:26.822Z"
   },
   {
    "duration": 6,
    "start_time": "2024-02-22T22:44:28.573Z"
   },
   {
    "duration": 322,
    "start_time": "2024-02-22T22:44:31.380Z"
   },
   {
    "duration": 75,
    "start_time": "2024-02-22T22:45:38.901Z"
   },
   {
    "duration": 362,
    "start_time": "2024-02-22T22:45:43.444Z"
   },
   {
    "duration": 298,
    "start_time": "2024-02-22T22:45:57.418Z"
   },
   {
    "duration": 309,
    "start_time": "2024-02-22T22:47:26.350Z"
   },
   {
    "duration": 4,
    "start_time": "2024-02-22T22:47:30.920Z"
   },
   {
    "duration": 21,
    "start_time": "2024-02-22T22:49:05.070Z"
   },
   {
    "duration": 19,
    "start_time": "2024-02-22T22:49:24.334Z"
   },
   {
    "duration": 891,
    "start_time": "2024-02-22T22:50:06.435Z"
   },
   {
    "duration": 940,
    "start_time": "2024-02-22T22:50:10.907Z"
   },
   {
    "duration": 9,
    "start_time": "2024-02-22T22:51:27.953Z"
   },
   {
    "duration": 9,
    "start_time": "2024-02-22T22:51:35.422Z"
   },
   {
    "duration": 63,
    "start_time": "2024-02-22T22:52:58.120Z"
   },
   {
    "duration": 150,
    "start_time": "2024-02-22T22:53:04.937Z"
   },
   {
    "duration": 147,
    "start_time": "2024-02-22T22:53:23.325Z"
   },
   {
    "duration": 153,
    "start_time": "2024-02-22T22:54:00.416Z"
   },
   {
    "duration": 146,
    "start_time": "2024-02-22T23:04:05.568Z"
   },
   {
    "duration": 197,
    "start_time": "2024-02-22T23:04:44.595Z"
   },
   {
    "duration": 179,
    "start_time": "2024-02-22T23:04:54.741Z"
   },
   {
    "duration": 195,
    "start_time": "2024-02-22T23:06:53.153Z"
   },
   {
    "duration": 27,
    "start_time": "2024-02-22T23:07:19.540Z"
   },
   {
    "duration": 264,
    "start_time": "2024-02-22T23:07:34.264Z"
   },
   {
    "duration": 177,
    "start_time": "2024-02-22T23:07:43.271Z"
   },
   {
    "duration": 209,
    "start_time": "2024-02-22T23:10:18.238Z"
   },
   {
    "duration": 11,
    "start_time": "2024-02-22T23:13:59.449Z"
   },
   {
    "duration": 16,
    "start_time": "2024-02-22T23:14:13.086Z"
   },
   {
    "duration": 172,
    "start_time": "2024-02-22T23:14:41.534Z"
   },
   {
    "duration": 177,
    "start_time": "2024-02-22T23:15:39.447Z"
   },
   {
    "duration": 203,
    "start_time": "2024-02-22T23:15:52.696Z"
   },
   {
    "duration": 9,
    "start_time": "2024-02-22T23:23:39.978Z"
   },
   {
    "duration": 24,
    "start_time": "2024-02-22T23:25:14.704Z"
   },
   {
    "duration": 3,
    "start_time": "2024-02-22T23:32:33.789Z"
   },
   {
    "duration": 75,
    "start_time": "2024-02-22T23:32:43.589Z"
   },
   {
    "duration": 74,
    "start_time": "2024-02-22T23:33:01.426Z"
   },
   {
    "duration": 68,
    "start_time": "2024-02-22T23:33:10.879Z"
   },
   {
    "duration": 76,
    "start_time": "2024-02-22T23:33:17.579Z"
   },
   {
    "duration": 25,
    "start_time": "2024-02-22T23:34:01.757Z"
   },
   {
    "duration": 303,
    "start_time": "2024-02-22T23:34:28.381Z"
   },
   {
    "duration": 153,
    "start_time": "2024-02-22T23:34:38.965Z"
   },
   {
    "duration": 155,
    "start_time": "2024-02-22T23:34:58.056Z"
   },
   {
    "duration": 1168,
    "start_time": "2024-02-22T23:35:05.391Z"
   },
   {
    "duration": 161,
    "start_time": "2024-02-22T23:35:19.320Z"
   },
   {
    "duration": 166,
    "start_time": "2024-02-22T23:35:30.875Z"
   },
   {
    "duration": 208,
    "start_time": "2024-02-22T23:35:44.565Z"
   },
   {
    "duration": 225,
    "start_time": "2024-02-22T23:37:52.822Z"
   },
   {
    "duration": 149,
    "start_time": "2024-02-22T23:44:17.680Z"
   },
   {
    "duration": 15,
    "start_time": "2024-02-22T23:44:51.665Z"
   },
   {
    "duration": 1202,
    "start_time": "2024-02-22T23:45:05.959Z"
   },
   {
    "duration": 16,
    "start_time": "2024-02-22T23:45:20.598Z"
   },
   {
    "duration": 15,
    "start_time": "2024-02-22T23:45:49.772Z"
   },
   {
    "duration": 15,
    "start_time": "2024-02-22T23:46:25.128Z"
   },
   {
    "duration": 22,
    "start_time": "2024-02-22T23:47:32.628Z"
   },
   {
    "duration": 1117,
    "start_time": "2024-02-22T23:47:49.688Z"
   },
   {
    "duration": 17,
    "start_time": "2024-02-22T23:48:10.896Z"
   },
   {
    "duration": 14,
    "start_time": "2024-02-22T23:49:26.238Z"
   },
   {
    "duration": 122,
    "start_time": "2024-02-22T23:50:17.759Z"
   },
   {
    "duration": 111,
    "start_time": "2024-02-22T23:50:27.132Z"
   },
   {
    "duration": 108,
    "start_time": "2024-02-22T23:50:44.007Z"
   },
   {
    "duration": 103,
    "start_time": "2024-02-22T23:51:02.231Z"
   },
   {
    "duration": 112,
    "start_time": "2024-02-22T23:52:01.954Z"
   },
   {
    "duration": 103,
    "start_time": "2024-02-22T23:52:33.983Z"
   },
   {
    "duration": 1191,
    "start_time": "2024-02-22T23:53:59.513Z"
   },
   {
    "duration": 86,
    "start_time": "2024-02-22T23:54:00.706Z"
   },
   {
    "duration": 695,
    "start_time": "2024-02-22T23:54:00.793Z"
   },
   {
    "duration": 16,
    "start_time": "2024-02-22T23:54:01.490Z"
   },
   {
    "duration": 76,
    "start_time": "2024-02-22T23:54:01.507Z"
   },
   {
    "duration": 10,
    "start_time": "2024-02-22T23:54:01.585Z"
   },
   {
    "duration": 40,
    "start_time": "2024-02-22T23:54:01.596Z"
   },
   {
    "duration": 56,
    "start_time": "2024-02-22T23:54:01.638Z"
   },
   {
    "duration": 42,
    "start_time": "2024-02-22T23:54:01.695Z"
   },
   {
    "duration": 28,
    "start_time": "2024-02-22T23:54:01.740Z"
   },
   {
    "duration": 389,
    "start_time": "2024-02-22T23:54:01.769Z"
   },
   {
    "duration": 189,
    "start_time": "2024-02-22T23:54:02.159Z"
   },
   {
    "duration": 1324,
    "start_time": "2024-02-22T23:54:02.350Z"
   },
   {
    "duration": 11,
    "start_time": "2024-02-22T23:54:03.676Z"
   },
   {
    "duration": 372,
    "start_time": "2024-02-22T23:54:03.688Z"
   },
   {
    "duration": 5,
    "start_time": "2024-02-22T23:54:04.062Z"
   },
   {
    "duration": 300,
    "start_time": "2024-02-22T23:54:04.069Z"
   },
   {
    "duration": 164,
    "start_time": "2024-02-22T23:54:04.370Z"
   },
   {
    "duration": 170,
    "start_time": "2024-02-22T23:54:04.536Z"
   },
   {
    "duration": 12,
    "start_time": "2024-02-22T23:54:04.708Z"
   },
   {
    "duration": 11,
    "start_time": "2024-02-22T23:54:04.722Z"
   },
   {
    "duration": 24,
    "start_time": "2024-02-22T23:54:04.734Z"
   },
   {
    "duration": 31,
    "start_time": "2024-02-22T23:54:04.759Z"
   },
   {
    "duration": 198,
    "start_time": "2024-02-22T23:54:04.791Z"
   },
   {
    "duration": 193,
    "start_time": "2024-02-22T23:54:04.991Z"
   },
   {
    "duration": 196,
    "start_time": "2024-02-22T23:54:05.186Z"
   },
   {
    "duration": 115,
    "start_time": "2024-02-22T23:54:05.383Z"
   },
   {
    "duration": 123,
    "start_time": "2024-02-22T23:54:05.501Z"
   },
   {
    "duration": 104,
    "start_time": "2024-02-22T23:54:05.626Z"
   },
   {
    "duration": 113,
    "start_time": "2024-02-22T23:54:05.732Z"
   },
   {
    "duration": 125,
    "start_time": "2024-02-22T23:54:05.847Z"
   },
   {
    "duration": 212,
    "start_time": "2024-02-22T23:54:05.974Z"
   },
   {
    "duration": 8,
    "start_time": "2024-02-22T23:54:06.187Z"
   },
   {
    "duration": 10,
    "start_time": "2024-02-22T23:54:06.197Z"
   },
   {
    "duration": 1270,
    "start_time": "2024-02-23T05:33:25.505Z"
   },
   {
    "duration": 130,
    "start_time": "2024-02-23T05:33:26.777Z"
   },
   {
    "duration": 579,
    "start_time": "2024-02-23T05:33:26.908Z"
   },
   {
    "duration": 15,
    "start_time": "2024-02-23T05:33:27.490Z"
   },
   {
    "duration": 36,
    "start_time": "2024-02-23T05:33:27.506Z"
   },
   {
    "duration": 26,
    "start_time": "2024-02-23T05:33:27.543Z"
   },
   {
    "duration": 6,
    "start_time": "2024-02-23T05:33:27.571Z"
   },
   {
    "duration": 12,
    "start_time": "2024-02-23T05:33:27.578Z"
   },
   {
    "duration": 20,
    "start_time": "2024-02-23T05:33:27.591Z"
   },
   {
    "duration": 21,
    "start_time": "2024-02-23T05:33:27.615Z"
   },
   {
    "duration": 355,
    "start_time": "2024-02-23T05:33:27.666Z"
   },
   {
    "duration": 168,
    "start_time": "2024-02-23T05:33:28.023Z"
   },
   {
    "duration": 1252,
    "start_time": "2024-02-23T05:33:28.193Z"
   },
   {
    "duration": 8,
    "start_time": "2024-02-23T05:33:29.446Z"
   },
   {
    "duration": 313,
    "start_time": "2024-02-23T05:33:29.455Z"
   },
   {
    "duration": 5,
    "start_time": "2024-02-23T05:33:29.770Z"
   },
   {
    "duration": 283,
    "start_time": "2024-02-23T05:33:29.777Z"
   },
   {
    "duration": 139,
    "start_time": "2024-02-23T05:33:30.064Z"
   },
   {
    "duration": 149,
    "start_time": "2024-02-23T05:33:30.205Z"
   },
   {
    "duration": 11,
    "start_time": "2024-02-23T05:33:30.365Z"
   },
   {
    "duration": 66,
    "start_time": "2024-02-23T05:33:30.377Z"
   },
   {
    "duration": 35,
    "start_time": "2024-02-23T05:33:30.445Z"
   },
   {
    "duration": 39,
    "start_time": "2024-02-23T05:33:30.482Z"
   },
   {
    "duration": 219,
    "start_time": "2024-02-23T05:33:30.523Z"
   },
   {
    "duration": 160,
    "start_time": "2024-02-23T05:33:30.744Z"
   },
   {
    "duration": 183,
    "start_time": "2024-02-23T05:33:30.906Z"
   },
   {
    "duration": 111,
    "start_time": "2024-02-23T05:33:31.091Z"
   },
   {
    "duration": 101,
    "start_time": "2024-02-23T05:33:31.206Z"
   },
   {
    "duration": 112,
    "start_time": "2024-02-23T05:33:31.308Z"
   },
   {
    "duration": 104,
    "start_time": "2024-02-23T05:33:31.421Z"
   },
   {
    "duration": 112,
    "start_time": "2024-02-23T05:33:31.528Z"
   },
   {
    "duration": 225,
    "start_time": "2024-02-23T05:33:31.642Z"
   },
   {
    "duration": 8,
    "start_time": "2024-02-23T05:33:31.869Z"
   },
   {
    "duration": 9,
    "start_time": "2024-02-23T05:33:31.878Z"
   },
   {
    "duration": 10,
    "start_time": "2024-02-23T05:34:21.357Z"
   },
   {
    "duration": 10,
    "start_time": "2024-02-23T05:34:26.424Z"
   },
   {
    "duration": 5,
    "start_time": "2024-02-23T05:35:53.504Z"
   },
   {
    "duration": 6,
    "start_time": "2024-02-23T05:36:07.284Z"
   },
   {
    "duration": 315,
    "start_time": "2024-02-23T05:38:44.529Z"
   },
   {
    "duration": 260,
    "start_time": "2024-02-23T05:39:09.250Z"
   },
   {
    "duration": 245,
    "start_time": "2024-02-23T05:39:19.838Z"
   }
  ],
  "kernelspec": {
   "display_name": "Python 3 (ipykernel)",
   "language": "python",
   "name": "python3"
  },
  "language_info": {
   "codemirror_mode": {
    "name": "ipython",
    "version": 3
   },
   "file_extension": ".py",
   "mimetype": "text/x-python",
   "name": "python",
   "nbconvert_exporter": "python",
   "pygments_lexer": "ipython3",
   "version": "3.9.5"
  },
  "toc": {
   "base_numbering": 1,
   "nav_menu": {},
   "number_sections": true,
   "sideBar": true,
   "skip_h1_title": true,
   "title_cell": "Table of Contents",
   "title_sidebar": "Contents",
   "toc_cell": false,
   "toc_position": {},
   "toc_section_display": true,
   "toc_window_display": false
  }
 },
 "nbformat": 4,
 "nbformat_minor": 2
}
