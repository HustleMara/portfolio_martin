{
 "cells": [
  {
   "cell_type": "markdown",
   "id": "386f2ae7",
   "metadata": {
    "deletable": false,
    "editable": false,
    "id": "386f2ae7"
   },
   "source": [
    "# Исследование надежности заемщиков\n"
   ]
  },
  {
   "cell_type": "markdown",
   "id": "ffe86f65",
   "metadata": {
    "deletable": false,
    "editable": false,
    "id": "ffe86f65"
   },
   "source": [
    "Во второй части проекта вы выполните шаги 3 и 4. Их вручную проверит ревьюер.\n",
    "Чтобы вам не пришлось писать код заново для шагов 1 и 2, мы добавили авторские решения в ячейки с кодом. \n",
    "\n"
   ]
  },
  {
   "cell_type": "markdown",
   "id": "26613308",
   "metadata": {
    "deletable": false,
    "editable": false,
    "id": "26613308"
   },
   "source": [
    "## Откройте таблицу и изучите общую информацию о данных"
   ]
  },
  {
   "cell_type": "markdown",
   "id": "3c9f838e",
   "metadata": {
    "deletable": false,
    "editable": false,
    "id": "3c9f838e"
   },
   "source": [
    "**Задание 1. Импортируйте библиотеку pandas. Считайте данные из csv-файла в датафрейм и сохраните в переменную `data`. Путь к файлу:**\n",
    "\n",
    "`/datasets/data.csv`"
   ]
  },
  {
   "cell_type": "code",
   "execution_count": 1,
   "id": "77a68a90",
   "metadata": {
    "deletable": false,
    "id": "77a68a90"
   },
   "outputs": [],
   "source": [
    "import pandas as pd\n",
    "\n",
    "try:\n",
    "    data = pd.read_csv('/datasets/data.csv')\n",
    "except:\n",
    "    data = pd.read_csv('https://code.s3.yandex.net/datasets/data.csv')"
   ]
  },
  {
   "cell_type": "markdown",
   "id": "45365635",
   "metadata": {
    "deletable": false,
    "editable": false,
    "id": "45365635"
   },
   "source": [
    "**Задание 2. Выведите первые 20 строчек датафрейма `data` на экран.**"
   ]
  },
  {
   "cell_type": "code",
   "execution_count": 2,
   "id": "b0451a9a",
   "metadata": {
    "deletable": false,
    "id": "b0451a9a",
    "outputId": "1a8f3ef2-d323-4ec2-ddf7-89670b5944c4"
   },
   "outputs": [
    {
     "data": {
      "text/html": [
       "<div>\n",
       "<style scoped>\n",
       "    .dataframe tbody tr th:only-of-type {\n",
       "        vertical-align: middle;\n",
       "    }\n",
       "\n",
       "    .dataframe tbody tr th {\n",
       "        vertical-align: top;\n",
       "    }\n",
       "\n",
       "    .dataframe thead th {\n",
       "        text-align: right;\n",
       "    }\n",
       "</style>\n",
       "<table border=\"1\" class=\"dataframe\">\n",
       "  <thead>\n",
       "    <tr style=\"text-align: right;\">\n",
       "      <th></th>\n",
       "      <th>children</th>\n",
       "      <th>days_employed</th>\n",
       "      <th>dob_years</th>\n",
       "      <th>education</th>\n",
       "      <th>education_id</th>\n",
       "      <th>family_status</th>\n",
       "      <th>family_status_id</th>\n",
       "      <th>gender</th>\n",
       "      <th>income_type</th>\n",
       "      <th>debt</th>\n",
       "      <th>total_income</th>\n",
       "      <th>purpose</th>\n",
       "    </tr>\n",
       "  </thead>\n",
       "  <tbody>\n",
       "    <tr>\n",
       "      <th>0</th>\n",
       "      <td>1</td>\n",
       "      <td>-8437.673028</td>\n",
       "      <td>42</td>\n",
       "      <td>высшее</td>\n",
       "      <td>0</td>\n",
       "      <td>женат / замужем</td>\n",
       "      <td>0</td>\n",
       "      <td>F</td>\n",
       "      <td>сотрудник</td>\n",
       "      <td>0</td>\n",
       "      <td>253875.639453</td>\n",
       "      <td>покупка жилья</td>\n",
       "    </tr>\n",
       "    <tr>\n",
       "      <th>1</th>\n",
       "      <td>1</td>\n",
       "      <td>-4024.803754</td>\n",
       "      <td>36</td>\n",
       "      <td>среднее</td>\n",
       "      <td>1</td>\n",
       "      <td>женат / замужем</td>\n",
       "      <td>0</td>\n",
       "      <td>F</td>\n",
       "      <td>сотрудник</td>\n",
       "      <td>0</td>\n",
       "      <td>112080.014102</td>\n",
       "      <td>приобретение автомобиля</td>\n",
       "    </tr>\n",
       "    <tr>\n",
       "      <th>2</th>\n",
       "      <td>0</td>\n",
       "      <td>-5623.422610</td>\n",
       "      <td>33</td>\n",
       "      <td>Среднее</td>\n",
       "      <td>1</td>\n",
       "      <td>женат / замужем</td>\n",
       "      <td>0</td>\n",
       "      <td>M</td>\n",
       "      <td>сотрудник</td>\n",
       "      <td>0</td>\n",
       "      <td>145885.952297</td>\n",
       "      <td>покупка жилья</td>\n",
       "    </tr>\n",
       "    <tr>\n",
       "      <th>3</th>\n",
       "      <td>3</td>\n",
       "      <td>-4124.747207</td>\n",
       "      <td>32</td>\n",
       "      <td>среднее</td>\n",
       "      <td>1</td>\n",
       "      <td>женат / замужем</td>\n",
       "      <td>0</td>\n",
       "      <td>M</td>\n",
       "      <td>сотрудник</td>\n",
       "      <td>0</td>\n",
       "      <td>267628.550329</td>\n",
       "      <td>дополнительное образование</td>\n",
       "    </tr>\n",
       "    <tr>\n",
       "      <th>4</th>\n",
       "      <td>0</td>\n",
       "      <td>340266.072047</td>\n",
       "      <td>53</td>\n",
       "      <td>среднее</td>\n",
       "      <td>1</td>\n",
       "      <td>гражданский брак</td>\n",
       "      <td>1</td>\n",
       "      <td>F</td>\n",
       "      <td>пенсионер</td>\n",
       "      <td>0</td>\n",
       "      <td>158616.077870</td>\n",
       "      <td>сыграть свадьбу</td>\n",
       "    </tr>\n",
       "    <tr>\n",
       "      <th>5</th>\n",
       "      <td>0</td>\n",
       "      <td>-926.185831</td>\n",
       "      <td>27</td>\n",
       "      <td>высшее</td>\n",
       "      <td>0</td>\n",
       "      <td>гражданский брак</td>\n",
       "      <td>1</td>\n",
       "      <td>M</td>\n",
       "      <td>компаньон</td>\n",
       "      <td>0</td>\n",
       "      <td>255763.565419</td>\n",
       "      <td>покупка жилья</td>\n",
       "    </tr>\n",
       "    <tr>\n",
       "      <th>6</th>\n",
       "      <td>0</td>\n",
       "      <td>-2879.202052</td>\n",
       "      <td>43</td>\n",
       "      <td>высшее</td>\n",
       "      <td>0</td>\n",
       "      <td>женат / замужем</td>\n",
       "      <td>0</td>\n",
       "      <td>F</td>\n",
       "      <td>компаньон</td>\n",
       "      <td>0</td>\n",
       "      <td>240525.971920</td>\n",
       "      <td>операции с жильем</td>\n",
       "    </tr>\n",
       "    <tr>\n",
       "      <th>7</th>\n",
       "      <td>0</td>\n",
       "      <td>-152.779569</td>\n",
       "      <td>50</td>\n",
       "      <td>СРЕДНЕЕ</td>\n",
       "      <td>1</td>\n",
       "      <td>женат / замужем</td>\n",
       "      <td>0</td>\n",
       "      <td>M</td>\n",
       "      <td>сотрудник</td>\n",
       "      <td>0</td>\n",
       "      <td>135823.934197</td>\n",
       "      <td>образование</td>\n",
       "    </tr>\n",
       "    <tr>\n",
       "      <th>8</th>\n",
       "      <td>2</td>\n",
       "      <td>-6929.865299</td>\n",
       "      <td>35</td>\n",
       "      <td>ВЫСШЕЕ</td>\n",
       "      <td>0</td>\n",
       "      <td>гражданский брак</td>\n",
       "      <td>1</td>\n",
       "      <td>F</td>\n",
       "      <td>сотрудник</td>\n",
       "      <td>0</td>\n",
       "      <td>95856.832424</td>\n",
       "      <td>на проведение свадьбы</td>\n",
       "    </tr>\n",
       "    <tr>\n",
       "      <th>9</th>\n",
       "      <td>0</td>\n",
       "      <td>-2188.756445</td>\n",
       "      <td>41</td>\n",
       "      <td>среднее</td>\n",
       "      <td>1</td>\n",
       "      <td>женат / замужем</td>\n",
       "      <td>0</td>\n",
       "      <td>M</td>\n",
       "      <td>сотрудник</td>\n",
       "      <td>0</td>\n",
       "      <td>144425.938277</td>\n",
       "      <td>покупка жилья для семьи</td>\n",
       "    </tr>\n",
       "    <tr>\n",
       "      <th>10</th>\n",
       "      <td>2</td>\n",
       "      <td>-4171.483647</td>\n",
       "      <td>36</td>\n",
       "      <td>высшее</td>\n",
       "      <td>0</td>\n",
       "      <td>женат / замужем</td>\n",
       "      <td>0</td>\n",
       "      <td>M</td>\n",
       "      <td>компаньон</td>\n",
       "      <td>0</td>\n",
       "      <td>113943.491460</td>\n",
       "      <td>покупка недвижимости</td>\n",
       "    </tr>\n",
       "    <tr>\n",
       "      <th>11</th>\n",
       "      <td>0</td>\n",
       "      <td>-792.701887</td>\n",
       "      <td>40</td>\n",
       "      <td>среднее</td>\n",
       "      <td>1</td>\n",
       "      <td>женат / замужем</td>\n",
       "      <td>0</td>\n",
       "      <td>F</td>\n",
       "      <td>сотрудник</td>\n",
       "      <td>0</td>\n",
       "      <td>77069.234271</td>\n",
       "      <td>покупка коммерческой недвижимости</td>\n",
       "    </tr>\n",
       "    <tr>\n",
       "      <th>12</th>\n",
       "      <td>0</td>\n",
       "      <td>NaN</td>\n",
       "      <td>65</td>\n",
       "      <td>среднее</td>\n",
       "      <td>1</td>\n",
       "      <td>гражданский брак</td>\n",
       "      <td>1</td>\n",
       "      <td>M</td>\n",
       "      <td>пенсионер</td>\n",
       "      <td>0</td>\n",
       "      <td>NaN</td>\n",
       "      <td>сыграть свадьбу</td>\n",
       "    </tr>\n",
       "    <tr>\n",
       "      <th>13</th>\n",
       "      <td>0</td>\n",
       "      <td>-1846.641941</td>\n",
       "      <td>54</td>\n",
       "      <td>неоконченное высшее</td>\n",
       "      <td>2</td>\n",
       "      <td>женат / замужем</td>\n",
       "      <td>0</td>\n",
       "      <td>F</td>\n",
       "      <td>сотрудник</td>\n",
       "      <td>0</td>\n",
       "      <td>130458.228857</td>\n",
       "      <td>приобретение автомобиля</td>\n",
       "    </tr>\n",
       "    <tr>\n",
       "      <th>14</th>\n",
       "      <td>0</td>\n",
       "      <td>-1844.956182</td>\n",
       "      <td>56</td>\n",
       "      <td>высшее</td>\n",
       "      <td>0</td>\n",
       "      <td>гражданский брак</td>\n",
       "      <td>1</td>\n",
       "      <td>F</td>\n",
       "      <td>компаньон</td>\n",
       "      <td>1</td>\n",
       "      <td>165127.911772</td>\n",
       "      <td>покупка жилой недвижимости</td>\n",
       "    </tr>\n",
       "    <tr>\n",
       "      <th>15</th>\n",
       "      <td>1</td>\n",
       "      <td>-972.364419</td>\n",
       "      <td>26</td>\n",
       "      <td>среднее</td>\n",
       "      <td>1</td>\n",
       "      <td>женат / замужем</td>\n",
       "      <td>0</td>\n",
       "      <td>F</td>\n",
       "      <td>сотрудник</td>\n",
       "      <td>0</td>\n",
       "      <td>116820.904450</td>\n",
       "      <td>строительство собственной недвижимости</td>\n",
       "    </tr>\n",
       "    <tr>\n",
       "      <th>16</th>\n",
       "      <td>0</td>\n",
       "      <td>-1719.934226</td>\n",
       "      <td>35</td>\n",
       "      <td>среднее</td>\n",
       "      <td>1</td>\n",
       "      <td>женат / замужем</td>\n",
       "      <td>0</td>\n",
       "      <td>F</td>\n",
       "      <td>сотрудник</td>\n",
       "      <td>0</td>\n",
       "      <td>289202.704229</td>\n",
       "      <td>недвижимость</td>\n",
       "    </tr>\n",
       "    <tr>\n",
       "      <th>17</th>\n",
       "      <td>0</td>\n",
       "      <td>-2369.999720</td>\n",
       "      <td>33</td>\n",
       "      <td>высшее</td>\n",
       "      <td>0</td>\n",
       "      <td>гражданский брак</td>\n",
       "      <td>1</td>\n",
       "      <td>M</td>\n",
       "      <td>сотрудник</td>\n",
       "      <td>0</td>\n",
       "      <td>90410.586745</td>\n",
       "      <td>строительство недвижимости</td>\n",
       "    </tr>\n",
       "    <tr>\n",
       "      <th>18</th>\n",
       "      <td>0</td>\n",
       "      <td>400281.136913</td>\n",
       "      <td>53</td>\n",
       "      <td>среднее</td>\n",
       "      <td>1</td>\n",
       "      <td>вдовец / вдова</td>\n",
       "      <td>2</td>\n",
       "      <td>F</td>\n",
       "      <td>пенсионер</td>\n",
       "      <td>0</td>\n",
       "      <td>56823.777243</td>\n",
       "      <td>на покупку подержанного автомобиля</td>\n",
       "    </tr>\n",
       "    <tr>\n",
       "      <th>19</th>\n",
       "      <td>0</td>\n",
       "      <td>-10038.818549</td>\n",
       "      <td>48</td>\n",
       "      <td>СРЕДНЕЕ</td>\n",
       "      <td>1</td>\n",
       "      <td>в разводе</td>\n",
       "      <td>3</td>\n",
       "      <td>F</td>\n",
       "      <td>сотрудник</td>\n",
       "      <td>0</td>\n",
       "      <td>242831.107982</td>\n",
       "      <td>на покупку своего автомобиля</td>\n",
       "    </tr>\n",
       "  </tbody>\n",
       "</table>\n",
       "</div>"
      ],
      "text/plain": [
       "    children  days_employed  dob_years            education  education_id  \\\n",
       "0          1   -8437.673028         42               высшее             0   \n",
       "1          1   -4024.803754         36              среднее             1   \n",
       "2          0   -5623.422610         33              Среднее             1   \n",
       "3          3   -4124.747207         32              среднее             1   \n",
       "4          0  340266.072047         53              среднее             1   \n",
       "5          0    -926.185831         27               высшее             0   \n",
       "6          0   -2879.202052         43               высшее             0   \n",
       "7          0    -152.779569         50              СРЕДНЕЕ             1   \n",
       "8          2   -6929.865299         35               ВЫСШЕЕ             0   \n",
       "9          0   -2188.756445         41              среднее             1   \n",
       "10         2   -4171.483647         36               высшее             0   \n",
       "11         0    -792.701887         40              среднее             1   \n",
       "12         0            NaN         65              среднее             1   \n",
       "13         0   -1846.641941         54  неоконченное высшее             2   \n",
       "14         0   -1844.956182         56               высшее             0   \n",
       "15         1    -972.364419         26              среднее             1   \n",
       "16         0   -1719.934226         35              среднее             1   \n",
       "17         0   -2369.999720         33               высшее             0   \n",
       "18         0  400281.136913         53              среднее             1   \n",
       "19         0  -10038.818549         48              СРЕДНЕЕ             1   \n",
       "\n",
       "       family_status  family_status_id gender income_type  debt  \\\n",
       "0    женат / замужем                 0      F   сотрудник     0   \n",
       "1    женат / замужем                 0      F   сотрудник     0   \n",
       "2    женат / замужем                 0      M   сотрудник     0   \n",
       "3    женат / замужем                 0      M   сотрудник     0   \n",
       "4   гражданский брак                 1      F   пенсионер     0   \n",
       "5   гражданский брак                 1      M   компаньон     0   \n",
       "6    женат / замужем                 0      F   компаньон     0   \n",
       "7    женат / замужем                 0      M   сотрудник     0   \n",
       "8   гражданский брак                 1      F   сотрудник     0   \n",
       "9    женат / замужем                 0      M   сотрудник     0   \n",
       "10   женат / замужем                 0      M   компаньон     0   \n",
       "11   женат / замужем                 0      F   сотрудник     0   \n",
       "12  гражданский брак                 1      M   пенсионер     0   \n",
       "13   женат / замужем                 0      F   сотрудник     0   \n",
       "14  гражданский брак                 1      F   компаньон     1   \n",
       "15   женат / замужем                 0      F   сотрудник     0   \n",
       "16   женат / замужем                 0      F   сотрудник     0   \n",
       "17  гражданский брак                 1      M   сотрудник     0   \n",
       "18    вдовец / вдова                 2      F   пенсионер     0   \n",
       "19         в разводе                 3      F   сотрудник     0   \n",
       "\n",
       "     total_income                                 purpose  \n",
       "0   253875.639453                           покупка жилья  \n",
       "1   112080.014102                 приобретение автомобиля  \n",
       "2   145885.952297                           покупка жилья  \n",
       "3   267628.550329              дополнительное образование  \n",
       "4   158616.077870                         сыграть свадьбу  \n",
       "5   255763.565419                           покупка жилья  \n",
       "6   240525.971920                       операции с жильем  \n",
       "7   135823.934197                             образование  \n",
       "8    95856.832424                   на проведение свадьбы  \n",
       "9   144425.938277                 покупка жилья для семьи  \n",
       "10  113943.491460                    покупка недвижимости  \n",
       "11   77069.234271       покупка коммерческой недвижимости  \n",
       "12            NaN                         сыграть свадьбу  \n",
       "13  130458.228857                 приобретение автомобиля  \n",
       "14  165127.911772              покупка жилой недвижимости  \n",
       "15  116820.904450  строительство собственной недвижимости  \n",
       "16  289202.704229                            недвижимость  \n",
       "17   90410.586745              строительство недвижимости  \n",
       "18   56823.777243      на покупку подержанного автомобиля  \n",
       "19  242831.107982            на покупку своего автомобиля  "
      ]
     },
     "execution_count": 2,
     "metadata": {},
     "output_type": "execute_result"
    }
   ],
   "source": [
    "data.head(20)"
   ]
  },
  {
   "cell_type": "markdown",
   "id": "0ed8f27f",
   "metadata": {
    "deletable": false,
    "editable": false,
    "id": "0ed8f27f"
   },
   "source": [
    "**Задание 3. Выведите основную информацию о датафрейме с помощью метода `info()`.**"
   ]
  },
  {
   "cell_type": "code",
   "execution_count": 3,
   "id": "ab3f863b",
   "metadata": {
    "deletable": false,
    "id": "ab3f863b",
    "outputId": "15376089-8dad-46c9-b520-c05248d43158"
   },
   "outputs": [
    {
     "name": "stdout",
     "output_type": "stream",
     "text": [
      "<class 'pandas.core.frame.DataFrame'>\n",
      "RangeIndex: 21525 entries, 0 to 21524\n",
      "Data columns (total 12 columns):\n",
      " #   Column            Non-Null Count  Dtype  \n",
      "---  ------            --------------  -----  \n",
      " 0   children          21525 non-null  int64  \n",
      " 1   days_employed     19351 non-null  float64\n",
      " 2   dob_years         21525 non-null  int64  \n",
      " 3   education         21525 non-null  object \n",
      " 4   education_id      21525 non-null  int64  \n",
      " 5   family_status     21525 non-null  object \n",
      " 6   family_status_id  21525 non-null  int64  \n",
      " 7   gender            21525 non-null  object \n",
      " 8   income_type       21525 non-null  object \n",
      " 9   debt              21525 non-null  int64  \n",
      " 10  total_income      19351 non-null  float64\n",
      " 11  purpose           21525 non-null  object \n",
      "dtypes: float64(2), int64(5), object(5)\n",
      "memory usage: 2.0+ MB\n"
     ]
    }
   ],
   "source": [
    "data.info()"
   ]
  },
  {
   "cell_type": "markdown",
   "id": "60e3e22d",
   "metadata": {
    "deletable": false,
    "editable": false,
    "id": "60e3e22d"
   },
   "source": [
    "## Предобработка данных"
   ]
  },
  {
   "cell_type": "markdown",
   "id": "03dc170c",
   "metadata": {
    "deletable": false,
    "editable": false,
    "id": "03dc170c"
   },
   "source": [
    "### Удаление пропусков"
   ]
  },
  {
   "cell_type": "markdown",
   "id": "a4f54eef",
   "metadata": {
    "deletable": false,
    "editable": false,
    "id": "a4f54eef"
   },
   "source": [
    "**Задание 4. Выведите количество пропущенных значений для каждого столбца. Используйте комбинацию двух методов.**"
   ]
  },
  {
   "cell_type": "code",
   "execution_count": 4,
   "id": "2dc372b2",
   "metadata": {
    "deletable": false,
    "id": "2dc372b2",
    "outputId": "81f4d817-781c-465c-ed15-91ce4446810d"
   },
   "outputs": [
    {
     "data": {
      "text/plain": [
       "children               0\n",
       "days_employed       2174\n",
       "dob_years              0\n",
       "education              0\n",
       "education_id           0\n",
       "family_status          0\n",
       "family_status_id       0\n",
       "gender                 0\n",
       "income_type            0\n",
       "debt                   0\n",
       "total_income        2174\n",
       "purpose                0\n",
       "dtype: int64"
      ]
     },
     "execution_count": 4,
     "metadata": {},
     "output_type": "execute_result"
    }
   ],
   "source": [
    "data.isna().sum()"
   ]
  },
  {
   "cell_type": "markdown",
   "id": "14f011b1",
   "metadata": {
    "deletable": false,
    "editable": false,
    "id": "14f011b1"
   },
   "source": [
    "**Задание 5. В двух столбцах есть пропущенные значения. Один из них — `days_employed`. Пропуски в этом столбце вы обработаете на следующем этапе. Другой столбец с пропущенными значениями — `total_income` — хранит данные о доходах. На сумму дохода сильнее всего влияет тип занятости, поэтому заполнить пропуски в этом столбце нужно медианным значением по каждому типу из столбца `income_type`. Например, у человека с типом занятости `сотрудник` пропуск в столбце `total_income` должен быть заполнен медианным доходом среди всех записей с тем же типом.**"
   ]
  },
  {
   "cell_type": "code",
   "execution_count": 5,
   "id": "bdabfb6e",
   "metadata": {
    "deletable": false,
    "id": "bdabfb6e"
   },
   "outputs": [],
   "source": [
    "for t in data['income_type'].unique():\n",
    "    data.loc[(data['income_type'] == t) & (data['total_income'].isna()), 'total_income'] = \\\n",
    "    data.loc[(data['income_type'] == t), 'total_income'].median()"
   ]
  },
  {
   "cell_type": "markdown",
   "id": "5be34059",
   "metadata": {
    "deletable": false,
    "editable": false,
    "id": "5be34059"
   },
   "source": [
    "### Обработка аномальных значений"
   ]
  },
  {
   "cell_type": "markdown",
   "id": "a87606cb",
   "metadata": {
    "deletable": false,
    "editable": false,
    "id": "a87606cb"
   },
   "source": [
    "**Задание 6. В данных могут встречаться артефакты (аномалии) — значения, которые не отражают действительность и появились по какой-то ошибке. таким артефактом будет отрицательное количество дней трудового стажа в столбце `days_employed`. Для реальных данных это нормально. Обработайте значения в этом столбце: замените все отрицательные значения положительными с помощью метода `abs()`.**"
   ]
  },
  {
   "cell_type": "code",
   "execution_count": 6,
   "id": "020c46cc",
   "metadata": {
    "deletable": false,
    "id": "020c46cc"
   },
   "outputs": [],
   "source": [
    "data['days_employed'] = data['days_employed'].abs()"
   ]
  },
  {
   "cell_type": "markdown",
   "id": "45538a3a",
   "metadata": {
    "deletable": false,
    "editable": false,
    "id": "45538a3a"
   },
   "source": [
    "**Задание 7. Для каждого типа занятости выведите медианное значение трудового стажа `days_employed` в днях.**"
   ]
  },
  {
   "cell_type": "code",
   "execution_count": 7,
   "id": "cd3e6328",
   "metadata": {
    "deletable": false,
    "id": "cd3e6328",
    "outputId": "801ef80e-522b-4668-f34e-565af7432bcf"
   },
   "outputs": [
    {
     "data": {
      "text/plain": [
       "income_type\n",
       "безработный        366413.652744\n",
       "в декрете            3296.759962\n",
       "госслужащий          2689.368353\n",
       "компаньон            1547.382223\n",
       "пенсионер          365213.306266\n",
       "предприниматель       520.848083\n",
       "сотрудник            1574.202821\n",
       "студент               578.751554\n",
       "Name: days_employed, dtype: float64"
      ]
     },
     "execution_count": 7,
     "metadata": {},
     "output_type": "execute_result"
    }
   ],
   "source": [
    "data.groupby('income_type')['days_employed'].agg('median')"
   ]
  },
  {
   "cell_type": "markdown",
   "id": "90c5f058",
   "metadata": {
    "deletable": false,
    "editable": false,
    "id": "90c5f058"
   },
   "source": [
    "У двух типов (безработные и пенсионеры) получатся аномально большие значения. Исправить такие значения сложно, поэтому оставьте их как есть."
   ]
  },
  {
   "cell_type": "markdown",
   "id": "9652e50d",
   "metadata": {
    "deletable": false,
    "editable": false,
    "id": "9652e50d"
   },
   "source": [
    "**Задание 8. Выведите перечень уникальных значений столбца `children`.**"
   ]
  },
  {
   "cell_type": "code",
   "execution_count": 8,
   "id": "dbb37b8e",
   "metadata": {
    "deletable": false,
    "id": "dbb37b8e",
    "outputId": "6975b15c-7f95-4697-d16d-a0c79b657b03"
   },
   "outputs": [
    {
     "data": {
      "text/plain": [
       "array([ 1,  0,  3,  2, -1,  4, 20,  5])"
      ]
     },
     "execution_count": 8,
     "metadata": {},
     "output_type": "execute_result"
    }
   ],
   "source": [
    "data['children'].unique()"
   ]
  },
  {
   "cell_type": "markdown",
   "id": "2b8b0715",
   "metadata": {
    "deletable": false,
    "editable": false,
    "id": "2b8b0715"
   },
   "source": [
    "**Задание 9. В столбце `children` есть два аномальных значения. Удалите строки, в которых встречаются такие аномальные значения из датафрейма `data`.**"
   ]
  },
  {
   "cell_type": "code",
   "execution_count": 9,
   "id": "20009df8",
   "metadata": {
    "deletable": false,
    "id": "20009df8"
   },
   "outputs": [],
   "source": [
    "data = data[(data['children'] != -1) & (data['children'] != 20)]"
   ]
  },
  {
   "cell_type": "markdown",
   "id": "8c6ac9f1",
   "metadata": {
    "deletable": false,
    "editable": false,
    "id": "8c6ac9f1"
   },
   "source": [
    "**Задание 10. Ещё раз выведите перечень уникальных значений столбца `children`, чтобы убедиться, что артефакты удалены.**"
   ]
  },
  {
   "cell_type": "code",
   "execution_count": 10,
   "id": "07337b81",
   "metadata": {
    "deletable": false,
    "id": "07337b81",
    "outputId": "b2097101-d49d-44d9-901b-32a65c9463d1"
   },
   "outputs": [
    {
     "data": {
      "text/plain": [
       "array([1, 0, 3, 2, 4, 5])"
      ]
     },
     "execution_count": 10,
     "metadata": {},
     "output_type": "execute_result"
    }
   ],
   "source": [
    "data['children'].unique()"
   ]
  },
  {
   "cell_type": "markdown",
   "id": "ee3f52d4",
   "metadata": {
    "deletable": false,
    "editable": false,
    "id": "ee3f52d4"
   },
   "source": [
    "### Удаление пропусков (продолжение)"
   ]
  },
  {
   "cell_type": "markdown",
   "id": "a700b0e4",
   "metadata": {
    "deletable": false,
    "editable": false,
    "id": "a700b0e4"
   },
   "source": [
    "**Задание 11. Заполните пропуски в столбце `days_employed` медианными значениями по каждого типа занятости `income_type`.**"
   ]
  },
  {
   "cell_type": "code",
   "execution_count": 11,
   "id": "61946b83",
   "metadata": {
    "deletable": false,
    "id": "61946b83"
   },
   "outputs": [],
   "source": [
    "for t in data['income_type'].unique():\n",
    "    data.loc[(data['income_type'] == t) & (data['days_employed'].isna()), 'days_employed'] = \\\n",
    "    data.loc[(data['income_type'] == t), 'days_employed'].median()"
   ]
  },
  {
   "cell_type": "markdown",
   "id": "550dcd9b",
   "metadata": {
    "deletable": false,
    "editable": false,
    "id": "550dcd9b"
   },
   "source": [
    "**Задание 12. Убедитесь, что все пропуски заполнены. Проверьте себя и ещё раз выведите количество пропущенных значений для каждого столбца с помощью двух методов.**"
   ]
  },
  {
   "cell_type": "code",
   "execution_count": 12,
   "id": "937c7014",
   "metadata": {
    "deletable": false,
    "id": "937c7014",
    "outputId": "8da1e4e1-358e-4e87-98c9-f261bce0a7b2"
   },
   "outputs": [
    {
     "data": {
      "text/plain": [
       "children            0\n",
       "days_employed       0\n",
       "dob_years           0\n",
       "education           0\n",
       "education_id        0\n",
       "family_status       0\n",
       "family_status_id    0\n",
       "gender              0\n",
       "income_type         0\n",
       "debt                0\n",
       "total_income        0\n",
       "purpose             0\n",
       "dtype: int64"
      ]
     },
     "execution_count": 12,
     "metadata": {},
     "output_type": "execute_result"
    }
   ],
   "source": [
    "data.isna().sum()"
   ]
  },
  {
   "cell_type": "markdown",
   "id": "d522e295",
   "metadata": {
    "deletable": false,
    "editable": false,
    "id": "d522e295"
   },
   "source": [
    "### Изменение типов данных"
   ]
  },
  {
   "cell_type": "markdown",
   "id": "c229c581",
   "metadata": {
    "deletable": false,
    "editable": false,
    "id": "c229c581"
   },
   "source": [
    "**Задание 13. Замените вещественный тип данных в столбце `total_income` на целочисленный с помощью метода `astype()`.**"
   ]
  },
  {
   "cell_type": "code",
   "execution_count": 13,
   "id": "31036462",
   "metadata": {
    "deletable": false,
    "id": "31036462"
   },
   "outputs": [],
   "source": [
    "data['total_income'] = data['total_income'].astype(int)"
   ]
  },
  {
   "cell_type": "markdown",
   "id": "b8e3d1d9",
   "metadata": {
    "deletable": false,
    "editable": false,
    "id": "b8e3d1d9"
   },
   "source": [
    "### Обработка дубликатов"
   ]
  },
  {
   "cell_type": "markdown",
   "id": "9be53c49",
   "metadata": {
    "deletable": false,
    "editable": false,
    "id": "9be53c49"
   },
   "source": [
    "**Задание 14. Обработайте неявные дубликаты в столбце `education`. В этом столбце есть одни и те же значения, но записанные по-разному: с использованием заглавных и строчных букв. Приведите их к нижнему регистру.**"
   ]
  },
  {
   "cell_type": "code",
   "execution_count": 14,
   "id": "d89e73e1",
   "metadata": {
    "deletable": false,
    "id": "d89e73e1"
   },
   "outputs": [],
   "source": [
    "data['education'] = data['education'].str.lower()"
   ]
  },
  {
   "cell_type": "markdown",
   "id": "01d4500e",
   "metadata": {
    "deletable": false,
    "editable": false,
    "id": "01d4500e"
   },
   "source": [
    "**Задание 15. Выведите на экран количество строк-дубликатов в данных. Если такие строки присутствуют, удалите их.**"
   ]
  },
  {
   "cell_type": "code",
   "execution_count": 15,
   "id": "e10efb23",
   "metadata": {
    "deletable": false,
    "id": "e10efb23",
    "outputId": "9684deba-1934-42d1-99e1-cda61740f822"
   },
   "outputs": [
    {
     "data": {
      "text/plain": [
       "71"
      ]
     },
     "execution_count": 15,
     "metadata": {},
     "output_type": "execute_result"
    }
   ],
   "source": [
    "data.duplicated().sum()"
   ]
  },
  {
   "cell_type": "code",
   "execution_count": 16,
   "id": "df853f20",
   "metadata": {
    "deletable": false,
    "id": "df853f20"
   },
   "outputs": [],
   "source": [
    "data = data.drop_duplicates()"
   ]
  },
  {
   "cell_type": "markdown",
   "id": "627be38f",
   "metadata": {
    "deletable": false,
    "editable": false,
    "id": "627be38f"
   },
   "source": [
    "### Категоризация данных"
   ]
  },
  {
   "cell_type": "markdown",
   "id": "4684c3e0",
   "metadata": {
    "deletable": false,
    "editable": false,
    "id": "4684c3e0"
   },
   "source": [
    "**Задание 16. На основании диапазонов, указанных ниже, создайте в датафрейме `data` столбец `total_income_category` с категориями:**\n",
    "\n",
    "- 0–30000 — `'E'`;\n",
    "- 30001–50000 — `'D'`;\n",
    "- 50001–200000 — `'C'`;\n",
    "- 200001–1000000 — `'B'`;\n",
    "- 1000001 и выше — `'A'`.\n",
    "\n",
    "\n",
    "**Например, кредитополучателю с доходом 25000 нужно назначить категорию `'E'`, а клиенту, получающему 235000, — `'B'`. Используйте собственную функцию с именем `categorize_income()` и метод `apply()`.**"
   ]
  },
  {
   "cell_type": "code",
   "execution_count": 17,
   "id": "78965238",
   "metadata": {
    "deletable": false,
    "id": "78965238"
   },
   "outputs": [],
   "source": [
    "def categorize_income(income):\n",
    "    try:\n",
    "        if 0 <= income <= 30000:\n",
    "            return 'E'\n",
    "        elif 30001 <= income <= 50000:\n",
    "            return 'D'\n",
    "        elif 50001 <= income <= 200000:\n",
    "            return 'C'\n",
    "        elif 200001 <= income <= 1000000:\n",
    "            return 'B'\n",
    "        elif income >= 1000001:\n",
    "            return 'A'\n",
    "    except:\n",
    "        pass"
   ]
  },
  {
   "cell_type": "code",
   "execution_count": 18,
   "id": "0980ada1",
   "metadata": {
    "deletable": false,
    "id": "0980ada1"
   },
   "outputs": [],
   "source": [
    "data['total_income_category'] = data['total_income'].apply(categorize_income)"
   ]
  },
  {
   "cell_type": "markdown",
   "id": "9917bba0",
   "metadata": {
    "deletable": false,
    "editable": false,
    "id": "9917bba0"
   },
   "source": [
    "**Задание 17. Выведите на экран перечень уникальных целей взятия кредита из столбца `purpose`.**"
   ]
  },
  {
   "cell_type": "code",
   "execution_count": 19,
   "id": "ee07b65e",
   "metadata": {
    "deletable": false,
    "id": "ee07b65e",
    "outputId": "673c12d9-7d7e-4ae0-9812-c622c89dd244"
   },
   "outputs": [
    {
     "data": {
      "text/plain": [
       "array(['покупка жилья', 'приобретение автомобиля',\n",
       "       'дополнительное образование', 'сыграть свадьбу',\n",
       "       'операции с жильем', 'образование', 'на проведение свадьбы',\n",
       "       'покупка жилья для семьи', 'покупка недвижимости',\n",
       "       'покупка коммерческой недвижимости', 'покупка жилой недвижимости',\n",
       "       'строительство собственной недвижимости', 'недвижимость',\n",
       "       'строительство недвижимости', 'на покупку подержанного автомобиля',\n",
       "       'на покупку своего автомобиля',\n",
       "       'операции с коммерческой недвижимостью',\n",
       "       'строительство жилой недвижимости', 'жилье',\n",
       "       'операции со своей недвижимостью', 'автомобили',\n",
       "       'заняться образованием', 'сделка с подержанным автомобилем',\n",
       "       'получение образования', 'автомобиль', 'свадьба',\n",
       "       'получение дополнительного образования', 'покупка своего жилья',\n",
       "       'операции с недвижимостью', 'получение высшего образования',\n",
       "       'свой автомобиль', 'сделка с автомобилем',\n",
       "       'профильное образование', 'высшее образование',\n",
       "       'покупка жилья для сдачи', 'на покупку автомобиля', 'ремонт жилью',\n",
       "       'заняться высшим образованием'], dtype=object)"
      ]
     },
     "execution_count": 19,
     "metadata": {},
     "output_type": "execute_result"
    }
   ],
   "source": [
    "data['purpose'].unique()"
   ]
  },
  {
   "cell_type": "markdown",
   "id": "52b79d56",
   "metadata": {
    "deletable": false,
    "editable": false,
    "id": "52b79d56"
   },
   "source": [
    "**Задание 18. Создайте функцию, которая на основании данных из столбца `purpose` сформирует новый столбец `purpose_category`, в который войдут следующие категории:**\n",
    "\n",
    "- `'операции с автомобилем'`,\n",
    "- `'операции с недвижимостью'`,\n",
    "- `'проведение свадьбы'`,\n",
    "- `'получение образования'`.\n",
    "\n",
    "**Например, если в столбце `purpose` находится подстрока `'на покупку автомобиля'`, то в столбце `purpose_category` должна появиться строка `'операции с автомобилем'`.**\n",
    "\n",
    "**Используйте собственную функцию с именем `categorize_purpose()` и метод `apply()`. Изучите данные в столбце `purpose` и определите, какие подстроки помогут вам правильно определить категорию.**"
   ]
  },
  {
   "cell_type": "code",
   "execution_count": 20,
   "id": "be41da5d",
   "metadata": {
    "deletable": false,
    "id": "be41da5d"
   },
   "outputs": [],
   "source": [
    "def categorize_purpose(row):\n",
    "    try:\n",
    "        if 'автом' in row:\n",
    "            return 'операции с автомобилем'\n",
    "        elif 'жил' in row or 'недвиж' in row:\n",
    "            return 'операции с недвижимостью'\n",
    "        elif 'свад' in row:\n",
    "            return 'проведение свадьбы'\n",
    "        elif 'образов' in row:\n",
    "            return 'получение образования'\n",
    "    except:\n",
    "        return 'нет категории'"
   ]
  },
  {
   "cell_type": "code",
   "execution_count": 21,
   "id": "94c4a19a",
   "metadata": {
    "deletable": false,
    "id": "94c4a19a"
   },
   "outputs": [],
   "source": [
    "data['purpose_category'] = data['purpose'].apply(categorize_purpose)"
   ]
  },
  {
   "cell_type": "markdown",
   "id": "3d596c34",
   "metadata": {
    "deletable": false,
    "editable": false,
    "id": "3d596c34"
   },
   "source": [
    "### Шаг 3. Исследуйте данные и ответьте на вопросы"
   ]
  },
  {
   "cell_type": "markdown",
   "id": "648db036",
   "metadata": {
    "deletable": false,
    "editable": false,
    "id": "648db036"
   },
   "source": [
    "#### 3.1 Есть ли зависимость между количеством детей и возвратом кредита в срок?"
   ]
  },
  {
   "cell_type": "code",
   "execution_count": 22,
   "id": "7fcff25e",
   "metadata": {
    "deletable": false,
    "id": "7fcff25e"
   },
   "outputs": [
    {
     "data": {
      "text/html": [
       "<div>\n",
       "<style scoped>\n",
       "    .dataframe tbody tr th:only-of-type {\n",
       "        vertical-align: middle;\n",
       "    }\n",
       "\n",
       "    .dataframe tbody tr th {\n",
       "        vertical-align: top;\n",
       "    }\n",
       "\n",
       "    .dataframe thead tr th {\n",
       "        text-align: left;\n",
       "    }\n",
       "\n",
       "    .dataframe thead tr:last-of-type th {\n",
       "        text-align: right;\n",
       "    }\n",
       "</style>\n",
       "<table border=\"1\" class=\"dataframe\">\n",
       "  <thead>\n",
       "    <tr>\n",
       "      <th></th>\n",
       "      <th>общая сумма</th>\n",
       "      <th>общее количество</th>\n",
       "      <th>%</th>\n",
       "    </tr>\n",
       "    <tr>\n",
       "      <th></th>\n",
       "      <th>debt</th>\n",
       "      <th>debt</th>\n",
       "      <th>debt</th>\n",
       "    </tr>\n",
       "    <tr>\n",
       "      <th>children</th>\n",
       "      <th></th>\n",
       "      <th></th>\n",
       "      <th></th>\n",
       "    </tr>\n",
       "  </thead>\n",
       "  <tbody>\n",
       "    <tr>\n",
       "      <th>0</th>\n",
       "      <td>1063</td>\n",
       "      <td>14091</td>\n",
       "      <td>7.54</td>\n",
       "    </tr>\n",
       "    <tr>\n",
       "      <th>1</th>\n",
       "      <td>444</td>\n",
       "      <td>4808</td>\n",
       "      <td>9.23</td>\n",
       "    </tr>\n",
       "    <tr>\n",
       "      <th>2</th>\n",
       "      <td>194</td>\n",
       "      <td>2052</td>\n",
       "      <td>9.45</td>\n",
       "    </tr>\n",
       "    <tr>\n",
       "      <th>3</th>\n",
       "      <td>27</td>\n",
       "      <td>330</td>\n",
       "      <td>8.18</td>\n",
       "    </tr>\n",
       "    <tr>\n",
       "      <th>4</th>\n",
       "      <td>4</td>\n",
       "      <td>41</td>\n",
       "      <td>9.76</td>\n",
       "    </tr>\n",
       "    <tr>\n",
       "      <th>5</th>\n",
       "      <td>0</td>\n",
       "      <td>9</td>\n",
       "      <td>0.00</td>\n",
       "    </tr>\n",
       "  </tbody>\n",
       "</table>\n",
       "</div>"
      ],
      "text/plain": [
       "         общая сумма общее количество     %\n",
       "                debt             debt  debt\n",
       "children                                   \n",
       "0               1063            14091  7.54\n",
       "1                444             4808  9.23\n",
       "2                194             2052  9.45\n",
       "3                 27              330  8.18\n",
       "4                  4               41  9.76\n",
       "5                  0                9  0.00"
      ]
     },
     "execution_count": 22,
     "metadata": {},
     "output_type": "execute_result"
    }
   ],
   "source": [
    "#Создадим таблицу, с количеством долгов, суммарным долгом и процентажом невозврата кредита\n",
    "#рассчитаем долю не возврата кредита в зависимости от количества детей с помощью 'mean'\n",
    "child_debt = data.pivot_table(index=['children'], values='debt', aggfunc=['sum','count','mean'])\n",
    "#Переименуем стобец 'mean' в '%' для наглядности\n",
    "child_debt = child_debt.rename(columns= {'mean':'%','sum':'общая сумма','count':'общее количество'})\n",
    "#Умножим значения на сто для получения процента, а не доли\n",
    "child_debt['%'] = (child_debt['%']*100).round(2)\n",
    "#Выведем на экран таблицу\n",
    "child_debt"
   ]
  },
  {
   "cell_type": "markdown",
   "id": "2eb9088e",
   "metadata": {
    "deletable": false,
    "id": "2eb9088e"
   },
   "source": [
    "**Анализ зависимости между количеством детей и возвратом кредита в срок.**\n",
    "**Гипотеза:**\n",
    "Количество детей влияет на возвращение кредита срок.\n",
    "**Задачи:**\n",
    "1. Определить при каком количестве детей наибольший процент случаев не возвращение кредита в срок\n",
    "2. Проанализировать значения. Выявить группу риска."
   ]
  },
  {
   "cell_type": "markdown",
   "id": "b0aa24fb",
   "metadata": {},
   "source": [
    "**Результаты анализа**\n",
    "  По преведенной таблице видно можно сделать следующие предположения:\n",
    "1. Группа заемщик с количеством детей равным 5, почти всегда, закрывают задолженность в срок. Можно сделать предположение, что это значение аномально, стоит провести дальнейшее исследования и проверить оригинальные даннные. Также вероятно, что клиенты с таким колчеством клиентов почти не берут крупные кредиты или не берут вовсе, что также отражает приведенная таблица выше.\n",
    "2. Наибольший процент непогашенных кредитов у заемщик с 4 детьми, в этом же диапазоне значений и находятся заемщики с 1 или 2 детьми. Можно объединить их в группу: 'хай риск'\n",
    "3. Процент непогашенных кредитов у заемщик с 0;3 детьми находятся в близком дипазоне, их можно объединить в группу: 'мид риск'\n",
    "\n",
    "  Действительно, существует зависимость между количеством детей и возвращением кредита. Стоит заметить, что больше всего берут крдеты клиенты в группе с количеством детей от 2-0, В данной группе наибольший процент непогашенных кредитов у клиентов с 1 или 2 детьми"
   ]
  },
  {
   "cell_type": "markdown",
   "id": "74c9b3a7",
   "metadata": {
    "deletable": false,
    "editable": false,
    "id": "74c9b3a7"
   },
   "source": [
    "#### 3.2 Есть ли зависимость между семейным положением и возвратом кредита в срок?"
   ]
  },
  {
   "cell_type": "code",
   "execution_count": null,
   "id": "8098ab3b",
   "metadata": {
    "deletable": false,
    "id": "8098ab3b"
   },
   "outputs": [],
   "source": []
  },
  {
   "cell_type": "code",
   "execution_count": 23,
   "id": "0b802294",
   "metadata": {},
   "outputs": [
    {
     "data": {
      "text/html": [
       "<div>\n",
       "<style scoped>\n",
       "    .dataframe tbody tr th:only-of-type {\n",
       "        vertical-align: middle;\n",
       "    }\n",
       "\n",
       "    .dataframe tbody tr th {\n",
       "        vertical-align: top;\n",
       "    }\n",
       "\n",
       "    .dataframe thead tr th {\n",
       "        text-align: left;\n",
       "    }\n",
       "\n",
       "    .dataframe thead tr:last-of-type th {\n",
       "        text-align: right;\n",
       "    }\n",
       "</style>\n",
       "<table border=\"1\" class=\"dataframe\">\n",
       "  <thead>\n",
       "    <tr>\n",
       "      <th></th>\n",
       "      <th>общая сумма</th>\n",
       "      <th>общее количество</th>\n",
       "      <th>%</th>\n",
       "    </tr>\n",
       "    <tr>\n",
       "      <th></th>\n",
       "      <th>debt</th>\n",
       "      <th>debt</th>\n",
       "      <th>debt</th>\n",
       "    </tr>\n",
       "    <tr>\n",
       "      <th>family_status</th>\n",
       "      <th></th>\n",
       "      <th></th>\n",
       "      <th></th>\n",
       "    </tr>\n",
       "  </thead>\n",
       "  <tbody>\n",
       "    <tr>\n",
       "      <th>Не женат / не замужем</th>\n",
       "      <td>273</td>\n",
       "      <td>2796</td>\n",
       "      <td>9.76</td>\n",
       "    </tr>\n",
       "    <tr>\n",
       "      <th>в разводе</th>\n",
       "      <td>84</td>\n",
       "      <td>1189</td>\n",
       "      <td>7.06</td>\n",
       "    </tr>\n",
       "    <tr>\n",
       "      <th>вдовец / вдова</th>\n",
       "      <td>63</td>\n",
       "      <td>951</td>\n",
       "      <td>6.62</td>\n",
       "    </tr>\n",
       "    <tr>\n",
       "      <th>гражданский брак</th>\n",
       "      <td>385</td>\n",
       "      <td>4134</td>\n",
       "      <td>9.31</td>\n",
       "    </tr>\n",
       "    <tr>\n",
       "      <th>женат / замужем</th>\n",
       "      <td>927</td>\n",
       "      <td>12261</td>\n",
       "      <td>7.56</td>\n",
       "    </tr>\n",
       "  </tbody>\n",
       "</table>\n",
       "</div>"
      ],
      "text/plain": [
       "                      общая сумма общее количество     %\n",
       "                             debt             debt  debt\n",
       "family_status                                           \n",
       "Не женат / не замужем         273             2796  9.76\n",
       "в разводе                      84             1189  7.06\n",
       "вдовец / вдова                 63              951  6.62\n",
       "гражданский брак              385             4134  9.31\n",
       "женат / замужем               927            12261  7.56"
      ]
     },
     "execution_count": 23,
     "metadata": {},
     "output_type": "execute_result"
    }
   ],
   "source": [
    "#Создадим таблицу, с количеством долгов, суммарным долгом и процентажом невозврата кредита\n",
    "#рассчитаем долю не возврата кредита в зависимости от количества детей с помощью 'mean'\n",
    "family_status_debt = data.pivot_table(index=(['family_status']), values='debt', aggfunc=['sum','count','mean'])\n",
    "#Переименуем стобец 'mean' в '%' для наглядности\n",
    "family_status_debt = family_status_debt.rename(columns= {'mean':'%','sum':'общая сумма','count':'общее количество'})\n",
    "#Умножим значения на сто для получения процента, а не доли\n",
    "family_status_debt['%'] = (family_status_debt['%']*100).round(2)\n",
    "#Выведем на экран таблицу\n",
    "family_status_debt"
   ]
  },
  {
   "cell_type": "markdown",
   "id": "c389ca63",
   "metadata": {
    "deletable": false,
    "id": "c389ca63"
   },
   "source": [
    "**Анализ зависимости между семейныйм положением и возвратом кредита в срок.**\n",
    "**Гипотеза:**\n",
    "Семейное положение влияет на возвращение кредита срок.\n",
    "**Задачи:**\n",
    "1. Определить при каком семейном положении наибольший процент случаев не возвращение кредита в срок\n",
    "2. Проанализировать значения. Выявить закономерности."
   ]
  },
  {
   "cell_type": "markdown",
   "id": "ae8cc2e2",
   "metadata": {},
   "source": [
    "**Результаты анализа**\n",
    "1. Люди, находящиеся в гражданском браке или не состоящие в зарегистрированном браке, имеют более высокий процент невозврата кредита в срок по сравнению с остальными категориями. Это может указывать на то, что отсутствие официального брачного статуса может повлиять на финансовую стабильность и ответственность перед кредиторами.\n",
    "\n",
    "2. Люди, находящиеся в разводе или являющиеся вдовцами / вдовами, имеют более низкий процент невозврата кредита в срок по сравнению с остальными категориями. Это может объясняться повышенной финансовой осведомленностью и ответственностью, возникающей при разводе или потере супруга.\n",
    "\n",
    "3. Женатые / замужние люди имеют средний процент невозврата кредита в срок"
   ]
  },
  {
   "cell_type": "markdown",
   "id": "9529de68",
   "metadata": {
    "deletable": false,
    "editable": false,
    "id": "9529de68"
   },
   "source": [
    "#### 3.3 Есть ли зависимость между уровнем дохода и возвратом кредита в срок?"
   ]
  },
  {
   "cell_type": "code",
   "execution_count": 24,
   "id": "8787f44a",
   "metadata": {
    "deletable": false,
    "id": "8787f44a"
   },
   "outputs": [
    {
     "data": {
      "text/html": [
       "<div>\n",
       "<style scoped>\n",
       "    .dataframe tbody tr th:only-of-type {\n",
       "        vertical-align: middle;\n",
       "    }\n",
       "\n",
       "    .dataframe tbody tr th {\n",
       "        vertical-align: top;\n",
       "    }\n",
       "\n",
       "    .dataframe thead tr th {\n",
       "        text-align: left;\n",
       "    }\n",
       "\n",
       "    .dataframe thead tr:last-of-type th {\n",
       "        text-align: right;\n",
       "    }\n",
       "</style>\n",
       "<table border=\"1\" class=\"dataframe\">\n",
       "  <thead>\n",
       "    <tr>\n",
       "      <th></th>\n",
       "      <th>общая сумма</th>\n",
       "      <th>общее количество</th>\n",
       "      <th>%</th>\n",
       "    </tr>\n",
       "    <tr>\n",
       "      <th></th>\n",
       "      <th>debt</th>\n",
       "      <th>debt</th>\n",
       "      <th>debt</th>\n",
       "    </tr>\n",
       "    <tr>\n",
       "      <th>total_income_category</th>\n",
       "      <th></th>\n",
       "      <th></th>\n",
       "      <th></th>\n",
       "    </tr>\n",
       "  </thead>\n",
       "  <tbody>\n",
       "    <tr>\n",
       "      <th>A</th>\n",
       "      <td>2</td>\n",
       "      <td>25</td>\n",
       "      <td>8.00</td>\n",
       "    </tr>\n",
       "    <tr>\n",
       "      <th>B</th>\n",
       "      <td>354</td>\n",
       "      <td>5014</td>\n",
       "      <td>7.06</td>\n",
       "    </tr>\n",
       "    <tr>\n",
       "      <th>C</th>\n",
       "      <td>1353</td>\n",
       "      <td>15921</td>\n",
       "      <td>8.50</td>\n",
       "    </tr>\n",
       "    <tr>\n",
       "      <th>D</th>\n",
       "      <td>21</td>\n",
       "      <td>349</td>\n",
       "      <td>6.02</td>\n",
       "    </tr>\n",
       "    <tr>\n",
       "      <th>E</th>\n",
       "      <td>2</td>\n",
       "      <td>22</td>\n",
       "      <td>9.09</td>\n",
       "    </tr>\n",
       "  </tbody>\n",
       "</table>\n",
       "</div>"
      ],
      "text/plain": [
       "                      общая сумма общее количество     %\n",
       "                             debt             debt  debt\n",
       "total_income_category                                   \n",
       "A                               2               25  8.00\n",
       "B                             354             5014  7.06\n",
       "C                            1353            15921  8.50\n",
       "D                              21              349  6.02\n",
       "E                               2               22  9.09"
      ]
     },
     "execution_count": 24,
     "metadata": {},
     "output_type": "execute_result"
    }
   ],
   "source": [
    "#Создадим таблицу, с количеством долгов, суммарным долгом и процентажом невозврата кредита('mean')\n",
    "#и распределим по категориям дохода, полученным выше.\n",
    "income_debt = data.pivot_table(index = ['total_income_category'], values='debt',aggfunc=['sum','count','mean'])\n",
    "#Переименуем стобец 'mean' в '%' для наглядности\n",
    "income_debt = income_debt.rename(columns={'mean':'%','sum':'общая сумма','count':'общее количество'})\n",
    "#Умножим значения на сто для получения процента, а не доли\n",
    "income_debt['%'] = (income_debt['%']*100).round(2)\n",
    "#Выведем на экран таблицу\n",
    "income_debt"
   ]
  },
  {
   "cell_type": "markdown",
   "id": "6dd14b57",
   "metadata": {
    "deletable": false,
    "id": "6dd14b57"
   },
   "source": [
    "**Анализ зависимости между уровнем дохода и возвратом кредита в срок.**\n",
    "**Гипотеза:**\n",
    "Уровень дохода влияет на возвращение кредита срок.\n",
    "**Задачи:**\n",
    "1. Определить в какой категории дохода клиентов наибольший процент невозврат кредита в срок.\n",
    "2. Проанализировать значения. Выявить закономерности."
   ]
  },
  {
   "cell_type": "markdown",
   "id": "0939eb3c",
   "metadata": {},
   "source": [
    "**Результаты анализа**\n",
    "1. У клиентов с доходностью в категории С наибольшее число невозращенных кредитов,процент невозврата относитльно всего количества достаточно высокий.\n",
    "2. Примерно в одном диапазоне по количеству, находится число не возвратов кредитов, которые были взяты клиентами с доходностью в категории А и Е, стоит заметить, что в этом диапазоне и находятся те цели, при которых процент невозвращения кредита относительно количества различный, у категории А - 8%, у Е-9%, который является наибольшим в объекте исследования.\n",
    "3. Количество невозвращенных кредитов, взятых клинтами с доходностью В и D маленькое, и процент невозвращения тоже маленький.\n",
    "Можно сделать вывод, что наибольший процент невозращения кредита в срок у клиентов с доходностью в категории Е, С, А(категории расположены в порядке убывания процента). Стоит заметить, что количество невозвращенных кредитов в категории С много больше, чем в А и Е, а сам процент, достаточно на высоком уровне, 2 по величине, стоит именну эту категорию как ключевой при исследовании зависимости не возвращения кредита от дохода. Прямой зависимости, выявить неудалось из-за различий значений, цдалось выявить ключевую группу."
   ]
  },
  {
   "cell_type": "markdown",
   "id": "1dcc9b12",
   "metadata": {
    "deletable": false,
    "editable": false,
    "id": "1dcc9b12"
   },
   "source": [
    "#### 3.4 Как разные цели кредита влияют на его возврат в срок?"
   ]
  },
  {
   "cell_type": "code",
   "execution_count": 25,
   "id": "c602bc8b",
   "metadata": {
    "deletable": false,
    "id": "c602bc8b"
   },
   "outputs": [
    {
     "data": {
      "text/html": [
       "<div>\n",
       "<style scoped>\n",
       "    .dataframe tbody tr th:only-of-type {\n",
       "        vertical-align: middle;\n",
       "    }\n",
       "\n",
       "    .dataframe tbody tr th {\n",
       "        vertical-align: top;\n",
       "    }\n",
       "\n",
       "    .dataframe thead tr th {\n",
       "        text-align: left;\n",
       "    }\n",
       "\n",
       "    .dataframe thead tr:last-of-type th {\n",
       "        text-align: right;\n",
       "    }\n",
       "</style>\n",
       "<table border=\"1\" class=\"dataframe\">\n",
       "  <thead>\n",
       "    <tr>\n",
       "      <th></th>\n",
       "      <th>общая сумма</th>\n",
       "      <th>общее количество</th>\n",
       "      <th>%</th>\n",
       "    </tr>\n",
       "    <tr>\n",
       "      <th></th>\n",
       "      <th>debt</th>\n",
       "      <th>debt</th>\n",
       "      <th>debt</th>\n",
       "    </tr>\n",
       "    <tr>\n",
       "      <th>purpose_category</th>\n",
       "      <th></th>\n",
       "      <th></th>\n",
       "      <th></th>\n",
       "    </tr>\n",
       "  </thead>\n",
       "  <tbody>\n",
       "    <tr>\n",
       "      <th>операции с автомобилем</th>\n",
       "      <td>400</td>\n",
       "      <td>4279</td>\n",
       "      <td>9.35</td>\n",
       "    </tr>\n",
       "    <tr>\n",
       "      <th>операции с недвижимостью</th>\n",
       "      <td>780</td>\n",
       "      <td>10751</td>\n",
       "      <td>7.26</td>\n",
       "    </tr>\n",
       "    <tr>\n",
       "      <th>получение образования</th>\n",
       "      <td>369</td>\n",
       "      <td>3988</td>\n",
       "      <td>9.25</td>\n",
       "    </tr>\n",
       "    <tr>\n",
       "      <th>проведение свадьбы</th>\n",
       "      <td>183</td>\n",
       "      <td>2313</td>\n",
       "      <td>7.91</td>\n",
       "    </tr>\n",
       "  </tbody>\n",
       "</table>\n",
       "</div>"
      ],
      "text/plain": [
       "                         общая сумма общее количество     %\n",
       "                                debt             debt  debt\n",
       "purpose_category                                           \n",
       "операции с автомобилем           400             4279  9.35\n",
       "операции с недвижимостью         780            10751  7.26\n",
       "получение образования            369             3988  9.25\n",
       "проведение свадьбы               183             2313  7.91"
      ]
     },
     "execution_count": 25,
     "metadata": {},
     "output_type": "execute_result"
    }
   ],
   "source": [
    "#Создадим таблицу, с количеством долгов, суммарным долгом и процентажом невозврата кредита('mean')\n",
    "#и распределим по категориям целей займы(purpose_category), полученным выше\n",
    "purpose_debt = data.pivot_table(index = ['purpose_category'], values='debt',aggfunc=['sum','count','mean'])\n",
    "#Переименуем стобец 'mean' в '%' для наглядности\n",
    "purpose_debt = purpose_debt.rename(columns={'mean':'%','sum':'общая сумма','count':'общее количество'})\n",
    "#Умножим значения на сто для получения процента, а не доли\n",
    "purpose_debt['%'] = (purpose_debt['%']*100).round(2)\n",
    "#Выведем на экран таблицу\n",
    "purpose_debt"
   ]
  },
  {
   "cell_type": "markdown",
   "id": "6e1274e6",
   "metadata": {},
   "source": [
    "**Анализ зависимости между целью кредита и возвратом кредита в срок.**\n",
    "**Гипотеза:**\n",
    "Цель кредита влияет на возвращение кредита срок.\n",
    "**Задачи:**\n",
    "1. Определить при какой цели получения кредита у клиентов наибольший процент невозврат кредита в срок.\n",
    "2. Проанализировать значения. Выявить закономерности."
   ]
  },
  {
   "cell_type": "markdown",
   "id": "4b4dbcbb",
   "metadata": {},
   "source": [
    "**Результаты анализа**\n",
    "1. При опреациях с недвижимостью наибольшее число невозращенных кредитов, но наименьший процент невозврата относитльно всего количества.\n",
    "2. Примерно в одном диапазоне по количеству, находится число не возвратов кредитов, которы были взяты из-за:получение образования и операции с автомобилем, стоит заметить, что в этом диапазоне и находятся те цели, при которых процент невозвращения кредита относительно количества наибольший.\n",
    "3. Количество невозвращенных кредитов, взятых ввиду провдения свадьбы наименьшее, а также процент невозвращения крдеит относительно количества тоже маленький, при рассмотрении остальных категорий\n",
    "Удалось зависимость, которая гласит, что процент не возвращения кредита наибольший у клиентов со следущими целями: операции с автомобилем, получение образования; процент не возвращения кредита наименьший у клиентов со следущими целями: операции с недвижимостью, проведение свадьбы."
   ]
  },
  {
   "cell_type": "markdown",
   "id": "cf05ed63",
   "metadata": {
    "deletable": false,
    "id": "cf05ed63"
   },
   "source": []
  },
  {
   "cell_type": "markdown",
   "id": "46c1f10b",
   "metadata": {
    "deletable": false,
    "editable": false,
    "id": "46c1f10b"
   },
   "source": [
    "#### 3.5 Приведите возможные причины появления пропусков в исходных данных."
   ]
  },
  {
   "cell_type": "markdown",
   "id": "3697d2a9",
   "metadata": {
    "deletable": false,
    "id": "3697d2a9"
   },
   "source": [
    "*Ответ:* \n",
    "1. Человеческий фактор: Пропуски могут возникать из-за ошибок ввода данных, незаполненных полей или неправильной обработки информации операторами ввода данных. Это может произойти, когда информация собирается вручную и требуется ввод данных вручную.\n",
    "\n",
    "2. Технические неполадки: Иногда пропуски могут возникать из-за технических проблем, таких как сбои в системе, потеря данных или неполадки при передаче информации. Это может быть связано с неполадками в сети, проблемами с серверами или программными сбоями."
   ]
  },
  {
   "cell_type": "markdown",
   "id": "3137d257",
   "metadata": {
    "deletable": false,
    "editable": false,
    "id": "3137d257"
   },
   "source": [
    "#### 3.6 Объясните, почему заполнить пропуски медианным значением — лучшее решение для количественных переменных."
   ]
  },
  {
   "cell_type": "markdown",
   "id": "cf40012a",
   "metadata": {
    "deletable": false,
    "id": "cf40012a"
   },
   "source": [
    "*Ответ:* Количественные перменные можно сравнить друг с другом. В них могут  быть аномально большие занчения, также аномально маленькие, среднее арфметическое будет сильно искажено этими экстремальными значениями. А медиана покажет \"среднее по палате\"."
   ]
  },
  {
   "cell_type": "code",
   "execution_count": 26,
   "id": "e8783698",
   "metadata": {},
   "outputs": [
    {
     "name": "stdout",
     "output_type": "stream",
     "text": [
      "Медиана: 1.0\n",
      "Среднее: 12.0\n"
     ]
    }
   ],
   "source": [
    "# Пример к комментарию ревьюера\n",
    "from numpy import median, mean\n",
    "a = [1, 1, 1, 1, 1, 1, 1, 1, 100]\n",
    "print('Медиана:', median(a))\n",
    "print('Среднее:', mean(a))"
   ]
  },
  {
   "cell_type": "markdown",
   "id": "57bc304e",
   "metadata": {
    "deletable": false,
    "editable": false,
    "id": "57bc304e"
   },
   "source": [
    "### Шаг 4: общий вывод."
   ]
  },
  {
   "cell_type": "code",
   "execution_count": 27,
   "id": "bd431e15",
   "metadata": {},
   "outputs": [
    {
     "data": {
      "text/html": [
       "<div>\n",
       "<style scoped>\n",
       "    .dataframe tbody tr th:only-of-type {\n",
       "        vertical-align: middle;\n",
       "    }\n",
       "\n",
       "    .dataframe tbody tr th {\n",
       "        vertical-align: top;\n",
       "    }\n",
       "\n",
       "    .dataframe thead tr th {\n",
       "        text-align: left;\n",
       "    }\n",
       "</style>\n",
       "<table border=\"1\" class=\"dataframe\">\n",
       "  <thead>\n",
       "    <tr>\n",
       "      <th></th>\n",
       "      <th>общая сумма</th>\n",
       "      <th>общее количество</th>\n",
       "      <th>%</th>\n",
       "    </tr>\n",
       "    <tr>\n",
       "      <th></th>\n",
       "      <th>debt</th>\n",
       "      <th>debt</th>\n",
       "      <th>debt</th>\n",
       "    </tr>\n",
       "  </thead>\n",
       "  <tbody>\n",
       "    <tr>\n",
       "      <th>операции с автомобилем</th>\n",
       "      <td>400</td>\n",
       "      <td>4279</td>\n",
       "      <td>9.35</td>\n",
       "    </tr>\n",
       "    <tr>\n",
       "      <th>операции с недвижимостью</th>\n",
       "      <td>780</td>\n",
       "      <td>10751</td>\n",
       "      <td>7.26</td>\n",
       "    </tr>\n",
       "    <tr>\n",
       "      <th>получение образования</th>\n",
       "      <td>369</td>\n",
       "      <td>3988</td>\n",
       "      <td>9.25</td>\n",
       "    </tr>\n",
       "    <tr>\n",
       "      <th>проведение свадьбы</th>\n",
       "      <td>183</td>\n",
       "      <td>2313</td>\n",
       "      <td>7.91</td>\n",
       "    </tr>\n",
       "    <tr>\n",
       "      <th>A</th>\n",
       "      <td>2</td>\n",
       "      <td>25</td>\n",
       "      <td>8.00</td>\n",
       "    </tr>\n",
       "    <tr>\n",
       "      <th>B</th>\n",
       "      <td>354</td>\n",
       "      <td>5014</td>\n",
       "      <td>7.06</td>\n",
       "    </tr>\n",
       "    <tr>\n",
       "      <th>C</th>\n",
       "      <td>1353</td>\n",
       "      <td>15921</td>\n",
       "      <td>8.50</td>\n",
       "    </tr>\n",
       "    <tr>\n",
       "      <th>D</th>\n",
       "      <td>21</td>\n",
       "      <td>349</td>\n",
       "      <td>6.02</td>\n",
       "    </tr>\n",
       "    <tr>\n",
       "      <th>E</th>\n",
       "      <td>2</td>\n",
       "      <td>22</td>\n",
       "      <td>9.09</td>\n",
       "    </tr>\n",
       "    <tr>\n",
       "      <th>Не женат / не замужем</th>\n",
       "      <td>273</td>\n",
       "      <td>2796</td>\n",
       "      <td>9.76</td>\n",
       "    </tr>\n",
       "    <tr>\n",
       "      <th>в разводе</th>\n",
       "      <td>84</td>\n",
       "      <td>1189</td>\n",
       "      <td>7.06</td>\n",
       "    </tr>\n",
       "    <tr>\n",
       "      <th>вдовец / вдова</th>\n",
       "      <td>63</td>\n",
       "      <td>951</td>\n",
       "      <td>6.62</td>\n",
       "    </tr>\n",
       "    <tr>\n",
       "      <th>гражданский брак</th>\n",
       "      <td>385</td>\n",
       "      <td>4134</td>\n",
       "      <td>9.31</td>\n",
       "    </tr>\n",
       "    <tr>\n",
       "      <th>женат / замужем</th>\n",
       "      <td>927</td>\n",
       "      <td>12261</td>\n",
       "      <td>7.56</td>\n",
       "    </tr>\n",
       "    <tr>\n",
       "      <th>0</th>\n",
       "      <td>1063</td>\n",
       "      <td>14091</td>\n",
       "      <td>7.54</td>\n",
       "    </tr>\n",
       "    <tr>\n",
       "      <th>1</th>\n",
       "      <td>444</td>\n",
       "      <td>4808</td>\n",
       "      <td>9.23</td>\n",
       "    </tr>\n",
       "    <tr>\n",
       "      <th>2</th>\n",
       "      <td>194</td>\n",
       "      <td>2052</td>\n",
       "      <td>9.45</td>\n",
       "    </tr>\n",
       "    <tr>\n",
       "      <th>3</th>\n",
       "      <td>27</td>\n",
       "      <td>330</td>\n",
       "      <td>8.18</td>\n",
       "    </tr>\n",
       "    <tr>\n",
       "      <th>4</th>\n",
       "      <td>4</td>\n",
       "      <td>41</td>\n",
       "      <td>9.76</td>\n",
       "    </tr>\n",
       "    <tr>\n",
       "      <th>5</th>\n",
       "      <td>0</td>\n",
       "      <td>9</td>\n",
       "      <td>0.00</td>\n",
       "    </tr>\n",
       "  </tbody>\n",
       "</table>\n",
       "</div>"
      ],
      "text/plain": [
       "                         общая сумма общее количество     %\n",
       "                                debt             debt  debt\n",
       "операции с автомобилем           400             4279  9.35\n",
       "операции с недвижимостью         780            10751  7.26\n",
       "получение образования            369             3988  9.25\n",
       "проведение свадьбы               183             2313  7.91\n",
       "A                                  2               25  8.00\n",
       "B                                354             5014  7.06\n",
       "C                               1353            15921  8.50\n",
       "D                                 21              349  6.02\n",
       "E                                  2               22  9.09\n",
       "Не женат / не замужем            273             2796  9.76\n",
       "в разводе                         84             1189  7.06\n",
       "вдовец / вдова                    63              951  6.62\n",
       "гражданский брак                 385             4134  9.31\n",
       "женат / замужем                  927            12261  7.56\n",
       "0                               1063            14091  7.54\n",
       "1                                444             4808  9.23\n",
       "2                                194             2052  9.45\n",
       "3                                 27              330  8.18\n",
       "4                                  4               41  9.76\n",
       "5                                  0                9  0.00"
      ]
     },
     "execution_count": 27,
     "metadata": {},
     "output_type": "execute_result"
    }
   ],
   "source": [
    "frames = [purpose_debt, income_debt, family_status_debt, child_debt]\n",
    "#сделаем общую таблицу\n",
    "result = pd.concat(frames)\n",
    "result"
   ]
  },
  {
   "cell_type": "markdown",
   "id": "1ab75d1c",
   "metadata": {
    "deletable": false,
    "id": "1ab75d1c"
   },
   "source": [
    "**Выводы**  \n",
    "  * При проведении исследования предоставленой банком статистики о платёжеспособности клиентов были выявлены зависимости между:\n",
    "семейным положением клиента, количеством детей на факт погашения кредита в срок и целью кредита. \n",
    "  * Максимальный процент не возврата кредита у клиентов: с семейным положением \"Не женат / не замужем\" и \"гражданский брак\" (9,76 и 9,31 соответственно), а также у клиентов с 4 детьми (9.76), 1 ребенком(9.23),с 2 детьми (9.45),и с такими целями как операции с автомобилем, получение образования. \n",
    "  * Клиенты, входящие в данные категории являются клиентами с высокой степенью риска не возврата кредита. Пересечение данных категорий с высокой вероятностью приведет к не возвращение кредита. "
   ]
  }
 ],
 "metadata": {
  "ExecuteTimeLog": [
   {
    "duration": 521,
    "start_time": "2023-12-24T23:24:38.648Z"
   },
   {
    "duration": 21,
    "start_time": "2023-12-24T23:24:39.171Z"
   },
   {
    "duration": 15,
    "start_time": "2023-12-24T23:24:39.614Z"
   },
   {
    "duration": 11,
    "start_time": "2023-12-24T23:24:40.382Z"
   },
   {
    "duration": 34,
    "start_time": "2023-12-24T23:24:40.737Z"
   },
   {
    "duration": 3,
    "start_time": "2023-12-24T23:24:41.249Z"
   },
   {
    "duration": 10,
    "start_time": "2023-12-24T23:24:41.576Z"
   },
   {
    "duration": 4,
    "start_time": "2023-12-24T23:24:42.070Z"
   },
   {
    "duration": 6,
    "start_time": "2023-12-24T23:24:42.400Z"
   },
   {
    "duration": 5,
    "start_time": "2023-12-24T23:24:42.732Z"
   },
   {
    "duration": 33,
    "start_time": "2023-12-24T23:24:43.205Z"
   },
   {
    "duration": 11,
    "start_time": "2023-12-24T23:24:43.531Z"
   },
   {
    "duration": 4,
    "start_time": "2023-12-24T23:24:44.008Z"
   },
   {
    "duration": 11,
    "start_time": "2023-12-24T23:24:44.480Z"
   },
   {
    "duration": 18,
    "start_time": "2023-12-24T23:24:44.802Z"
   },
   {
    "duration": 19,
    "start_time": "2023-12-24T23:24:44.957Z"
   },
   {
    "duration": 3,
    "start_time": "2023-12-24T23:24:45.431Z"
   },
   {
    "duration": 10,
    "start_time": "2023-12-24T23:24:45.589Z"
   },
   {
    "duration": 5,
    "start_time": "2023-12-24T23:24:45.920Z"
   },
   {
    "duration": 3,
    "start_time": "2023-12-24T23:24:46.250Z"
   },
   {
    "duration": 8,
    "start_time": "2023-12-24T23:24:46.414Z"
   },
   {
    "duration": 2,
    "start_time": "2023-12-24T23:24:46.937Z"
   },
   {
    "duration": 22,
    "start_time": "2023-12-24T23:31:45.204Z"
   },
   {
    "duration": 25,
    "start_time": "2023-12-24T23:40:45.488Z"
   },
   {
    "duration": 82,
    "start_time": "2023-12-24T23:58:41.166Z"
   },
   {
    "duration": 25,
    "start_time": "2023-12-24T23:58:51.252Z"
   },
   {
    "duration": 49,
    "start_time": "2023-12-26T21:16:58.880Z"
   },
   {
    "duration": 6,
    "start_time": "2023-12-26T21:17:12.606Z"
   },
   {
    "duration": 741,
    "start_time": "2023-12-26T21:17:21.654Z"
   },
   {
    "duration": 26,
    "start_time": "2023-12-26T21:17:22.397Z"
   },
   {
    "duration": 23,
    "start_time": "2023-12-26T21:17:22.426Z"
   },
   {
    "duration": 40,
    "start_time": "2023-12-26T21:17:22.450Z"
   },
   {
    "duration": 47,
    "start_time": "2023-12-26T21:17:22.493Z"
   },
   {
    "duration": 4,
    "start_time": "2023-12-26T21:17:22.542Z"
   },
   {
    "duration": 36,
    "start_time": "2023-12-26T21:17:22.548Z"
   },
   {
    "duration": 17,
    "start_time": "2023-12-26T21:17:22.586Z"
   },
   {
    "duration": 18,
    "start_time": "2023-12-26T21:17:22.605Z"
   },
   {
    "duration": 11,
    "start_time": "2023-12-26T21:17:22.624Z"
   },
   {
    "duration": 40,
    "start_time": "2023-12-26T21:17:22.637Z"
   },
   {
    "duration": 12,
    "start_time": "2023-12-26T21:17:22.679Z"
   },
   {
    "duration": 15,
    "start_time": "2023-12-26T21:17:22.693Z"
   },
   {
    "duration": 18,
    "start_time": "2023-12-26T21:17:22.711Z"
   },
   {
    "duration": 31,
    "start_time": "2023-12-26T21:17:22.730Z"
   },
   {
    "duration": 15,
    "start_time": "2023-12-26T21:17:22.763Z"
   },
   {
    "duration": 14,
    "start_time": "2023-12-26T21:17:22.780Z"
   },
   {
    "duration": 30,
    "start_time": "2023-12-26T21:17:22.796Z"
   },
   {
    "duration": 18,
    "start_time": "2023-12-26T21:17:22.828Z"
   },
   {
    "duration": 11,
    "start_time": "2023-12-26T21:17:22.848Z"
   },
   {
    "duration": 42,
    "start_time": "2023-12-26T21:17:22.861Z"
   },
   {
    "duration": 37,
    "start_time": "2023-12-26T21:17:22.905Z"
   },
   {
    "duration": 28,
    "start_time": "2023-12-26T21:17:25.914Z"
   },
   {
    "duration": 27,
    "start_time": "2023-12-26T21:24:03.140Z"
   },
   {
    "duration": 29,
    "start_time": "2023-12-26T21:24:13.716Z"
   },
   {
    "duration": 22,
    "start_time": "2023-12-26T21:25:00.297Z"
   },
   {
    "duration": 28,
    "start_time": "2023-12-26T21:25:09.252Z"
   },
   {
    "duration": 30,
    "start_time": "2023-12-26T21:25:49.879Z"
   },
   {
    "duration": 48,
    "start_time": "2023-12-26T21:26:37.577Z"
   },
   {
    "duration": 30,
    "start_time": "2023-12-26T21:26:45.336Z"
   },
   {
    "duration": 28,
    "start_time": "2023-12-26T21:27:42.909Z"
   },
   {
    "duration": 32,
    "start_time": "2023-12-26T21:27:54.051Z"
   },
   {
    "duration": 38,
    "start_time": "2023-12-26T21:28:17.740Z"
   },
   {
    "duration": 31,
    "start_time": "2023-12-26T21:28:25.694Z"
   },
   {
    "duration": 30,
    "start_time": "2023-12-26T21:28:43.883Z"
   },
   {
    "duration": 30,
    "start_time": "2023-12-26T21:29:01.222Z"
   },
   {
    "duration": 32,
    "start_time": "2023-12-26T21:29:08.635Z"
   },
   {
    "duration": 31,
    "start_time": "2023-12-26T21:29:15.519Z"
   },
   {
    "duration": 32,
    "start_time": "2023-12-26T21:30:39.059Z"
   },
   {
    "duration": 31,
    "start_time": "2023-12-26T21:31:23.898Z"
   },
   {
    "duration": 8,
    "start_time": "2023-12-26T21:53:43.026Z"
   },
   {
    "duration": 34,
    "start_time": "2023-12-26T21:53:47.714Z"
   },
   {
    "duration": 29,
    "start_time": "2023-12-26T21:55:07.035Z"
   },
   {
    "duration": 31,
    "start_time": "2023-12-26T21:55:46.388Z"
   },
   {
    "duration": 30,
    "start_time": "2023-12-26T21:55:59.401Z"
   },
   {
    "duration": 84,
    "start_time": "2023-12-26T21:56:06.069Z"
   },
   {
    "duration": 81,
    "start_time": "2023-12-26T21:56:13.992Z"
   },
   {
    "duration": 34,
    "start_time": "2023-12-26T21:56:27.375Z"
   },
   {
    "duration": 29,
    "start_time": "2023-12-26T22:12:06.380Z"
   },
   {
    "duration": 32,
    "start_time": "2023-12-26T22:13:41.207Z"
   },
   {
    "duration": 19,
    "start_time": "2023-12-26T22:18:05.873Z"
   },
   {
    "duration": 36,
    "start_time": "2023-12-26T22:19:48.402Z"
   },
   {
    "duration": 22,
    "start_time": "2023-12-26T23:01:48.885Z"
   },
   {
    "duration": 55,
    "start_time": "2023-12-26T23:01:48.908Z"
   },
   {
    "duration": 39,
    "start_time": "2023-12-26T23:01:48.965Z"
   },
   {
    "duration": 5,
    "start_time": "2023-12-26T23:08:20.667Z"
   },
   {
    "duration": 7,
    "start_time": "2023-12-26T23:10:07.740Z"
   },
   {
    "duration": 27,
    "start_time": "2023-12-26T23:12:16.617Z"
   },
   {
    "duration": 29,
    "start_time": "2023-12-26T23:12:23.840Z"
   },
   {
    "duration": 36,
    "start_time": "2023-12-26T23:13:59.979Z"
   },
   {
    "duration": 2,
    "start_time": "2023-12-26T23:14:31.039Z"
   },
   {
    "duration": 54,
    "start_time": "2023-12-26T23:16:25.254Z"
   },
   {
    "duration": 54,
    "start_time": "2023-12-26T23:16:42.701Z"
   },
   {
    "duration": 1200,
    "start_time": "2023-12-26T23:18:12.871Z"
   },
   {
    "duration": 60,
    "start_time": "2023-12-26T23:18:47.217Z"
   },
   {
    "duration": 61,
    "start_time": "2023-12-26T23:18:59.623Z"
   },
   {
    "duration": 58,
    "start_time": "2023-12-26T23:36:52.085Z"
   },
   {
    "duration": 51,
    "start_time": "2023-12-26T23:36:54.321Z"
   },
   {
    "duration": 59,
    "start_time": "2023-12-26T23:37:11.407Z"
   },
   {
    "duration": 18,
    "start_time": "2023-12-26T23:44:47.586Z"
   },
   {
    "duration": 54,
    "start_time": "2023-12-26T23:45:05.315Z"
   },
   {
    "duration": 77,
    "start_time": "2023-12-26T23:53:12.948Z"
   },
   {
    "duration": 15,
    "start_time": "2023-12-26T23:53:13.026Z"
   },
   {
    "duration": 22,
    "start_time": "2023-12-26T23:53:13.043Z"
   },
   {
    "duration": 23,
    "start_time": "2023-12-26T23:53:13.066Z"
   },
   {
    "duration": 35,
    "start_time": "2023-12-26T23:53:13.091Z"
   },
   {
    "duration": 3,
    "start_time": "2023-12-26T23:53:13.127Z"
   },
   {
    "duration": 17,
    "start_time": "2023-12-26T23:53:13.131Z"
   },
   {
    "duration": 4,
    "start_time": "2023-12-26T23:53:13.149Z"
   },
   {
    "duration": 6,
    "start_time": "2023-12-26T23:53:13.154Z"
   },
   {
    "duration": 4,
    "start_time": "2023-12-26T23:53:13.161Z"
   },
   {
    "duration": 36,
    "start_time": "2023-12-26T23:53:13.188Z"
   },
   {
    "duration": 10,
    "start_time": "2023-12-26T23:53:13.225Z"
   },
   {
    "duration": 4,
    "start_time": "2023-12-26T23:53:13.237Z"
   },
   {
    "duration": 44,
    "start_time": "2023-12-26T23:53:13.244Z"
   },
   {
    "duration": 19,
    "start_time": "2023-12-26T23:53:13.290Z"
   },
   {
    "duration": 16,
    "start_time": "2023-12-26T23:53:13.310Z"
   },
   {
    "duration": 3,
    "start_time": "2023-12-26T23:53:13.327Z"
   },
   {
    "duration": 20,
    "start_time": "2023-12-26T23:53:13.331Z"
   },
   {
    "duration": 5,
    "start_time": "2023-12-26T23:53:13.353Z"
   },
   {
    "duration": 3,
    "start_time": "2023-12-26T23:53:13.359Z"
   },
   {
    "duration": 28,
    "start_time": "2023-12-26T23:53:13.364Z"
   },
   {
    "duration": 32,
    "start_time": "2023-12-26T23:53:13.393Z"
   },
   {
    "duration": 2,
    "start_time": "2023-12-26T23:53:13.426Z"
   },
   {
    "duration": 82,
    "start_time": "2023-12-26T23:53:13.430Z"
   },
   {
    "duration": 36,
    "start_time": "2023-12-26T23:53:13.514Z"
   },
   {
    "duration": 50,
    "start_time": "2023-12-26T23:53:13.552Z"
   },
   {
    "duration": 5,
    "start_time": "2023-12-27T00:07:15.405Z"
   },
   {
    "duration": 13,
    "start_time": "2023-12-27T00:07:25.164Z"
   },
   {
    "duration": 12,
    "start_time": "2023-12-27T00:07:56.453Z"
   },
   {
    "duration": 13,
    "start_time": "2023-12-27T00:08:08.812Z"
   },
   {
    "duration": 12,
    "start_time": "2023-12-27T00:08:20.190Z"
   },
   {
    "duration": 75,
    "start_time": "2023-12-27T00:12:58.025Z"
   },
   {
    "duration": 15,
    "start_time": "2023-12-27T00:12:58.102Z"
   },
   {
    "duration": 18,
    "start_time": "2023-12-27T00:12:58.118Z"
   },
   {
    "duration": 10,
    "start_time": "2023-12-27T00:12:58.137Z"
   },
   {
    "duration": 75,
    "start_time": "2023-12-27T00:12:58.149Z"
   },
   {
    "duration": 4,
    "start_time": "2023-12-27T00:12:58.226Z"
   },
   {
    "duration": 29,
    "start_time": "2023-12-27T00:12:58.231Z"
   },
   {
    "duration": 9,
    "start_time": "2023-12-27T00:12:58.261Z"
   },
   {
    "duration": 16,
    "start_time": "2023-12-27T00:12:58.272Z"
   },
   {
    "duration": 23,
    "start_time": "2023-12-27T00:12:58.289Z"
   },
   {
    "duration": 38,
    "start_time": "2023-12-27T00:12:58.313Z"
   },
   {
    "duration": 10,
    "start_time": "2023-12-27T00:12:58.352Z"
   },
   {
    "duration": 5,
    "start_time": "2023-12-27T00:12:58.364Z"
   },
   {
    "duration": 42,
    "start_time": "2023-12-27T00:12:58.372Z"
   },
   {
    "duration": 20,
    "start_time": "2023-12-27T00:12:58.416Z"
   },
   {
    "duration": 17,
    "start_time": "2023-12-27T00:12:58.437Z"
   },
   {
    "duration": 3,
    "start_time": "2023-12-27T00:12:58.455Z"
   },
   {
    "duration": 15,
    "start_time": "2023-12-27T00:12:58.460Z"
   },
   {
    "duration": 9,
    "start_time": "2023-12-27T00:12:58.477Z"
   },
   {
    "duration": 4,
    "start_time": "2023-12-27T00:12:58.487Z"
   },
   {
    "duration": 16,
    "start_time": "2023-12-27T00:12:58.492Z"
   },
   {
    "duration": 70,
    "start_time": "2023-12-27T00:12:58.509Z"
   },
   {
    "duration": 2,
    "start_time": "2023-12-27T00:12:58.589Z"
   },
   {
    "duration": 57,
    "start_time": "2023-12-27T00:12:58.593Z"
   },
   {
    "duration": 62,
    "start_time": "2023-12-27T00:12:58.652Z"
   },
   {
    "duration": 45,
    "start_time": "2023-12-27T00:12:58.716Z"
   },
   {
    "duration": 28,
    "start_time": "2023-12-27T00:12:58.763Z"
   },
   {
    "duration": 285,
    "start_time": "2023-12-27T01:05:04.665Z"
   },
   {
    "duration": 718,
    "start_time": "2023-12-27T01:10:38.101Z"
   },
   {
    "duration": 21,
    "start_time": "2023-12-27T01:10:38.821Z"
   },
   {
    "duration": 15,
    "start_time": "2023-12-27T01:10:38.844Z"
   },
   {
    "duration": 10,
    "start_time": "2023-12-27T01:10:38.861Z"
   },
   {
    "duration": 58,
    "start_time": "2023-12-27T01:10:38.873Z"
   },
   {
    "duration": 3,
    "start_time": "2023-12-27T01:10:38.932Z"
   },
   {
    "duration": 17,
    "start_time": "2023-12-27T01:10:38.937Z"
   },
   {
    "duration": 4,
    "start_time": "2023-12-27T01:10:38.955Z"
   },
   {
    "duration": 9,
    "start_time": "2023-12-27T01:10:38.960Z"
   },
   {
    "duration": 4,
    "start_time": "2023-12-27T01:10:38.970Z"
   },
   {
    "duration": 49,
    "start_time": "2023-12-27T01:10:38.975Z"
   },
   {
    "duration": 10,
    "start_time": "2023-12-27T01:10:39.025Z"
   },
   {
    "duration": 13,
    "start_time": "2023-12-27T01:10:39.037Z"
   },
   {
    "duration": 24,
    "start_time": "2023-12-27T01:10:39.052Z"
   },
   {
    "duration": 31,
    "start_time": "2023-12-27T01:10:39.077Z"
   },
   {
    "duration": 16,
    "start_time": "2023-12-27T01:10:39.109Z"
   },
   {
    "duration": 4,
    "start_time": "2023-12-27T01:10:39.126Z"
   },
   {
    "duration": 35,
    "start_time": "2023-12-27T01:10:39.131Z"
   },
   {
    "duration": 13,
    "start_time": "2023-12-27T01:10:39.168Z"
   },
   {
    "duration": 3,
    "start_time": "2023-12-27T01:10:39.183Z"
   },
   {
    "duration": 11,
    "start_time": "2023-12-27T01:10:39.187Z"
   },
   {
    "duration": 32,
    "start_time": "2023-12-27T01:10:39.200Z"
   },
   {
    "duration": 2,
    "start_time": "2023-12-27T01:10:39.233Z"
   },
   {
    "duration": 60,
    "start_time": "2023-12-27T01:10:39.236Z"
   },
   {
    "duration": 32,
    "start_time": "2023-12-27T01:10:39.297Z"
   },
   {
    "duration": 32,
    "start_time": "2023-12-27T01:10:39.330Z"
   },
   {
    "duration": 4,
    "start_time": "2023-12-27T01:10:39.364Z"
   },
   {
    "duration": 18,
    "start_time": "2023-12-27T01:10:39.369Z"
   },
   {
    "duration": 49,
    "start_time": "2023-12-27T22:42:44.477Z"
   },
   {
    "duration": 521,
    "start_time": "2023-12-27T22:42:59.487Z"
   },
   {
    "duration": 20,
    "start_time": "2023-12-27T22:43:00.010Z"
   },
   {
    "duration": 37,
    "start_time": "2023-12-27T22:43:00.032Z"
   },
   {
    "duration": 24,
    "start_time": "2023-12-27T22:43:00.071Z"
   },
   {
    "duration": 43,
    "start_time": "2023-12-27T22:43:00.096Z"
   },
   {
    "duration": 3,
    "start_time": "2023-12-27T22:43:00.141Z"
   },
   {
    "duration": 38,
    "start_time": "2023-12-27T22:43:00.145Z"
   },
   {
    "duration": 24,
    "start_time": "2023-12-27T22:43:00.184Z"
   },
   {
    "duration": 48,
    "start_time": "2023-12-27T22:43:00.210Z"
   },
   {
    "duration": 33,
    "start_time": "2023-12-27T22:43:00.261Z"
   },
   {
    "duration": 52,
    "start_time": "2023-12-27T22:43:00.295Z"
   },
   {
    "duration": 9,
    "start_time": "2023-12-27T22:43:00.349Z"
   },
   {
    "duration": 21,
    "start_time": "2023-12-27T22:43:00.359Z"
   },
   {
    "duration": 31,
    "start_time": "2023-12-27T22:43:00.382Z"
   },
   {
    "duration": 40,
    "start_time": "2023-12-27T22:43:00.415Z"
   },
   {
    "duration": 29,
    "start_time": "2023-12-27T22:43:00.456Z"
   },
   {
    "duration": 17,
    "start_time": "2023-12-27T22:43:00.486Z"
   },
   {
    "duration": 51,
    "start_time": "2023-12-27T22:43:00.504Z"
   },
   {
    "duration": 34,
    "start_time": "2023-12-27T22:43:00.556Z"
   },
   {
    "duration": 43,
    "start_time": "2023-12-27T22:43:00.591Z"
   },
   {
    "duration": 62,
    "start_time": "2023-12-27T22:43:00.635Z"
   },
   {
    "duration": 31,
    "start_time": "2023-12-27T22:43:02.985Z"
   },
   {
    "duration": 719,
    "start_time": "2023-12-27T22:43:26.920Z"
   },
   {
    "duration": 27,
    "start_time": "2023-12-27T22:43:41.040Z"
   },
   {
    "duration": 50,
    "start_time": "2023-12-27T23:11:37.104Z"
   },
   {
    "duration": 42,
    "start_time": "2023-12-27T23:11:39.604Z"
   },
   {
    "duration": 66,
    "start_time": "2023-12-27T23:12:25.739Z"
   },
   {
    "duration": 44,
    "start_time": "2023-12-27T23:20:51.634Z"
   },
   {
    "duration": 713,
    "start_time": "2023-12-28T02:49:29.994Z"
   },
   {
    "duration": 30,
    "start_time": "2023-12-28T02:49:30.710Z"
   },
   {
    "duration": 30,
    "start_time": "2023-12-28T02:49:30.741Z"
   },
   {
    "duration": 62,
    "start_time": "2023-12-28T02:49:30.773Z"
   },
   {
    "duration": 60,
    "start_time": "2023-12-28T02:49:30.837Z"
   },
   {
    "duration": 35,
    "start_time": "2023-12-28T02:49:30.898Z"
   },
   {
    "duration": 60,
    "start_time": "2023-12-28T02:49:30.934Z"
   },
   {
    "duration": 77,
    "start_time": "2023-12-28T02:49:30.996Z"
   },
   {
    "duration": 93,
    "start_time": "2023-12-28T02:49:31.075Z"
   },
   {
    "duration": 28,
    "start_time": "2023-12-28T02:49:31.170Z"
   },
   {
    "duration": 60,
    "start_time": "2023-12-28T02:49:31.199Z"
   },
   {
    "duration": 11,
    "start_time": "2023-12-28T02:49:31.261Z"
   },
   {
    "duration": 39,
    "start_time": "2023-12-28T02:49:31.274Z"
   },
   {
    "duration": 33,
    "start_time": "2023-12-28T02:49:31.316Z"
   },
   {
    "duration": 53,
    "start_time": "2023-12-28T02:49:31.350Z"
   },
   {
    "duration": 44,
    "start_time": "2023-12-28T02:49:31.405Z"
   },
   {
    "duration": 10,
    "start_time": "2023-12-28T02:49:31.450Z"
   },
   {
    "duration": 40,
    "start_time": "2023-12-28T02:49:31.462Z"
   },
   {
    "duration": 36,
    "start_time": "2023-12-28T02:49:31.504Z"
   },
   {
    "duration": 60,
    "start_time": "2023-12-28T02:49:31.541Z"
   },
   {
    "duration": 81,
    "start_time": "2023-12-28T02:49:31.603Z"
   },
   {
    "duration": 84,
    "start_time": "2023-12-28T02:49:31.686Z"
   },
   {
    "duration": 3,
    "start_time": "2023-12-28T02:49:31.772Z"
   },
   {
    "duration": 81,
    "start_time": "2023-12-28T02:49:31.776Z"
   },
   {
    "duration": 31,
    "start_time": "2023-12-28T02:49:31.858Z"
   },
   {
    "duration": 46,
    "start_time": "2023-12-28T02:49:31.891Z"
   },
   {
    "duration": 4,
    "start_time": "2023-12-28T02:49:31.938Z"
   },
   {
    "duration": 29,
    "start_time": "2023-12-28T02:49:31.943Z"
   },
   {
    "duration": 67,
    "start_time": "2023-12-28T03:16:49.893Z"
   },
   {
    "duration": 10,
    "start_time": "2023-12-28T03:16:59.639Z"
   },
   {
    "duration": 83,
    "start_time": "2023-12-28T03:17:27.462Z"
   },
   {
    "duration": 82,
    "start_time": "2023-12-28T03:17:41.073Z"
   },
   {
    "duration": 13,
    "start_time": "2023-12-28T03:17:49.231Z"
   },
   {
    "duration": 34,
    "start_time": "2023-12-28T03:19:31.341Z"
   },
   {
    "duration": 35,
    "start_time": "2023-12-28T03:21:57.752Z"
   },
   {
    "duration": 36,
    "start_time": "2023-12-28T03:22:11.209Z"
   },
   {
    "duration": 499,
    "start_time": "2023-12-28T03:52:32.904Z"
   },
   {
    "duration": 21,
    "start_time": "2023-12-28T03:52:33.405Z"
   },
   {
    "duration": 15,
    "start_time": "2023-12-28T03:52:33.428Z"
   },
   {
    "duration": 10,
    "start_time": "2023-12-28T03:52:33.445Z"
   },
   {
    "duration": 51,
    "start_time": "2023-12-28T03:52:33.457Z"
   },
   {
    "duration": 3,
    "start_time": "2023-12-28T03:52:33.511Z"
   },
   {
    "duration": 18,
    "start_time": "2023-12-28T03:52:33.516Z"
   },
   {
    "duration": 8,
    "start_time": "2023-12-28T03:52:33.536Z"
   },
   {
    "duration": 9,
    "start_time": "2023-12-28T03:52:33.546Z"
   },
   {
    "duration": 5,
    "start_time": "2023-12-28T03:52:33.560Z"
   },
   {
    "duration": 56,
    "start_time": "2023-12-28T03:52:33.566Z"
   },
   {
    "duration": 11,
    "start_time": "2023-12-28T03:52:33.624Z"
   },
   {
    "duration": 9,
    "start_time": "2023-12-28T03:52:33.636Z"
   },
   {
    "duration": 34,
    "start_time": "2023-12-28T03:52:33.647Z"
   },
   {
    "duration": 22,
    "start_time": "2023-12-28T03:52:33.682Z"
   },
   {
    "duration": 17,
    "start_time": "2023-12-28T03:52:33.705Z"
   },
   {
    "duration": 13,
    "start_time": "2023-12-28T03:52:33.723Z"
   },
   {
    "duration": 21,
    "start_time": "2023-12-28T03:52:33.738Z"
   },
   {
    "duration": 7,
    "start_time": "2023-12-28T03:52:33.761Z"
   },
   {
    "duration": 7,
    "start_time": "2023-12-28T03:52:33.770Z"
   },
   {
    "duration": 9,
    "start_time": "2023-12-28T03:52:33.778Z"
   },
   {
    "duration": 35,
    "start_time": "2023-12-28T03:52:33.789Z"
   },
   {
    "duration": 2,
    "start_time": "2023-12-28T03:52:33.825Z"
   },
   {
    "duration": 68,
    "start_time": "2023-12-28T03:52:33.829Z"
   },
   {
    "duration": 36,
    "start_time": "2023-12-28T03:52:33.899Z"
   },
   {
    "duration": 35,
    "start_time": "2023-12-28T03:52:33.937Z"
   },
   {
    "duration": 4,
    "start_time": "2023-12-28T03:52:33.974Z"
   },
   {
    "duration": 14,
    "start_time": "2023-12-28T03:52:33.981Z"
   },
   {
    "duration": 46,
    "start_time": "2023-12-28T11:45:44.027Z"
   },
   {
    "duration": 751,
    "start_time": "2023-12-28T11:45:48.542Z"
   },
   {
    "duration": 24,
    "start_time": "2023-12-28T11:45:49.295Z"
   },
   {
    "duration": 38,
    "start_time": "2023-12-28T11:45:49.321Z"
   },
   {
    "duration": 14,
    "start_time": "2023-12-28T11:45:49.361Z"
   },
   {
    "duration": 41,
    "start_time": "2023-12-28T11:45:49.377Z"
   },
   {
    "duration": 3,
    "start_time": "2023-12-28T11:45:49.419Z"
   },
   {
    "duration": 9,
    "start_time": "2023-12-28T11:45:49.424Z"
   },
   {
    "duration": 5,
    "start_time": "2023-12-28T11:45:49.435Z"
   },
   {
    "duration": 8,
    "start_time": "2023-12-28T11:45:49.441Z"
   },
   {
    "duration": 4,
    "start_time": "2023-12-28T11:45:49.467Z"
   },
   {
    "duration": 46,
    "start_time": "2023-12-28T11:45:49.473Z"
   },
   {
    "duration": 10,
    "start_time": "2023-12-28T11:45:49.521Z"
   },
   {
    "duration": 3,
    "start_time": "2023-12-28T11:45:49.533Z"
   },
   {
    "duration": 29,
    "start_time": "2023-12-28T11:45:49.538Z"
   },
   {
    "duration": 25,
    "start_time": "2023-12-28T11:45:49.569Z"
   },
   {
    "duration": 17,
    "start_time": "2023-12-28T11:45:49.596Z"
   },
   {
    "duration": 4,
    "start_time": "2023-12-28T11:45:49.614Z"
   },
   {
    "duration": 17,
    "start_time": "2023-12-28T11:45:49.619Z"
   },
   {
    "duration": 10,
    "start_time": "2023-12-28T11:45:49.637Z"
   },
   {
    "duration": 19,
    "start_time": "2023-12-28T11:45:49.648Z"
   },
   {
    "duration": 21,
    "start_time": "2023-12-28T11:45:49.668Z"
   },
   {
    "duration": 34,
    "start_time": "2023-12-28T11:45:49.690Z"
   },
   {
    "duration": 32,
    "start_time": "2023-12-28T11:45:51.525Z"
   },
   {
    "duration": 28,
    "start_time": "2023-12-28T11:46:09.973Z"
   },
   {
    "duration": 32,
    "start_time": "2023-12-28T11:46:23.068Z"
   },
   {
    "duration": 38,
    "start_time": "2023-12-28T11:46:36.509Z"
   },
   {
    "duration": 77,
    "start_time": "2023-12-28T11:48:19.522Z"
   },
   {
    "duration": 82,
    "start_time": "2023-12-28T11:48:57.852Z"
   },
   {
    "duration": 77,
    "start_time": "2023-12-28T11:49:08.389Z"
   },
   {
    "duration": 0,
    "start_time": "2023-12-28T11:49:08.467Z"
   },
   {
    "duration": 71,
    "start_time": "2023-12-28T11:49:12.310Z"
   },
   {
    "duration": 72,
    "start_time": "2023-12-28T11:49:29.518Z"
   },
   {
    "duration": 90,
    "start_time": "2023-12-28T11:49:37.365Z"
   },
   {
    "duration": 76,
    "start_time": "2023-12-28T11:49:45.615Z"
   },
   {
    "duration": 68,
    "start_time": "2023-12-28T11:49:54.917Z"
   },
   {
    "duration": 76,
    "start_time": "2023-12-28T11:50:04.692Z"
   },
   {
    "duration": 720,
    "start_time": "2023-12-29T02:07:29.768Z"
   },
   {
    "duration": 23,
    "start_time": "2023-12-29T02:07:30.515Z"
   },
   {
    "duration": 78,
    "start_time": "2023-12-29T02:07:30.540Z"
   },
   {
    "duration": 11,
    "start_time": "2023-12-29T02:07:30.620Z"
   },
   {
    "duration": 117,
    "start_time": "2023-12-29T02:07:30.633Z"
   },
   {
    "duration": 4,
    "start_time": "2023-12-29T02:07:30.752Z"
   },
   {
    "duration": 95,
    "start_time": "2023-12-29T02:07:30.758Z"
   },
   {
    "duration": 18,
    "start_time": "2023-12-29T02:07:30.855Z"
   },
   {
    "duration": 50,
    "start_time": "2023-12-29T02:07:30.874Z"
   },
   {
    "duration": 33,
    "start_time": "2023-12-29T02:07:30.927Z"
   },
   {
    "duration": 79,
    "start_time": "2023-12-29T02:07:30.961Z"
   },
   {
    "duration": 10,
    "start_time": "2023-12-29T02:07:31.042Z"
   },
   {
    "duration": 62,
    "start_time": "2023-12-29T02:07:31.053Z"
   },
   {
    "duration": 25,
    "start_time": "2023-12-29T02:07:31.117Z"
   },
   {
    "duration": 54,
    "start_time": "2023-12-29T02:07:31.143Z"
   },
   {
    "duration": 28,
    "start_time": "2023-12-29T02:07:31.198Z"
   },
   {
    "duration": 3,
    "start_time": "2023-12-29T02:07:31.228Z"
   },
   {
    "duration": 29,
    "start_time": "2023-12-29T02:07:31.233Z"
   },
   {
    "duration": 28,
    "start_time": "2023-12-29T02:07:31.264Z"
   },
   {
    "duration": 36,
    "start_time": "2023-12-29T02:07:31.293Z"
   },
   {
    "duration": 45,
    "start_time": "2023-12-29T02:07:31.331Z"
   },
   {
    "duration": 49,
    "start_time": "2023-12-29T02:07:31.377Z"
   },
   {
    "duration": 48,
    "start_time": "2023-12-29T02:07:31.428Z"
   },
   {
    "duration": 59,
    "start_time": "2023-12-29T02:07:31.478Z"
   },
   {
    "duration": 34,
    "start_time": "2023-12-29T02:07:31.538Z"
   },
   {
    "duration": 18,
    "start_time": "2023-12-29T02:07:31.574Z"
   },
   {
    "duration": 60,
    "start_time": "2023-12-29T02:07:31.594Z"
   }
  ],
  "colab": {
   "provenance": []
  },
  "kernelspec": {
   "display_name": "Python 3 (ipykernel)",
   "language": "python",
   "name": "python3"
  },
  "language_info": {
   "codemirror_mode": {
    "name": "ipython",
    "version": 3
   },
   "file_extension": ".py",
   "mimetype": "text/x-python",
   "name": "python",
   "nbconvert_exporter": "python",
   "pygments_lexer": "ipython3",
   "version": "3.9.5"
  },
  "toc": {
   "base_numbering": 1,
   "nav_menu": {},
   "number_sections": true,
   "sideBar": true,
   "skip_h1_title": true,
   "title_cell": "Table of Contents",
   "title_sidebar": "Contents",
   "toc_cell": false,
   "toc_position": {
    "height": "calc(100% - 180px)",
    "left": "10px",
    "top": "150px",
    "width": "378.732px"
   },
   "toc_section_display": true,
   "toc_window_display": true
  }
 },
 "nbformat": 4,
 "nbformat_minor": 5
}
