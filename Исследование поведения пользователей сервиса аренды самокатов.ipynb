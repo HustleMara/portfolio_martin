{
 "cells": [
  {
   "cell_type": "markdown",
   "id": "71fdcd5b",
   "metadata": {},
   "source": [
    "Проект: Статистический анализ данных\n",
    "Вы аналитик популярного сервиса аренды самокатов GoFast. Вам передали данные о некоторых пользователях из нескольких городов, а также об их поездках. Проанализируйте данные и проверьте некоторые гипотезы, которые могут помочь бизнесу вырасти.\n",
    "Чтобы совершать поездки по городу, пользователи сервиса GoFast пользуются мобильным приложением. Сервисом можно пользоваться:\n",
    "\n",
    "Без подписки абонентская плата отсутствует;\n",
    "стоимость одной минуты поездки — 8 рублей;\n",
    "стоимость старта (начала поездки) — 50 рублей;\n",
    "\n",
    "С подпиской Ultra абонентская плата — 199 рублей в месяц;\n",
    "стоимость одной минуты поездки — 6 рублей;\n",
    "стоимость старта — бесплатно."
   ]
  },
  {
   "cell_type": "code",
   "execution_count": 1,
   "id": "72576667",
   "metadata": {
    "scrolled": true
   },
   "outputs": [],
   "source": [
    "import pandas as pd\n",
    "import scipy \n",
    "from scipy import stats as st\n",
    "import matplotlib.pyplot as plt\n",
    "import numpy as np\n",
    "import seaborn as sns\n",
    "#импортирование нужных библиотек отдельно от задания"
   ]
  },
  {
   "cell_type": "markdown",
   "id": "c42cbe00",
   "metadata": {},
   "source": [
    "#### Шаг 1. Загрузка данных"
   ]
  },
  {
   "cell_type": "code",
   "execution_count": 2,
   "id": "eff9f206",
   "metadata": {},
   "outputs": [],
   "source": [
    "user = pd.read_csv('/datasets/users_go.csv')\n",
    "ride = pd.read_csv('/datasets/rides_go.csv')\n",
    "sub = pd.read_csv('/datasets/subscriptions_go.csv')"
   ]
  },
  {
   "cell_type": "markdown",
   "id": "4f976a4c",
   "metadata": {},
   "source": [
    "Описание данных\n",
    "\n",
    "В основных данных есть информация о пользователях, их поездках и подписках.\n",
    "Пользователи — users_go.csv\n",
    "user_id\tуникальный идентификатор пользователя\n",
    "name\tимя пользователя\n",
    "age\tвозраст\n",
    "city\tгород\n",
    "subscription_type\tтип подписки (free, ultra)\n",
    "\n",
    "Поездки — rides_go.csv\n",
    "user_id\tуникальный идентификатор пользователя\n",
    "distance\tрасстояние, которое пользователь проехал в текущей сессии (в метрах)\n",
    "duration\tпродолжительность сессии (в минутах) — время с того момента, как пользователь нажал кнопку «Начать поездку» до момента, как он нажал кнопку «Завершить поездку»\n",
    "date\tдата совершения поездки\n",
    "\n",
    "Подписки — subscriptions_go.csv\n",
    "subscription_type\tтип подписки\n",
    "minute_price\tстоимость одной минуты поездки по данной подписке\n",
    "start_ride_price\tстоимость начала поездки\n",
    "subscription_fee\tстоимость ежемесячного платежа\n",
    "\n",
    "Ознакомление с данными было произведено ниже:\n",
    "Было установлены первые предположения о данных, при помощи выборке первых 10 строк данных.\n",
    "Установлен тип данных, и общий размер датафрэйма"
   ]
  },
  {
   "cell_type": "code",
   "execution_count": 3,
   "id": "af6d202c",
   "metadata": {},
   "outputs": [
    {
     "name": "stdout",
     "output_type": "stream",
     "text": [
      "   user_id        name  age            city subscription_type\n",
      "0        1        Кира   22          Тюмень             ultra\n",
      "1        2   Станислав   31            Омск             ultra\n",
      "2        3     Алексей   20          Москва             ultra\n",
      "3        4  Константин   26  Ростов-на-Дону             ultra\n",
      "4        5       Адель   28            Омск             ultra\n",
      "5        6      Регина   25       Краснодар             ultra\n",
      "6        7       Игорь   23            Омск             ultra\n",
      "7        8        Юрий   23       Краснодар             ultra\n",
      "8        9          Ян   21       Пятигорск             ultra\n",
      "9       10     Валерий   18    Екатеринбург             ultra\n",
      "<class 'pandas.core.frame.DataFrame'>\n",
      "RangeIndex: 1565 entries, 0 to 1564\n",
      "Data columns (total 5 columns):\n",
      " #   Column             Non-Null Count  Dtype \n",
      "---  ------             --------------  ----- \n",
      " 0   user_id            1565 non-null   int64 \n",
      " 1   name               1565 non-null   object\n",
      " 2   age                1565 non-null   int64 \n",
      " 3   city               1565 non-null   object\n",
      " 4   subscription_type  1565 non-null   object\n",
      "dtypes: int64(2), object(3)\n",
      "memory usage: 61.3+ KB\n"
     ]
    },
    {
     "data": {
      "text/plain": [
       "array([[<Axes: title={'center': 'user_id'}>,\n",
       "        <Axes: title={'center': 'age'}>]], dtype=object)"
      ]
     },
     "execution_count": 3,
     "metadata": {},
     "output_type": "execute_result"
    },
    {
     "data": {
      "image/png": "[encoded data removed]",
      "text/plain": [
       "<Figure size 360x144 with 2 Axes>"
      ]
     },
     "metadata": {
      "needs_background": "light"
     },
     "output_type": "display_data"
    }
   ],
   "source": [
    "print(user.head(10))\n",
    "user.info()\n",
    "user.hist(figsize=(5, 2))"
   ]
  },
  {
   "cell_type": "code",
   "execution_count": 4,
   "id": "008cb83c",
   "metadata": {},
   "outputs": [
    {
     "name": "stdout",
     "output_type": "stream",
     "text": [
      "   user_id     distance   duration        date\n",
      "0        1  4409.919140  25.599769  2021-01-01\n",
      "1        1  2617.592153  15.816871  2021-01-18\n",
      "2        1   754.159807   6.232113  2021-04-20\n",
      "3        1  2694.783254  18.511000  2021-08-11\n",
      "4        1  4028.687306  26.265803  2021-08-28\n",
      "5        1  2770.890808  16.650138  2021-10-09\n",
      "6        1  3039.020292  14.927879  2021-10-19\n",
      "7        1  2842.118050  23.117468  2021-11-06\n",
      "8        1  3412.690668  15.238072  2021-11-14\n",
      "9        1   748.690645  15.041884  2021-11-22\n",
      "<class 'pandas.core.frame.DataFrame'>\n",
      "RangeIndex: 18068 entries, 0 to 18067\n",
      "Data columns (total 4 columns):\n",
      " #   Column    Non-Null Count  Dtype  \n",
      "---  ------    --------------  -----  \n",
      " 0   user_id   18068 non-null  int64  \n",
      " 1   distance  18068 non-null  float64\n",
      " 2   duration  18068 non-null  float64\n",
      " 3   date      18068 non-null  object \n",
      "dtypes: float64(2), int64(1), object(1)\n",
      "memory usage: 564.8+ KB\n"
     ]
    },
    {
     "data": {
      "text/plain": [
       "array([[<Axes: title={'center': 'user_id'}>,\n",
       "        <Axes: title={'center': 'distance'}>],\n",
       "       [<Axes: title={'center': 'duration'}>, <Axes: >]], dtype=object)"
      ]
     },
     "execution_count": 4,
     "metadata": {},
     "output_type": "execute_result"
    },
    {
     "data": {
      "image/png": "[encoded data removed]",
      "text/plain": [
       "<Figure size 720x720 with 4 Axes>"
      ]
     },
     "metadata": {
      "needs_background": "light"
     },
     "output_type": "display_data"
    }
   ],
   "source": [
    "print(ride.head(10))\n",
    "ride.info()\n",
    "ride.hist(figsize=(10, 10))"
   ]
  },
  {
   "cell_type": "code",
   "execution_count": 5,
   "id": "440af329",
   "metadata": {
    "scrolled": true
   },
   "outputs": [
    {
     "name": "stdout",
     "output_type": "stream",
     "text": [
      "  subscription_type  minute_price  start_ride_price  subscription_fee\n",
      "0              free             8                50                 0\n",
      "1             ultra             6                 0               199\n",
      "<class 'pandas.core.frame.DataFrame'>\n",
      "RangeIndex: 2 entries, 0 to 1\n",
      "Data columns (total 4 columns):\n",
      " #   Column             Non-Null Count  Dtype \n",
      "---  ------             --------------  ----- \n",
      " 0   subscription_type  2 non-null      object\n",
      " 1   minute_price       2 non-null      int64 \n",
      " 2   start_ride_price   2 non-null      int64 \n",
      " 3   subscription_fee   2 non-null      int64 \n",
      "dtypes: int64(3), object(1)\n",
      "memory usage: 192.0+ bytes\n"
     ]
    },
    {
     "data": {
      "text/html": [
       "<div>\n",
       "<style scoped>\n",
       "    .dataframe tbody tr th:only-of-type {\n",
       "        vertical-align: middle;\n",
       "    }\n",
       "\n",
       "    .dataframe tbody tr th {\n",
       "        vertical-align: top;\n",
       "    }\n",
       "\n",
       "    .dataframe thead th {\n",
       "        text-align: right;\n",
       "    }\n",
       "</style>\n",
       "<table border=\"1\" class=\"dataframe\">\n",
       "  <thead>\n",
       "    <tr style=\"text-align: right;\">\n",
       "      <th></th>\n",
       "      <th>subscription_type</th>\n",
       "      <th>minute_price</th>\n",
       "      <th>start_ride_price</th>\n",
       "      <th>subscription_fee</th>\n",
       "    </tr>\n",
       "  </thead>\n",
       "  <tbody>\n",
       "    <tr>\n",
       "      <th>0</th>\n",
       "      <td>free</td>\n",
       "      <td>8</td>\n",
       "      <td>50</td>\n",
       "      <td>0</td>\n",
       "    </tr>\n",
       "    <tr>\n",
       "      <th>1</th>\n",
       "      <td>ultra</td>\n",
       "      <td>6</td>\n",
       "      <td>0</td>\n",
       "      <td>199</td>\n",
       "    </tr>\n",
       "  </tbody>\n",
       "</table>\n",
       "</div>"
      ],
      "text/plain": [
       "  subscription_type  minute_price  start_ride_price  subscription_fee\n",
       "0              free             8                50                 0\n",
       "1             ultra             6                 0               199"
      ]
     },
     "execution_count": 5,
     "metadata": {},
     "output_type": "execute_result"
    }
   ],
   "source": [
    "print(sub.head(10))\n",
    "sub.info()\n",
    "sub"
   ]
  },
  {
   "cell_type": "markdown",
   "id": "c89abc73",
   "metadata": {},
   "source": [
    "#### Шаг 2. Предобработка данных"
   ]
  },
  {
   "cell_type": "code",
   "execution_count": 6,
   "id": "5ed938e4",
   "metadata": {},
   "outputs": [],
   "source": [
    "#предобработкa данных\n",
    "ride['date'] = pd.to_datetime(ride['date'], format='%Y.%m.%dT%H:%M:%S')\n",
    "ride['month'] = ride['date'].dt.month"
   ]
  },
  {
   "cell_type": "markdown",
   "id": "a67cf6c5",
   "metadata": {},
   "source": [
    "Отфармотировали столбец date, сделали новый столбец со значением месяц"
   ]
  },
  {
   "cell_type": "code",
   "execution_count": 7,
   "id": "9afca511",
   "metadata": {},
   "outputs": [
    {
     "data": {
      "text/plain": [
       "user_id              0\n",
       "name                 0\n",
       "age                  0\n",
       "city                 0\n",
       "subscription_type    0\n",
       "dtype: int64"
      ]
     },
     "execution_count": 7,
     "metadata": {},
     "output_type": "execute_result"
    }
   ],
   "source": [
    "user.isna().sum()"
   ]
  },
  {
   "cell_type": "markdown",
   "id": "32d76d55",
   "metadata": {},
   "source": [
    "Проверили наличие пропущенных значений в датафрэйме user."
   ]
  },
  {
   "cell_type": "code",
   "execution_count": 8,
   "id": "bff07f13",
   "metadata": {},
   "outputs": [
    {
     "data": {
      "text/plain": [
       "user_id     0\n",
       "distance    0\n",
       "duration    0\n",
       "date        0\n",
       "month       0\n",
       "dtype: int64"
      ]
     },
     "execution_count": 8,
     "metadata": {},
     "output_type": "execute_result"
    }
   ],
   "source": [
    "ride.isna().sum()"
   ]
  },
  {
   "cell_type": "markdown",
   "id": "890df0ec",
   "metadata": {},
   "source": [
    "Проверили наличие пропущенных значений в датафрэйме ride."
   ]
  },
  {
   "cell_type": "code",
   "execution_count": 9,
   "id": "2af90ce4",
   "metadata": {},
   "outputs": [
    {
     "data": {
      "text/plain": [
       "subscription_type    0\n",
       "minute_price         0\n",
       "start_ride_price     0\n",
       "subscription_fee     0\n",
       "dtype: int64"
      ]
     },
     "execution_count": 9,
     "metadata": {},
     "output_type": "execute_result"
    }
   ],
   "source": [
    "sub.isna().sum()"
   ]
  },
  {
   "cell_type": "markdown",
   "id": "1ac6abda",
   "metadata": {},
   "source": [
    "Проверили наличие пропущенных значений в датафрэйме sub."
   ]
  },
  {
   "cell_type": "code",
   "execution_count": 10,
   "id": "b8d5e477",
   "metadata": {},
   "outputs": [
    {
     "data": {
      "text/plain": [
       "0"
      ]
     },
     "execution_count": 10,
     "metadata": {},
     "output_type": "execute_result"
    }
   ],
   "source": [
    "user.duplicated().sum()\n",
    "user.drop_duplicates(inplace=True)\n",
    "user.duplicated().sum()"
   ]
  },
  {
   "cell_type": "markdown",
   "id": "e01dd020",
   "metadata": {},
   "source": [
    "***Проверили наличие дупликатов в датафрэйме user. Их 31. Удалим эти строки из датафрэйма***"
   ]
  },
  {
   "cell_type": "code",
   "execution_count": 11,
   "id": "e4d8bc89",
   "metadata": {},
   "outputs": [
    {
     "data": {
      "text/plain": [
       "0"
      ]
     },
     "execution_count": 11,
     "metadata": {},
     "output_type": "execute_result"
    }
   ],
   "source": [
    "ride.duplicated().sum()"
   ]
  },
  {
   "cell_type": "markdown",
   "id": "03c1859f",
   "metadata": {},
   "source": [
    "Проверили наличие дупликатов в датафрэйме ride. Их 0"
   ]
  },
  {
   "cell_type": "code",
   "execution_count": 12,
   "id": "90d9a849",
   "metadata": {},
   "outputs": [
    {
     "data": {
      "text/plain": [
       "0"
      ]
     },
     "execution_count": 12,
     "metadata": {},
     "output_type": "execute_result"
    }
   ],
   "source": [
    "sub.duplicated().sum()"
   ]
  },
  {
   "cell_type": "markdown",
   "id": "d090817c",
   "metadata": {},
   "source": [
    "Проверили наличие дупликатов в датафрэйме sub. Их 0"
   ]
  },
  {
   "cell_type": "markdown",
   "id": "212593c7",
   "metadata": {},
   "source": [
    "#### Шаг 3. Исследовательский анализ данных"
   ]
  },
  {
   "cell_type": "markdown",
   "id": "119b0083",
   "metadata": {},
   "source": [
    "***Частота встречаемости городов***"
   ]
  },
  {
   "cell_type": "code",
   "execution_count": 13,
   "id": "e3a4274c",
   "metadata": {},
   "outputs": [
    {
     "data": {
      "image/png": "[encoded data removed]",
      "text/plain": [
       "<Figure size 1080x720 with 1 Axes>"
      ]
     },
     "metadata": {
      "needs_background": "light"
     },
     "output_type": "display_data"
    }
   ],
   "source": [
    "count = user['city'].value_counts() \n",
    "summ = count.sum()\n",
    "res = round((count / summ)*100, 2)\n",
    "res.plot(kind = 'bar',y = res, grid=True, figsize=(15, 10), title = 'Частота встречаемости городов',alpha=0.75, rot=0)\n",
    "plt.ylabel('')\n",
    "plt.show()"
   ]
  },
  {
   "cell_type": "markdown",
   "id": "fb1e3dcd",
   "metadata": {},
   "source": [
    "***Соотношение пользователей с подпиской и без подписки***"
   ]
  },
  {
   "cell_type": "code",
   "execution_count": 14,
   "id": "c662e78d",
   "metadata": {},
   "outputs": [
    {
     "data": {
      "image/png": "[encoded data removed]",
      "text/plain": [
       "<Figure size 360x432 with 1 Axes>"
      ]
     },
     "metadata": {},
     "output_type": "display_data"
    }
   ],
   "source": [
    "counting = user['subscription_type'].value_counts()\n",
    "user['subscription_type'].value_counts().plot(kind = 'pie', y = counting, autopct = '%1.0f%%',\n",
    "                                              grid=True, \n",
    "                                              legend=True, \n",
    "                                              figsize=(5, 6), \n",
    "                                              title = 'Соотношение пользователей с подпиской и без подписки')\n",
    "plt.ylabel('')\n",
    "plt.show()\n",
    "counting = user['subscription_type'].value_counts()\n"
   ]
  },
  {
   "cell_type": "markdown",
   "id": "ef79cdf0",
   "metadata": {},
   "source": [
    "***Возраст пользователей***"
   ]
  },
  {
   "cell_type": "code",
   "execution_count": 15,
   "id": "4c19d2b0",
   "metadata": {},
   "outputs": [
    {
     "data": {
      "image/png": "[encoded data removed]",
      "text/plain": [
       "<Figure size 360x432 with 1 Axes>"
      ]
     },
     "metadata": {
      "needs_background": "light"
     },
     "output_type": "display_data"
    }
   ],
   "source": [
    "user['age'].sort_values().plot(kind = 'hist', bins =10,\n",
    "                                              grid=True, \n",
    "                                              legend=True, \n",
    "                                              figsize=(5, 6), \n",
    "                                              title = 'Возраст пользователей')\n",
    "plt.xlabel('Возраст пользователей')\n",
    "plt.ylabel('Число пользователей')\n",
    "plt.show()"
   ]
  },
  {
   "cell_type": "markdown",
   "id": "16775ede",
   "metadata": {},
   "source": [
    "***Расстояние, которое пользователь преодолел за одну поездку***"
   ]
  },
  {
   "cell_type": "code",
   "execution_count": 16,
   "id": "e8073ece",
   "metadata": {},
   "outputs": [
    {
     "data": {
      "image/png": "[encoded data removed]",
      "text/plain": [
       "<Figure size 360x432 with 1 Axes>"
      ]
     },
     "metadata": {
      "needs_background": "light"
     },
     "output_type": "display_data"
    }
   ],
   "source": [
    "ride['distance'].sort_values().plot(kind = 'hist', bins =20,\n",
    "                                              grid=True, \n",
    "                                              legend=True, \n",
    "                                              figsize=(5, 6), \n",
    "                                              title = 'Расстояние, которое пользователь преодолел за одну поездку')\n",
    "plt.xlabel('Расстояние')\n",
    "plt.ylabel('Число пользователей')\n",
    "plt.show()"
   ]
  },
  {
   "cell_type": "markdown",
   "id": "2f517ca8",
   "metadata": {},
   "source": [
    "***Продолжительность поездок*** "
   ]
  },
  {
   "cell_type": "code",
   "execution_count": 17,
   "id": "ef853f8e",
   "metadata": {},
   "outputs": [
    {
     "data": {
      "image/png": "[encoded data removed]",
      "text/plain": [
       "<Figure size 360x432 with 1 Axes>"
      ]
     },
     "metadata": {
      "needs_background": "light"
     },
     "output_type": "display_data"
    }
   ],
   "source": [
    "ride['duration'].sort_values().plot(kind = 'hist', bins =50,\n",
    "                                              grid=True, \n",
    "                                              legend=True, \n",
    "                                              figsize=(5, 6), \n",
    "                                              title = 'Продолжительность поездок')\n",
    "plt.xlabel('Длительность поездки в минутах')\n",
    "plt.ylabel('Число пользователей')\n",
    "plt.show()"
   ]
  },
  {
   "cell_type": "code",
   "execution_count": 18,
   "id": "b7fc2843",
   "metadata": {},
   "outputs": [
    {
     "data": {
      "image/png": "[encoded data removed]",
      "text/plain": [
       "<Figure size 432x288 with 1 Axes>"
      ]
     },
     "metadata": {
      "needs_background": "light"
     },
     "output_type": "display_data"
    }
   ],
   "source": [
    "sns.boxplot(x=ride['distance'], color='green')\n",
    "plt.title('Расстояние, преодоленное за одну поездку')\n",
    "plt.xlabel('Расстояние, м')\n",
    "plt.show()"
   ]
  },
  {
   "cell_type": "code",
   "execution_count": 19,
   "id": "da6f7af6",
   "metadata": {},
   "outputs": [
    {
     "data": {
      "image/png": "[encoded data removed]",
      "text/plain": [
       "<Figure size 432x288 with 1 Axes>"
      ]
     },
     "metadata": {
      "needs_background": "light"
     },
     "output_type": "display_data"
    }
   ],
   "source": [
    "sns.boxplot(x=ride['duration'], color='red')\n",
    "plt.title('Расстояние, преодоленное за одну поездку')\n",
    "plt.xlabel('Расстояние, м')\n",
    "plt.show()"
   ]
  },
  {
   "cell_type": "markdown",
   "id": "77994f8a",
   "metadata": {},
   "source": [
    "***ИТОГ***\n",
    "\n",
    "Частота появления городов:\n",
    "\n",
    "Распределение пользователей по городам примерно одинаково, без ярко выраженных аномалий. Наибольшее число пользователей зарегистрировано в Пятигорске - 219 человек, в то время как в Москве этот показатель составляет 168 человек. Вероятно, это объясняется тем, что Пятигорск значительно меньше Москвы по размеру, делая его более удобным для использования самоката как средства передвижения.\n",
    "\n",
    "Соотношение пользователей с и без подписки:\n",
    "Бесплатную подписку используют 835 пользователей, что составляет примерно 54% от общего числа. В то время как 699 пользователей пользуются платной подпиской, что составляет примерно 46%.\n",
    "Возраст пользователей:\n",
    "\n",
    "Самые молодые пользователи имеют возраст 12 и 13 лет, в то время как самые старшие - 43 и 39 лет. В целом, пользователи приложения в основном находятся в возрастном диапазоне от 20 до 30 лет.\n",
    "Расстояние преодоленное пользователем за одну поездку:\n",
    "\n",
    "Самая короткая дистанция, пройденная пользователем, составляет 0.86 км, а самая длинная - 7.2 км. Большинство пользователей проезжают от 2.5 до 4 км.\n",
    "Продолжительность поездок:\n",
    "\n",
    "Самые короткие поездки длились всего полминуты, что выглядит необычно, возможно, пользователи отменили поездку или столкнулись с техническими проблемами самоката. Самая долгая поездка заняла 40 минут. В среднем, поездки длительностью от 13 до 22 минут являются наиболее типичными."
   ]
  },
  {
   "cell_type": "markdown",
   "id": "4ef51331",
   "metadata": {},
   "source": [
    "#### Шаг 4. Объединение данных"
   ]
  },
  {
   "cell_type": "markdown",
   "id": "bb48310b",
   "metadata": {},
   "source": [
    "***Создание новых датафреймов из полного по признаку наличия подписки***\n",
    "\n",
    "data_full - полный датафрейм\n",
    "\n",
    "data_full_sub - полный датафрейм для пользователей с подпиской\n",
    "\n",
    "data_full_no_sub - полный датафрейм для пользователей с бесплатной подпиской"
   ]
  },
  {
   "cell_type": "code",
   "execution_count": 20,
   "id": "6bf288b5",
   "metadata": {},
   "outputs": [
    {
     "name": "stdout",
     "output_type": "stream",
     "text": [
      "      user_id    name  age    city subscription_type     distance   duration  \\\n",
      "0           1    Кира   22  Тюмень             ultra  4409.919140  25.599769   \n",
      "1           1    Кира   22  Тюмень             ultra  2617.592153  15.816871   \n",
      "2           1    Кира   22  Тюмень             ultra   754.159807   6.232113   \n",
      "3           1    Кира   22  Тюмень             ultra  2694.783254  18.511000   \n",
      "4           1    Кира   22  Тюмень             ultra  4028.687306  26.265803   \n",
      "...       ...     ...  ...     ...               ...          ...        ...   \n",
      "6495      699  Оксана   22  Москва             ultra  3973.046497  24.671163   \n",
      "6496      699  Оксана   22  Москва             ultra  3288.702563  15.892886   \n",
      "6497      699  Оксана   22  Москва             ultra  3076.159348  14.389525   \n",
      "6498      699  Оксана   22  Москва             ultra  4707.845501  15.839579   \n",
      "6499      699  Оксана   22  Москва             ultra  3202.890770  25.217345   \n",
      "\n",
      "           date  month  minute_price  start_ride_price  subscription_fee  \n",
      "0    2021-01-01      1             6                 0               199  \n",
      "1    2021-01-18      1             6                 0               199  \n",
      "2    2021-04-20      4             6                 0               199  \n",
      "3    2021-08-11      8             6                 0               199  \n",
      "4    2021-08-28      8             6                 0               199  \n",
      "...         ...    ...           ...               ...               ...  \n",
      "6495 2021-08-29      8             6                 0               199  \n",
      "6496 2021-09-12      9             6                 0               199  \n",
      "6497 2021-09-26      9             6                 0               199  \n",
      "6498 2021-10-17     10             6                 0               199  \n",
      "6499 2021-12-03     12             6                 0               199  \n",
      "\n",
      "[6500 rows x 12 columns]\n"
     ]
    },
    {
     "data": {
      "text/html": [
       "<div>\n",
       "<style scoped>\n",
       "    .dataframe tbody tr th:only-of-type {\n",
       "        vertical-align: middle;\n",
       "    }\n",
       "\n",
       "    .dataframe tbody tr th {\n",
       "        vertical-align: top;\n",
       "    }\n",
       "\n",
       "    .dataframe thead th {\n",
       "        text-align: right;\n",
       "    }\n",
       "</style>\n",
       "<table border=\"1\" class=\"dataframe\">\n",
       "  <thead>\n",
       "    <tr style=\"text-align: right;\">\n",
       "      <th></th>\n",
       "      <th>user_id</th>\n",
       "      <th>name</th>\n",
       "      <th>age</th>\n",
       "      <th>city</th>\n",
       "      <th>subscription_type</th>\n",
       "      <th>distance</th>\n",
       "      <th>duration</th>\n",
       "      <th>date</th>\n",
       "      <th>month</th>\n",
       "      <th>minute_price</th>\n",
       "      <th>start_ride_price</th>\n",
       "      <th>subscription_fee</th>\n",
       "    </tr>\n",
       "  </thead>\n",
       "  <tbody>\n",
       "    <tr>\n",
       "      <th>6500</th>\n",
       "      <td>700</td>\n",
       "      <td>Айдар</td>\n",
       "      <td>22</td>\n",
       "      <td>Омск</td>\n",
       "      <td>free</td>\n",
       "      <td>2515.690719</td>\n",
       "      <td>14.944286</td>\n",
       "      <td>2021-01-02</td>\n",
       "      <td>1</td>\n",
       "      <td>8</td>\n",
       "      <td>50</td>\n",
       "      <td>0</td>\n",
       "    </tr>\n",
       "    <tr>\n",
       "      <th>6501</th>\n",
       "      <td>700</td>\n",
       "      <td>Айдар</td>\n",
       "      <td>22</td>\n",
       "      <td>Омск</td>\n",
       "      <td>free</td>\n",
       "      <td>846.932642</td>\n",
       "      <td>16.234663</td>\n",
       "      <td>2021-02-01</td>\n",
       "      <td>2</td>\n",
       "      <td>8</td>\n",
       "      <td>50</td>\n",
       "      <td>0</td>\n",
       "    </tr>\n",
       "    <tr>\n",
       "      <th>6502</th>\n",
       "      <td>700</td>\n",
       "      <td>Айдар</td>\n",
       "      <td>22</td>\n",
       "      <td>Омск</td>\n",
       "      <td>free</td>\n",
       "      <td>4004.434142</td>\n",
       "      <td>20.016628</td>\n",
       "      <td>2021-02-04</td>\n",
       "      <td>2</td>\n",
       "      <td>8</td>\n",
       "      <td>50</td>\n",
       "      <td>0</td>\n",
       "    </tr>\n",
       "    <tr>\n",
       "      <th>6503</th>\n",
       "      <td>700</td>\n",
       "      <td>Айдар</td>\n",
       "      <td>22</td>\n",
       "      <td>Омск</td>\n",
       "      <td>free</td>\n",
       "      <td>1205.911290</td>\n",
       "      <td>9.782872</td>\n",
       "      <td>2021-02-10</td>\n",
       "      <td>2</td>\n",
       "      <td>8</td>\n",
       "      <td>50</td>\n",
       "      <td>0</td>\n",
       "    </tr>\n",
       "    <tr>\n",
       "      <th>6504</th>\n",
       "      <td>700</td>\n",
       "      <td>Айдар</td>\n",
       "      <td>22</td>\n",
       "      <td>Омск</td>\n",
       "      <td>free</td>\n",
       "      <td>3047.379435</td>\n",
       "      <td>17.427673</td>\n",
       "      <td>2021-02-14</td>\n",
       "      <td>2</td>\n",
       "      <td>8</td>\n",
       "      <td>50</td>\n",
       "      <td>0</td>\n",
       "    </tr>\n",
       "    <tr>\n",
       "      <th>...</th>\n",
       "      <td>...</td>\n",
       "      <td>...</td>\n",
       "      <td>...</td>\n",
       "      <td>...</td>\n",
       "      <td>...</td>\n",
       "      <td>...</td>\n",
       "      <td>...</td>\n",
       "      <td>...</td>\n",
       "      <td>...</td>\n",
       "      <td>...</td>\n",
       "      <td>...</td>\n",
       "      <td>...</td>\n",
       "    </tr>\n",
       "    <tr>\n",
       "      <th>18063</th>\n",
       "      <td>1534</td>\n",
       "      <td>Альберт</td>\n",
       "      <td>25</td>\n",
       "      <td>Краснодар</td>\n",
       "      <td>free</td>\n",
       "      <td>3781.098080</td>\n",
       "      <td>19.822962</td>\n",
       "      <td>2021-11-04</td>\n",
       "      <td>11</td>\n",
       "      <td>8</td>\n",
       "      <td>50</td>\n",
       "      <td>0</td>\n",
       "    </tr>\n",
       "    <tr>\n",
       "      <th>18064</th>\n",
       "      <td>1534</td>\n",
       "      <td>Альберт</td>\n",
       "      <td>25</td>\n",
       "      <td>Краснодар</td>\n",
       "      <td>free</td>\n",
       "      <td>2840.423057</td>\n",
       "      <td>21.409799</td>\n",
       "      <td>2021-11-16</td>\n",
       "      <td>11</td>\n",
       "      <td>8</td>\n",
       "      <td>50</td>\n",
       "      <td>0</td>\n",
       "    </tr>\n",
       "    <tr>\n",
       "      <th>18065</th>\n",
       "      <td>1534</td>\n",
       "      <td>Альберт</td>\n",
       "      <td>25</td>\n",
       "      <td>Краснодар</td>\n",
       "      <td>free</td>\n",
       "      <td>3826.185507</td>\n",
       "      <td>18.435051</td>\n",
       "      <td>2021-11-18</td>\n",
       "      <td>11</td>\n",
       "      <td>8</td>\n",
       "      <td>50</td>\n",
       "      <td>0</td>\n",
       "    </tr>\n",
       "    <tr>\n",
       "      <th>18066</th>\n",
       "      <td>1534</td>\n",
       "      <td>Альберт</td>\n",
       "      <td>25</td>\n",
       "      <td>Краснодар</td>\n",
       "      <td>free</td>\n",
       "      <td>2902.308661</td>\n",
       "      <td>16.674362</td>\n",
       "      <td>2021-11-27</td>\n",
       "      <td>11</td>\n",
       "      <td>8</td>\n",
       "      <td>50</td>\n",
       "      <td>0</td>\n",
       "    </tr>\n",
       "    <tr>\n",
       "      <th>18067</th>\n",
       "      <td>1534</td>\n",
       "      <td>Альберт</td>\n",
       "      <td>25</td>\n",
       "      <td>Краснодар</td>\n",
       "      <td>free</td>\n",
       "      <td>2371.711192</td>\n",
       "      <td>15.893917</td>\n",
       "      <td>2021-12-29</td>\n",
       "      <td>12</td>\n",
       "      <td>8</td>\n",
       "      <td>50</td>\n",
       "      <td>0</td>\n",
       "    </tr>\n",
       "  </tbody>\n",
       "</table>\n",
       "<p>11568 rows × 12 columns</p>\n",
       "</div>"
      ],
      "text/plain": [
       "       user_id     name  age       city subscription_type     distance  \\\n",
       "6500       700    Айдар   22       Омск              free  2515.690719   \n",
       "6501       700    Айдар   22       Омск              free   846.932642   \n",
       "6502       700    Айдар   22       Омск              free  4004.434142   \n",
       "6503       700    Айдар   22       Омск              free  1205.911290   \n",
       "6504       700    Айдар   22       Омск              free  3047.379435   \n",
       "...        ...      ...  ...        ...               ...          ...   \n",
       "18063     1534  Альберт   25  Краснодар              free  3781.098080   \n",
       "18064     1534  Альберт   25  Краснодар              free  2840.423057   \n",
       "18065     1534  Альберт   25  Краснодар              free  3826.185507   \n",
       "18066     1534  Альберт   25  Краснодар              free  2902.308661   \n",
       "18067     1534  Альберт   25  Краснодар              free  2371.711192   \n",
       "\n",
       "        duration       date  month  minute_price  start_ride_price  \\\n",
       "6500   14.944286 2021-01-02      1             8                50   \n",
       "6501   16.234663 2021-02-01      2             8                50   \n",
       "6502   20.016628 2021-02-04      2             8                50   \n",
       "6503    9.782872 2021-02-10      2             8                50   \n",
       "6504   17.427673 2021-02-14      2             8                50   \n",
       "...          ...        ...    ...           ...               ...   \n",
       "18063  19.822962 2021-11-04     11             8                50   \n",
       "18064  21.409799 2021-11-16     11             8                50   \n",
       "18065  18.435051 2021-11-18     11             8                50   \n",
       "18066  16.674362 2021-11-27     11             8                50   \n",
       "18067  15.893917 2021-12-29     12             8                50   \n",
       "\n",
       "       subscription_fee  \n",
       "6500                  0  \n",
       "6501                  0  \n",
       "6502                  0  \n",
       "6503                  0  \n",
       "6504                  0  \n",
       "...                 ...  \n",
       "18063                 0  \n",
       "18064                 0  \n",
       "18065                 0  \n",
       "18066                 0  \n",
       "18067                 0  \n",
       "\n",
       "[11568 rows x 12 columns]"
      ]
     },
     "execution_count": 20,
     "metadata": {},
     "output_type": "execute_result"
    }
   ],
   "source": [
    "data_full = user.merge(ride)\n",
    "data_full = data_full.merge(sub)\n",
    "data_full_sub = data_full.query('subscription_type == \"ultra\"')\n",
    "data_full_no_sub = data_full.query('subscription_type == \"free\"')\n",
    "print(data_full_sub)\n",
    "data_full_no_sub"
   ]
  },
  {
   "cell_type": "markdown",
   "id": "3089a994",
   "metadata": {},
   "source": [
    "Для более удобного чтения, обозначим диаграммы для клиентов с подпиской \"зеленым\", а без подписки \"красным\""
   ]
  },
  {
   "cell_type": "code",
   "execution_count": 21,
   "id": "70a1405f",
   "metadata": {},
   "outputs": [
    {
     "data": {
      "image/png": "[encoded data removed]",
      "text/plain": [
       "<Figure size 360x432 with 1 Axes>"
      ]
     },
     "metadata": {
      "needs_background": "light"
     },
     "output_type": "display_data"
    }
   ],
   "source": [
    "data_full_sub['distance'].sort_values().plot(kind = 'hist', bins = 15, color = 'green',\n",
    "                                              grid=True, \n",
    "                                              legend=True, \n",
    "                                              figsize=(5, 6), \n",
    "                                              title = 'Расстояние, которое пользователь преодолел за одну поездку')\n",
    "plt.xlabel('Расстояние')\n",
    "plt.ylabel('Число пользователей')\n",
    "plt.show()"
   ]
  },
  {
   "cell_type": "code",
   "execution_count": 22,
   "id": "0731258f",
   "metadata": {},
   "outputs": [
    {
     "data": {
      "image/png": "[encoded data removed]",
      "text/plain": [
       "<Figure size 360x432 with 1 Axes>"
      ]
     },
     "metadata": {
      "needs_background": "light"
     },
     "output_type": "display_data"
    }
   ],
   "source": [
    "data_full_sub['duration'].sort_values().plot(kind = 'hist', bins =50, color = 'green',\n",
    "                                              grid=True, \n",
    "                                              legend=True, \n",
    "                                              figsize=(5, 6), \n",
    "                                              title = 'Продолжительность поездок')\n",
    "plt.xlabel('Длительность поездки в минутах')\n",
    "plt.ylabel('Число пользователей')\n",
    "plt.show()"
   ]
  },
  {
   "cell_type": "code",
   "execution_count": 23,
   "id": "9f167c89",
   "metadata": {},
   "outputs": [
    {
     "data": {
      "image/png": "[encoded data removed]",
      "text/plain": [
       "<Figure size 360x432 with 1 Axes>"
      ]
     },
     "metadata": {
      "needs_background": "light"
     },
     "output_type": "display_data"
    }
   ],
   "source": [
    "data_full_no_sub['distance'].sort_values().plot(kind = 'hist', bins =15, color = 'red',\n",
    "                                              grid=True, \n",
    "                                              legend=True, \n",
    "                                              figsize=(5, 6), \n",
    "                                              title = 'Расстояние, которое пользователь преодолел за одну поездку')\n",
    "plt.xlabel('Расстояние')\n",
    "plt.ylabel('Число пользователей')\n",
    "plt.show()"
   ]
  },
  {
   "cell_type": "code",
   "execution_count": 24,
   "id": "87c2d6df",
   "metadata": {},
   "outputs": [
    {
     "data": {
      "image/png": "[encoded data removed]",
      "text/plain": [
       "<Figure size 360x432 with 1 Axes>"
      ]
     },
     "metadata": {
      "needs_background": "light"
     },
     "output_type": "display_data"
    }
   ],
   "source": [
    "data_full_no_sub['duration'].sort_values().plot(kind = 'hist', bins =50, color = 'red',\n",
    "                                              grid=True, \n",
    "                                              legend=True, \n",
    "                                              figsize=(5, 6), \n",
    "                                              title = 'Продолжительность поездок')\n",
    "plt.xlabel('Длительность поездки в минутах')\n",
    "plt.ylabel('Число пользователей')\n",
    "plt.show()"
   ]
  },
  {
   "cell_type": "markdown",
   "id": "f464eb24",
   "metadata": {},
   "source": [
    "***Вывод***\n",
    "\n",
    "Мы визуализировали данные о расстоянии и времени для каждого из тарифов.\n",
    "\n",
    "Для пользователей с бесплатным тарифом, время поездки обычно составляет от 10 до 30 минут, и пройденное расстояние варьируется от 2 до 5 км, с некоторыми случаями, когда пользователи проехали даже 6 или 6.5 км.\n",
    "\n",
    "В случае платного тарифа, в основном время поездки сосредоточено в диапазоне от 15 до 25 минут, а наиболее часто преодолеваемое расстояние составляет 3 км.\n",
    "\n",
    "Таким образом, можно заключить, что пользователи с бесплатным тарифом, в среднем, предпочитают более длительные поездки и проезжают большее расстояние по сравнению с пользователями, выбравшими платный тариф."
   ]
  },
  {
   "cell_type": "markdown",
   "id": "402d620f",
   "metadata": {},
   "source": [
    "#### Шаг 5. Подсчёт выручки"
   ]
  },
  {
   "cell_type": "code",
   "execution_count": 25,
   "id": "53049e0a",
   "metadata": {
    "scrolled": false
   },
   "outputs": [
    {
     "data": {
      "text/html": [
       "<div>\n",
       "<style scoped>\n",
       "    .dataframe tbody tr th:only-of-type {\n",
       "        vertical-align: middle;\n",
       "    }\n",
       "\n",
       "    .dataframe tbody tr th {\n",
       "        vertical-align: top;\n",
       "    }\n",
       "\n",
       "    .dataframe thead th {\n",
       "        text-align: right;\n",
       "    }\n",
       "</style>\n",
       "<table border=\"1\" class=\"dataframe\">\n",
       "  <thead>\n",
       "    <tr style=\"text-align: right;\">\n",
       "      <th></th>\n",
       "      <th></th>\n",
       "      <th>distance</th>\n",
       "      <th>duration</th>\n",
       "      <th>name</th>\n",
       "      <th>subscription_type</th>\n",
       "      <th>profit_per_month</th>\n",
       "    </tr>\n",
       "    <tr>\n",
       "      <th>month</th>\n",
       "      <th>user_id</th>\n",
       "      <th></th>\n",
       "      <th></th>\n",
       "      <th></th>\n",
       "      <th></th>\n",
       "      <th></th>\n",
       "    </tr>\n",
       "  </thead>\n",
       "  <tbody>\n",
       "    <tr>\n",
       "      <th rowspan=\"5\" valign=\"top\">1</th>\n",
       "      <th>1</th>\n",
       "      <td>7027.511294</td>\n",
       "      <td>42.0</td>\n",
       "      <td>2</td>\n",
       "      <td>ultra</td>\n",
       "      <td>451.0</td>\n",
       "    </tr>\n",
       "    <tr>\n",
       "      <th>3</th>\n",
       "      <td>3061.777147</td>\n",
       "      <td>13.0</td>\n",
       "      <td>1</td>\n",
       "      <td>ultra</td>\n",
       "      <td>277.0</td>\n",
       "    </tr>\n",
       "    <tr>\n",
       "      <th>5</th>\n",
       "      <td>3914.646990</td>\n",
       "      <td>13.0</td>\n",
       "      <td>1</td>\n",
       "      <td>ultra</td>\n",
       "      <td>277.0</td>\n",
       "    </tr>\n",
       "    <tr>\n",
       "      <th>7</th>\n",
       "      <td>6478.080979</td>\n",
       "      <td>28.0</td>\n",
       "      <td>2</td>\n",
       "      <td>ultra</td>\n",
       "      <td>367.0</td>\n",
       "    </tr>\n",
       "    <tr>\n",
       "      <th>12</th>\n",
       "      <td>3577.151148</td>\n",
       "      <td>33.0</td>\n",
       "      <td>1</td>\n",
       "      <td>ultra</td>\n",
       "      <td>397.0</td>\n",
       "    </tr>\n",
       "    <tr>\n",
       "      <th>...</th>\n",
       "      <th>...</th>\n",
       "      <td>...</td>\n",
       "      <td>...</td>\n",
       "      <td>...</td>\n",
       "      <td>...</td>\n",
       "      <td>...</td>\n",
       "    </tr>\n",
       "    <tr>\n",
       "      <th rowspan=\"5\" valign=\"top\">12</th>\n",
       "      <th>1525</th>\n",
       "      <td>4597.854350</td>\n",
       "      <td>34.0</td>\n",
       "      <td>1</td>\n",
       "      <td>free</td>\n",
       "      <td>322.0</td>\n",
       "    </tr>\n",
       "    <tr>\n",
       "      <th>1526</th>\n",
       "      <td>3644.121544</td>\n",
       "      <td>23.0</td>\n",
       "      <td>1</td>\n",
       "      <td>free</td>\n",
       "      <td>234.0</td>\n",
       "    </tr>\n",
       "    <tr>\n",
       "      <th>1528</th>\n",
       "      <td>3998.569324</td>\n",
       "      <td>11.0</td>\n",
       "      <td>1</td>\n",
       "      <td>free</td>\n",
       "      <td>138.0</td>\n",
       "    </tr>\n",
       "    <tr>\n",
       "      <th>1532</th>\n",
       "      <td>6111.889853</td>\n",
       "      <td>42.0</td>\n",
       "      <td>2</td>\n",
       "      <td>free</td>\n",
       "      <td>436.0</td>\n",
       "    </tr>\n",
       "    <tr>\n",
       "      <th>1534</th>\n",
       "      <td>2371.711192</td>\n",
       "      <td>16.0</td>\n",
       "      <td>1</td>\n",
       "      <td>free</td>\n",
       "      <td>178.0</td>\n",
       "    </tr>\n",
       "  </tbody>\n",
       "</table>\n",
       "<p>11331 rows × 5 columns</p>\n",
       "</div>"
      ],
      "text/plain": [
       "                  distance  duration  name subscription_type  profit_per_month\n",
       "month user_id                                                                 \n",
       "1     1        7027.511294      42.0     2             ultra             451.0\n",
       "      3        3061.777147      13.0     1             ultra             277.0\n",
       "      5        3914.646990      13.0     1             ultra             277.0\n",
       "      7        6478.080979      28.0     2             ultra             367.0\n",
       "      12       3577.151148      33.0     1             ultra             397.0\n",
       "...                    ...       ...   ...               ...               ...\n",
       "12    1525     4597.854350      34.0     1              free             322.0\n",
       "      1526     3644.121544      23.0     1              free             234.0\n",
       "      1528     3998.569324      11.0     1              free             138.0\n",
       "      1532     6111.889853      42.0     2              free             436.0\n",
       "      1534     2371.711192      16.0     1              free             178.0\n",
       "\n",
       "[11331 rows x 5 columns]"
      ]
     },
     "execution_count": 25,
     "metadata": {},
     "output_type": "execute_result"
    }
   ],
   "source": [
    "#округлим длительность поездок\n",
    "data_full['duration'] = np.ceil(data_full['duration'])\n",
    "#создали агрегированный датафрэйм\n",
    "agr_data = pd.pivot_table(data_full,\n",
    "                           index=['month', 'user_id'],\n",
    "                           values = ['distance', 'duration', 'name', 'subscription_type'],\n",
    "                           aggfunc = {'distance': sum, \n",
    "                                      'duration' : sum, \n",
    "                                      'name' : len, \n",
    "                                      'subscription_type' : min})\n",
    "#создадим функцию для расчета прибыли согласно условию задания и добавим новый столбец в датафрэйм\n",
    "def profit(row):\n",
    "    if row['subscription_type'] == 'ultra':\n",
    "        return row['duration']*sub.loc[1,'minute_price'] + sub.loc[1,'subscription_fee']\n",
    "    elif row['subscription_type'] == 'free':\n",
    "        return row['duration']*sub.loc[0,'minute_price'] + row['name']*sub.loc[0,'start_ride_price']\n",
    "    else:\n",
    "        return 'Люблю Яндекс'\n",
    "agr_data['profit_per_month'] = agr_data.apply(profit, axis=1)\n",
    "agr_data"
   ]
  },
  {
   "cell_type": "markdown",
   "id": "c9fc0632",
   "metadata": {},
   "source": [
    "Мы вычислили общее пройденное расстояние, количество совершенных поездок и общее время поездок для каждого пользователя за каждый месяц. Также мы добавили столбец с месячным доходом, полученным от каждого пользователя."
   ]
  },
  {
   "cell_type": "markdown",
   "id": "41545ac0",
   "metadata": {},
   "source": [
    "#### Шаг 6. Проверка гипотез"
   ]
  },
  {
   "cell_type": "markdown",
   "id": "997db5b4",
   "metadata": {},
   "source": [
    "Проведем исследование, чтобы выяснить, потратят ли пользователи с подпиской больше времени на поездки по сравнению с пользователями, использующими бесплатный тариф.\n",
    "\n",
    "Гипотеза H_0: Среднее время поездок пользователей с подпиской Ultra равно среднему времени поездок пользователей с бесплатным тарифом.\n",
    "\n",
    "Гипотеза H_1: Среднее время поездок пользователей с подпиской Ultra больше среднего времени поездок пользователей с бесплатным тарифом."
   ]
  },
  {
   "cell_type": "code",
   "execution_count": 26,
   "id": "23ea867b",
   "metadata": {},
   "outputs": [
    {
     "name": "stdout",
     "output_type": "stream",
     "text": [
      "1.2804098316645618e-34\n",
      "Отвергаем нулевую гипотезу\n"
     ]
    }
   ],
   "source": [
    "sub = data_full_sub['duration'] \n",
    "\n",
    "nosub = data_full_no_sub['duration']\n",
    "\n",
    "results = st.ttest_ind(sub, \n",
    "                       nosub,\n",
    "                       alternative = 'greater')\n",
    "\n",
    "alpha = 0.05\n",
    "\n",
    "print(results.pvalue)\n",
    "\n",
    "if results.pvalue < alpha:\n",
    "    print('Отвергаем нулевую гипотезу')\n",
    "else:\n",
    "    print('Не удалось отвергнуть нулевую гипотезу')"
   ]
  },
  {
   "cell_type": "markdown",
   "id": "ecccdbf3",
   "metadata": {},
   "source": [
    "Проведенное исследование опровергло предположение о том, что время поездок пользователей, имеющих тариф Ultra, совпадает с временем поездок пользователей с бесплатным тарифом."
   ]
  },
  {
   "cell_type": "markdown",
   "id": "9220a53c",
   "metadata": {},
   "source": [
    "Давайте проверим следующее предположение: пользователи с подпиской проезжают расстояние, которое не превышает 3130 метров за одну поездку.\n",
    "\n",
    "Гипотеза H_0: Среднее расстояние поездок пользователей с подпиской Ultra равно 3130 метрам.\n",
    "\n",
    "Гипотеза H_1: Среднее расстояние поездок пользователей с подпиской Ultra больше, чем 3130 метров."
   ]
  },
  {
   "cell_type": "code",
   "execution_count": 27,
   "id": "a21bd0e2",
   "metadata": {},
   "outputs": [
    {
     "name": "stdout",
     "output_type": "stream",
     "text": [
      "0.9195368847849785\n",
      "Не удалось отвергнуть нулевую гипотезу\n"
     ]
    }
   ],
   "source": [
    "sub_dist = data_full_sub['distance']\n",
    "\n",
    "interested_value = 3130.0\n",
    "\n",
    "alpha = 0.05\n",
    "\n",
    "results = st.ttest_1samp(\n",
    "    sub_dist, \n",
    "    interested_value,\n",
    "    alternative='greater')\n",
    "    \n",
    "print(results.pvalue)\n",
    "\n",
    "if (results.pvalue < alpha):\n",
    "    print('Отвергаем нулевую гипотезу')\n",
    "else:\n",
    "    print('Не удалось отвергнуть нулевую гипотезу')"
   ]
  },
  {
   "cell_type": "markdown",
   "id": "cfbaa26d",
   "metadata": {},
   "source": [
    "Результаты проверки гипотезы не позволяют нам сделать вывод о том, что расстояние, пройденное пользователями с тарифом Ultra, не превышает 3130 метров."
   ]
  },
  {
   "cell_type": "markdown",
   "id": "bb40fe4f",
   "metadata": {},
   "source": [
    "Исследуем следующее предположение: месячная выручка от пользователей с подпиской превышает выручку от пользователей без подписки.\n",
    "\n",
    "Гипотеза H_0: Средняя помесячная выручка пользователей с подпиской Ultra равна средней помесячной выручке пользователей с бесплатной подпиской.\n",
    "\n",
    "Гипотеза H_1: Средняя помесячная выручка пользователей с подпиской Ultra превышает среднюю помесячную выручку пользователей с бесплатной подпиской."
   ]
  },
  {
   "cell_type": "code",
   "execution_count": 28,
   "id": "1cb66906",
   "metadata": {},
   "outputs": [
    {
     "name": "stdout",
     "output_type": "stream",
     "text": [
      "1.8850394384715216e-31\n",
      "Отвергаем нулевую гипотезу\n"
     ]
    }
   ],
   "source": [
    "sub_per_month = agr_data.loc[agr_data['subscription_type'] == \"ultra\", 'profit_per_month']\n",
    "free_sub_per_month = agr_data.loc[agr_data['subscription_type'] == \"free\", 'profit_per_month'] \n",
    "\n",
    "\n",
    "results = st.ttest_ind(sub_per_month, \n",
    "                       free_sub_per_month,\n",
    "                       alternative = 'greater')\n",
    "\n",
    "alpha = 0.05\n",
    "\n",
    "print(results.pvalue)\n",
    "\n",
    "if results.pvalue < alpha:\n",
    "    print('Отвергаем нулевую гипотезу')\n",
    "else:\n",
    "    print('Не удалось отвергнуть нулевую гипотезу')"
   ]
  },
  {
   "cell_type": "markdown",
   "id": "b96fc397",
   "metadata": {},
   "source": [
    "Проведя проверку гипотезы, мы можем заключить, что выручка от пользователей с подпиской Ultra превышает выручку от пользователей с бесплатной подпиской."
   ]
  },
  {
   "cell_type": "markdown",
   "id": "50a02514",
   "metadata": {},
   "source": [
    "Представьте такую ситуацию: техническая команда сервиса обновила сервера, с которыми взаимодействует мобильное приложение. Она надеется, что из-за этого количество обращений в техподдержку значимо снизилось. Некоторый файл содержит для каждого пользователя данные о количестве обращений до обновления и после него. Какой тест вам понадобился бы для проверки этой гипотезы?\n",
    "\n",
    "Мы предполагаем использовать гипотезу о равенстве средних для связанных (парных) выборок. Это означает, что мы сравниваем средние значения двух связанных групп данных.\n",
    "\n",
    "Формулировка гипотез:\n",
    "\n",
    "H0: Среднее количество обращений в техподдержку до и после изменения одинаково.\n",
    "\n",
    "H1: Среднее количество обращений в техподдержку до и после изменения уменьшилось.\n",
    "\n",
    "Здесь μ1 и μ2 представляют собой средние значения количества обращений в техподдержку до и после изменений соответственно.\n",
    "\n",
    "Если списки уникальных пользователей в них совпадают, то выборки зависимы . Для проверки гипотез мы намерены использовать метод scipy.stats.ttest_rel(after, before, alternative=’less’), который позволяет нам сравнить средние значения двух связанных выборок и оценить, является ли различие между ними статистически значимым."
   ]
  },
  {
   "cell_type": "markdown",
   "id": "d1a04214",
   "metadata": {},
   "source": [
    "***Общий вывод***\n",
    "\n",
    "Все первоначальные данные во всех файлах были изначально чистыми: в них отсутствовали пропуски, значительные выбросы и дубликаты, за исключением тех, которые были обнаружены в файле 'users_go.csv'. При копировании данных из файлов в датафреймы столбцы данных не находились в оптимальном состоянии. В ходе предварительной обработки данных они были оптимизированы для целей данного проекта.\n",
    "\n",
    "Во время анализа данных были обнаружены следующие ключевые моменты:\n",
    "\n",
    "Всего 835 пользователей пользуются подпиской \"free\", что составляет 54.43% от общего числа пользователей, превышая число пользователей с подпиской \"ultra\" на 136.\n",
    "Пользователи разного возраста, от 12 до 43 лет, пользуются услугами аренды самокатов. Максимальное количество пользователей приходится на возраст 25 лет, который также является медианным.\n",
    "Большинство пользователей используют подписку \"free\", их количество составляет 835, что составляет 54.43% от общего числа пользователей и на 136 больше, чем пользователей с подпиской \"ultra\".\n",
    "Максимальное количество поездок (219) было совершено в городе Пятигорске, а минимальное (168) - в Москве.\n",
    "Дистанция поездок варьируется от 1 до 7211 метров. Медианное значение составляет 3134 метра. Наблюдаются два пика: небольшой около 700 метров и основной около 3200 метров, с нормальным распределением между ними.\n",
    "Продолжительность поездок нормально распределена от 0 до 41 минуты, с наиболее частым значением в 18 минут. Наблюдается выброс менее чем в 100 случаях с продолжительностью 1 минута.\n",
    "В результате группировки данных выявлено следующее:\n",
    "\n",
    "Количество поездок с использованием подписки \"free\" на 5068 больше, чем с использованием подписки \"ultra\", и составляет 11568.\n",
    "Возрастные показатели пользователей с разными типами подписок в целом схожи, за исключением максимального возраста, который на 5 лет больше у пользователей с подпиской \"free\".\n",
    "Дистанция поездок при использовании подписки \"free\" более разнообразна, с большими максимальными и минимальными значениями, и большим стандартным отклонением, чем при использовании подписки \"ultra\". Средняя дистанция при использовании подписки \"free\" короче.\n",
    "Продолжительность поездок при использовании подписки \"free\" немного меньше по всем показателям, чем при использовании подписки \"ultra\".\n",
    "Также была выявлена сезонность использования разных типов подписок, с выраженными пиками активности в разные периоды года в зависимости от типа подписки. Все города показали предпочтение к подписке \"free\", хотя Пятигорск и Ростов-на-Дону выделяются как лидеры по использованию разных типов подписок.\n",
    "Проведенные исследования гипотез привели к следующим результатам:\n",
    "\n",
    "Отвергнута гипотеза о том, что пользователи с подпиской тратят больше времени на поездки по сравнению с пользователями, пользующимися бесплатным тарифом.\n",
    "Гипотеза о том, что пользователи с подпиской проезжают расстояние, не превышающее 3130 метров за одну поездку, не была отвергнута.\n",
    "Отвергнута гипотеза о том, что помесячная выручка от пользователей с подпиской выше, чем выручка от пользователей без подписки."
   ]
  }
 ],
 "metadata": {
  "ExecuteTimeLog": [
   {
    "duration": 48,
    "start_time": "2024-02-09T01:49:07.311Z"
   },
   {
    "duration": 77,
    "start_time": "2024-02-09T01:49:10.775Z"
   },
   {
    "duration": 74,
    "start_time": "2024-02-09T01:49:21.211Z"
   },
   {
    "duration": 433,
    "start_time": "2024-02-09T01:49:47.924Z"
   },
   {
    "duration": 801,
    "start_time": "2024-02-09T01:50:00.730Z"
   },
   {
    "duration": 3,
    "start_time": "2024-02-09T01:50:03.443Z"
   },
   {
    "duration": 258,
    "start_time": "2024-02-09T01:50:11.299Z"
   },
   {
    "duration": 67,
    "start_time": "2024-02-09T01:51:55.687Z"
   },
   {
    "duration": 66,
    "start_time": "2024-02-09T01:52:00.451Z"
   },
   {
    "duration": 25,
    "start_time": "2024-02-09T01:52:02.582Z"
   },
   {
    "duration": 11,
    "start_time": "2024-02-09T01:52:31.138Z"
   },
   {
    "duration": 13,
    "start_time": "2024-02-09T01:53:04.451Z"
   },
   {
    "duration": 14,
    "start_time": "2024-02-09T01:53:25.955Z"
   },
   {
    "duration": 11,
    "start_time": "2024-02-09T01:53:54.585Z"
   },
   {
    "duration": 21,
    "start_time": "2024-02-09T01:59:35.061Z"
   },
   {
    "duration": 32,
    "start_time": "2024-02-09T01:59:50.454Z"
   },
   {
    "duration": 16,
    "start_time": "2024-02-09T02:00:14.223Z"
   },
   {
    "duration": 13,
    "start_time": "2024-02-09T02:00:48.025Z"
   },
   {
    "duration": 7,
    "start_time": "2024-02-09T02:04:50.250Z"
   },
   {
    "duration": 16,
    "start_time": "2024-02-09T02:35:01.545Z"
   },
   {
    "duration": 18,
    "start_time": "2024-02-09T02:35:18.274Z"
   },
   {
    "duration": 18,
    "start_time": "2024-02-09T02:39:43.500Z"
   },
   {
    "duration": 30,
    "start_time": "2024-02-09T02:42:28.136Z"
   },
   {
    "duration": 20,
    "start_time": "2024-02-09T02:43:41.156Z"
   },
   {
    "duration": 25,
    "start_time": "2024-02-09T02:44:04.069Z"
   },
   {
    "duration": 26,
    "start_time": "2024-02-09T02:44:15.772Z"
   },
   {
    "duration": 22,
    "start_time": "2024-02-09T02:44:25.650Z"
   },
   {
    "duration": 24,
    "start_time": "2024-02-09T02:45:19.720Z"
   },
   {
    "duration": 77,
    "start_time": "2024-02-09T02:45:38.134Z"
   },
   {
    "duration": 22,
    "start_time": "2024-02-09T02:45:55.770Z"
   },
   {
    "duration": 20,
    "start_time": "2024-02-09T02:46:03.128Z"
   },
   {
    "duration": 26,
    "start_time": "2024-02-09T02:49:20.170Z"
   },
   {
    "duration": 35,
    "start_time": "2024-02-09T02:49:28.518Z"
   },
   {
    "duration": 28,
    "start_time": "2024-02-09T02:49:45.679Z"
   },
   {
    "duration": 377,
    "start_time": "2024-02-09T02:53:11.486Z"
   },
   {
    "duration": 275,
    "start_time": "2024-02-09T02:53:25.599Z"
   },
   {
    "duration": 318,
    "start_time": "2024-02-09T02:53:31.147Z"
   },
   {
    "duration": 260,
    "start_time": "2024-02-09T02:53:37.995Z"
   },
   {
    "duration": 200,
    "start_time": "2024-02-09T02:53:43.885Z"
   },
   {
    "duration": 534,
    "start_time": "2024-02-09T02:54:03.002Z"
   },
   {
    "duration": 486,
    "start_time": "2024-02-09T02:54:10.354Z"
   },
   {
    "duration": 631,
    "start_time": "2024-02-09T02:54:15.935Z"
   },
   {
    "duration": 650,
    "start_time": "2024-02-09T02:54:22.283Z"
   },
   {
    "duration": 29,
    "start_time": "2024-02-09T02:55:30.286Z"
   },
   {
    "duration": 29,
    "start_time": "2024-02-09T02:55:37.793Z"
   },
   {
    "duration": 50,
    "start_time": "2024-02-09T21:39:46.591Z"
   },
   {
    "duration": 1262,
    "start_time": "2024-02-09T21:39:51.391Z"
   },
   {
    "duration": 353,
    "start_time": "2024-02-09T21:39:52.655Z"
   },
   {
    "duration": 232,
    "start_time": "2024-02-09T21:39:53.010Z"
   },
   {
    "duration": 410,
    "start_time": "2024-02-09T21:39:53.244Z"
   },
   {
    "duration": 18,
    "start_time": "2024-02-09T21:39:53.656Z"
   },
   {
    "duration": 48,
    "start_time": "2024-02-09T21:39:53.692Z"
   },
   {
    "duration": 6,
    "start_time": "2024-02-09T21:39:57.545Z"
   },
   {
    "duration": 77,
    "start_time": "2024-02-09T21:43:48.707Z"
   },
   {
    "duration": 21,
    "start_time": "2024-02-09T21:43:57.365Z"
   },
   {
    "duration": 19,
    "start_time": "2024-02-09T21:44:19.241Z"
   },
   {
    "duration": 7,
    "start_time": "2024-02-09T21:45:07.920Z"
   },
   {
    "duration": 4,
    "start_time": "2024-02-09T21:45:25.575Z"
   },
   {
    "duration": 4,
    "start_time": "2024-02-09T21:45:27.639Z"
   },
   {
    "duration": 6,
    "start_time": "2024-02-09T21:45:33.617Z"
   },
   {
    "duration": 5,
    "start_time": "2024-02-09T21:46:06.109Z"
   },
   {
    "duration": 5,
    "start_time": "2024-02-09T21:46:29.073Z"
   },
   {
    "duration": 6,
    "start_time": "2024-02-09T21:46:32.602Z"
   },
   {
    "duration": 4,
    "start_time": "2024-02-09T21:47:00.300Z"
   },
   {
    "duration": 7,
    "start_time": "2024-02-09T21:47:18.956Z"
   },
   {
    "duration": 149,
    "start_time": "2024-02-09T21:47:37.002Z"
   },
   {
    "duration": 198,
    "start_time": "2024-02-09T21:48:24.134Z"
   },
   {
    "duration": 213,
    "start_time": "2024-02-09T21:48:30.513Z"
   },
   {
    "duration": 133,
    "start_time": "2024-02-09T21:48:38.181Z"
   },
   {
    "duration": 265,
    "start_time": "2024-02-09T21:48:47.510Z"
   },
   {
    "duration": 275,
    "start_time": "2024-02-09T21:48:57.145Z"
   },
   {
    "duration": 278,
    "start_time": "2024-02-09T21:49:39.988Z"
   },
   {
    "duration": 405,
    "start_time": "2024-02-09T21:51:02.613Z"
   },
   {
    "duration": 266,
    "start_time": "2024-02-09T21:51:18.649Z"
   },
   {
    "duration": 275,
    "start_time": "2024-02-09T21:52:14.311Z"
   },
   {
    "duration": 272,
    "start_time": "2024-02-09T21:52:56.394Z"
   },
   {
    "duration": 71,
    "start_time": "2024-02-09T21:59:08.064Z"
   },
   {
    "duration": 70,
    "start_time": "2024-02-09T21:59:17.578Z"
   },
   {
    "duration": 68,
    "start_time": "2024-02-09T21:59:21.433Z"
   },
   {
    "duration": 65,
    "start_time": "2024-02-09T21:59:28.430Z"
   },
   {
    "duration": 6,
    "start_time": "2024-02-09T22:04:33.834Z"
   },
   {
    "duration": 159,
    "start_time": "2024-02-09T22:05:15.810Z"
   },
   {
    "duration": 174,
    "start_time": "2024-02-09T22:06:13.283Z"
   },
   {
    "duration": 132,
    "start_time": "2024-02-09T22:06:30.392Z"
   },
   {
    "duration": 233,
    "start_time": "2024-02-09T22:06:38.949Z"
   },
   {
    "duration": 280,
    "start_time": "2024-02-09T22:06:45.795Z"
   },
   {
    "duration": 139,
    "start_time": "2024-02-09T22:07:13.835Z"
   },
   {
    "duration": 731,
    "start_time": "2024-02-09T22:10:11.407Z"
   },
   {
    "duration": 164,
    "start_time": "2024-02-09T22:10:27.733Z"
   },
   {
    "duration": 283,
    "start_time": "2024-02-09T22:10:33.340Z"
   },
   {
    "duration": 183,
    "start_time": "2024-02-09T22:11:17.984Z"
   },
   {
    "duration": 164,
    "start_time": "2024-02-09T22:11:24.443Z"
   },
   {
    "duration": 178,
    "start_time": "2024-02-09T22:11:46.629Z"
   },
   {
    "duration": 190,
    "start_time": "2024-02-09T22:12:15.891Z"
   },
   {
    "duration": 178,
    "start_time": "2024-02-09T22:15:14.028Z"
   },
   {
    "duration": 216,
    "start_time": "2024-02-09T22:15:19.649Z"
   },
   {
    "duration": 200,
    "start_time": "2024-02-09T22:16:35.098Z"
   },
   {
    "duration": 326,
    "start_time": "2024-02-09T22:17:02.903Z"
   },
   {
    "duration": 202,
    "start_time": "2024-02-09T22:17:20.863Z"
   },
   {
    "duration": 309,
    "start_time": "2024-02-09T22:17:30.241Z"
   },
   {
    "duration": 312,
    "start_time": "2024-02-09T22:17:42.420Z"
   },
   {
    "duration": 198,
    "start_time": "2024-02-09T22:18:54.215Z"
   },
   {
    "duration": 178,
    "start_time": "2024-02-09T22:19:58.511Z"
   },
   {
    "duration": 189,
    "start_time": "2024-02-09T22:20:06.341Z"
   },
   {
    "duration": 178,
    "start_time": "2024-02-09T22:23:40.785Z"
   },
   {
    "duration": 201,
    "start_time": "2024-02-09T22:23:52.017Z"
   },
   {
    "duration": 282,
    "start_time": "2024-02-09T22:24:59.281Z"
   },
   {
    "duration": 182,
    "start_time": "2024-02-09T22:26:03.320Z"
   },
   {
    "duration": 314,
    "start_time": "2024-02-09T22:26:31.556Z"
   },
   {
    "duration": 205,
    "start_time": "2024-02-09T22:27:03.871Z"
   },
   {
    "duration": 250,
    "start_time": "2024-02-09T22:27:15.180Z"
   },
   {
    "duration": 191,
    "start_time": "2024-02-09T22:27:34.515Z"
   },
   {
    "duration": 232,
    "start_time": "2024-02-09T22:28:53.600Z"
   },
   {
    "duration": 212,
    "start_time": "2024-02-09T22:29:13.744Z"
   },
   {
    "duration": 314,
    "start_time": "2024-02-09T22:29:47.662Z"
   },
   {
    "duration": 233,
    "start_time": "2024-02-09T22:30:06.265Z"
   },
   {
    "duration": 238,
    "start_time": "2024-02-09T22:30:48.898Z"
   },
   {
    "duration": 301,
    "start_time": "2024-02-09T22:31:27.112Z"
   },
   {
    "duration": 240,
    "start_time": "2024-02-09T22:31:30.048Z"
   },
   {
    "duration": 32,
    "start_time": "2024-02-09T22:45:19.268Z"
   },
   {
    "duration": 18,
    "start_time": "2024-02-09T22:46:30.859Z"
   },
   {
    "duration": 32,
    "start_time": "2024-02-09T22:46:42.559Z"
   },
   {
    "duration": 18,
    "start_time": "2024-02-09T22:46:53.373Z"
   },
   {
    "duration": 21,
    "start_time": "2024-02-09T22:46:59.969Z"
   },
   {
    "duration": 31,
    "start_time": "2024-02-09T22:47:08.545Z"
   },
   {
    "duration": 24,
    "start_time": "2024-02-09T22:49:14.577Z"
   },
   {
    "duration": 24,
    "start_time": "2024-02-09T22:49:24.978Z"
   },
   {
    "duration": 43,
    "start_time": "2024-02-09T22:49:43.908Z"
   },
   {
    "duration": 28,
    "start_time": "2024-02-09T22:49:58.811Z"
   },
   {
    "duration": 46,
    "start_time": "2024-02-09T22:50:22.218Z"
   },
   {
    "duration": 46,
    "start_time": "2024-02-09T22:51:23.922Z"
   },
   {
    "duration": 198,
    "start_time": "2024-02-09T22:59:58.506Z"
   },
   {
    "duration": 241,
    "start_time": "2024-02-09T23:00:00.243Z"
   },
   {
    "duration": 200,
    "start_time": "2024-02-09T23:00:02.225Z"
   },
   {
    "duration": 241,
    "start_time": "2024-02-09T23:00:03.790Z"
   },
   {
    "duration": 3,
    "start_time": "2024-02-09T23:06:31.215Z"
   },
   {
    "duration": 10,
    "start_time": "2024-02-09T23:20:58.359Z"
   },
   {
    "duration": 898,
    "start_time": "2024-02-09T23:21:15.508Z"
   },
   {
    "duration": 915,
    "start_time": "2024-02-09T23:21:22.907Z"
   },
   {
    "duration": 150,
    "start_time": "2024-02-09T23:24:52.716Z"
   },
   {
    "duration": 894,
    "start_time": "2024-02-09T23:26:42.501Z"
   },
   {
    "duration": 924,
    "start_time": "2024-02-09T23:31:53.046Z"
   },
   {
    "duration": 1141,
    "start_time": "2024-02-09T23:35:18.322Z"
   },
   {
    "duration": 1052,
    "start_time": "2024-02-09T23:35:37.651Z"
   },
   {
    "duration": 2655,
    "start_time": "2024-02-09T23:40:06.053Z"
   },
   {
    "duration": 2759,
    "start_time": "2024-02-09T23:40:09.730Z"
   },
   {
    "duration": 2634,
    "start_time": "2024-02-09T23:40:21.763Z"
   },
   {
    "duration": 1076,
    "start_time": "2024-02-09T23:40:31.485Z"
   },
   {
    "duration": 2556,
    "start_time": "2024-02-09T23:40:44.452Z"
   },
   {
    "duration": 2777,
    "start_time": "2024-02-09T23:40:58.040Z"
   },
   {
    "duration": 2659,
    "start_time": "2024-02-09T23:41:30.963Z"
   },
   {
    "duration": 1110,
    "start_time": "2024-02-09T23:41:53.344Z"
   },
   {
    "duration": 1002,
    "start_time": "2024-02-09T23:42:41.977Z"
   },
   {
    "duration": 53,
    "start_time": "2024-02-10T22:18:52.643Z"
   },
   {
    "duration": 1148,
    "start_time": "2024-02-10T22:18:58.312Z"
   },
   {
    "duration": 257,
    "start_time": "2024-02-10T22:18:59.463Z"
   },
   {
    "duration": 217,
    "start_time": "2024-02-10T22:18:59.721Z"
   },
   {
    "duration": 384,
    "start_time": "2024-02-10T22:18:59.939Z"
   },
   {
    "duration": 17,
    "start_time": "2024-02-10T22:19:00.326Z"
   },
   {
    "duration": 76,
    "start_time": "2024-02-10T22:19:00.344Z"
   },
   {
    "duration": 71,
    "start_time": "2024-02-10T22:19:00.421Z"
   },
   {
    "duration": 0,
    "start_time": "2024-02-10T22:19:00.493Z"
   },
   {
    "duration": 0,
    "start_time": "2024-02-10T22:19:00.495Z"
   },
   {
    "duration": 0,
    "start_time": "2024-02-10T22:19:00.495Z"
   },
   {
    "duration": 0,
    "start_time": "2024-02-10T22:19:00.496Z"
   },
   {
    "duration": 0,
    "start_time": "2024-02-10T22:19:00.497Z"
   },
   {
    "duration": 0,
    "start_time": "2024-02-10T22:19:00.498Z"
   },
   {
    "duration": 0,
    "start_time": "2024-02-10T22:19:00.499Z"
   },
   {
    "duration": 0,
    "start_time": "2024-02-10T22:19:00.500Z"
   },
   {
    "duration": 0,
    "start_time": "2024-02-10T22:19:00.501Z"
   },
   {
    "duration": 0,
    "start_time": "2024-02-10T22:19:00.502Z"
   },
   {
    "duration": 8,
    "start_time": "2024-02-10T22:19:07.919Z"
   },
   {
    "duration": 2,
    "start_time": "2024-02-10T22:19:13.777Z"
   },
   {
    "duration": 77,
    "start_time": "2024-02-10T22:19:13.781Z"
   },
   {
    "duration": 207,
    "start_time": "2024-02-10T22:19:13.860Z"
   },
   {
    "duration": 360,
    "start_time": "2024-02-10T22:19:14.069Z"
   },
   {
    "duration": 15,
    "start_time": "2024-02-10T22:19:14.431Z"
   },
   {
    "duration": 33,
    "start_time": "2024-02-10T22:19:14.447Z"
   },
   {
    "duration": 9,
    "start_time": "2024-02-10T22:19:14.482Z"
   },
   {
    "duration": 0,
    "start_time": "2024-02-10T22:19:14.492Z"
   },
   {
    "duration": 0,
    "start_time": "2024-02-10T22:19:14.493Z"
   },
   {
    "duration": 0,
    "start_time": "2024-02-10T22:19:14.494Z"
   },
   {
    "duration": 0,
    "start_time": "2024-02-10T22:19:14.496Z"
   },
   {
    "duration": 0,
    "start_time": "2024-02-10T22:19:14.496Z"
   },
   {
    "duration": 0,
    "start_time": "2024-02-10T22:19:14.497Z"
   },
   {
    "duration": 0,
    "start_time": "2024-02-10T22:19:14.498Z"
   },
   {
    "duration": 0,
    "start_time": "2024-02-10T22:19:14.499Z"
   },
   {
    "duration": 0,
    "start_time": "2024-02-10T22:19:14.500Z"
   },
   {
    "duration": 0,
    "start_time": "2024-02-10T22:19:14.501Z"
   },
   {
    "duration": 130,
    "start_time": "2024-02-10T22:19:28.318Z"
   },
   {
    "duration": 158,
    "start_time": "2024-02-10T22:19:30.354Z"
   },
   {
    "duration": 194,
    "start_time": "2024-02-10T22:19:32.356Z"
   },
   {
    "duration": 218,
    "start_time": "2024-02-10T22:19:34.365Z"
   },
   {
    "duration": 110,
    "start_time": "2024-02-10T22:19:37.384Z"
   },
   {
    "duration": 166,
    "start_time": "2024-02-10T22:19:40.416Z"
   },
   {
    "duration": 238,
    "start_time": "2024-02-10T22:19:41.608Z"
   },
   {
    "duration": 176,
    "start_time": "2024-02-10T22:19:42.319Z"
   },
   {
    "duration": 218,
    "start_time": "2024-02-10T22:19:42.973Z"
   },
   {
    "duration": 1026,
    "start_time": "2024-02-10T22:19:45.198Z"
   },
   {
    "duration": 6,
    "start_time": "2024-02-10T22:19:48.623Z"
   },
   {
    "duration": 5,
    "start_time": "2024-02-10T22:20:24.933Z"
   },
   {
    "duration": 1288,
    "start_time": "2024-02-10T22:21:29.020Z"
   },
   {
    "duration": 75,
    "start_time": "2024-02-10T22:22:26.941Z"
   },
   {
    "duration": 95,
    "start_time": "2024-02-10T22:22:54.716Z"
   },
   {
    "duration": 107,
    "start_time": "2024-02-10T22:23:24.829Z"
   },
   {
    "duration": 83,
    "start_time": "2024-02-10T22:24:29.563Z"
   },
   {
    "duration": 80,
    "start_time": "2024-02-10T22:24:57.891Z"
   },
   {
    "duration": 89,
    "start_time": "2024-02-10T22:25:09.772Z"
   },
   {
    "duration": 107,
    "start_time": "2024-02-10T22:25:22.164Z"
   },
   {
    "duration": 78,
    "start_time": "2024-02-10T22:25:40.517Z"
   },
   {
    "duration": 88,
    "start_time": "2024-02-10T22:26:02.208Z"
   },
   {
    "duration": 1167,
    "start_time": "2024-02-10T22:26:16.642Z"
   },
   {
    "duration": 1216,
    "start_time": "2024-02-10T22:27:04.499Z"
   },
   {
    "duration": 171,
    "start_time": "2024-02-10T22:29:27.068Z"
   },
   {
    "duration": 82,
    "start_time": "2024-02-10T22:29:33.504Z"
   },
   {
    "duration": 114,
    "start_time": "2024-02-10T22:33:31.824Z"
   },
   {
    "duration": 1186,
    "start_time": "2024-02-10T22:33:35.965Z"
   },
   {
    "duration": 10,
    "start_time": "2024-02-10T22:36:07.438Z"
   },
   {
    "duration": 4,
    "start_time": "2024-02-10T22:36:32.897Z"
   },
   {
    "duration": 8,
    "start_time": "2024-02-10T22:36:41.390Z"
   },
   {
    "duration": 1021,
    "start_time": "2024-02-11T17:01:44.747Z"
   },
   {
    "duration": 245,
    "start_time": "2024-02-11T17:01:45.770Z"
   },
   {
    "duration": 225,
    "start_time": "2024-02-11T17:01:46.016Z"
   },
   {
    "duration": 372,
    "start_time": "2024-02-11T17:01:46.243Z"
   },
   {
    "duration": 17,
    "start_time": "2024-02-11T17:01:46.617Z"
   },
   {
    "duration": 43,
    "start_time": "2024-02-11T17:01:46.635Z"
   },
   {
    "duration": 103,
    "start_time": "2024-02-11T17:01:46.680Z"
   },
   {
    "duration": 0,
    "start_time": "2024-02-11T17:01:46.785Z"
   },
   {
    "duration": 0,
    "start_time": "2024-02-11T17:01:46.786Z"
   },
   {
    "duration": 0,
    "start_time": "2024-02-11T17:01:46.787Z"
   },
   {
    "duration": 0,
    "start_time": "2024-02-11T17:01:46.788Z"
   },
   {
    "duration": 0,
    "start_time": "2024-02-11T17:01:46.789Z"
   },
   {
    "duration": 0,
    "start_time": "2024-02-11T17:01:46.790Z"
   },
   {
    "duration": 0,
    "start_time": "2024-02-11T17:01:46.791Z"
   },
   {
    "duration": 0,
    "start_time": "2024-02-11T17:01:46.791Z"
   },
   {
    "duration": 0,
    "start_time": "2024-02-11T17:01:46.792Z"
   },
   {
    "duration": 0,
    "start_time": "2024-02-11T17:01:46.793Z"
   },
   {
    "duration": 0,
    "start_time": "2024-02-11T17:01:46.794Z"
   },
   {
    "duration": 0,
    "start_time": "2024-02-11T17:01:46.795Z"
   },
   {
    "duration": 0,
    "start_time": "2024-02-11T17:01:46.796Z"
   },
   {
    "duration": 48,
    "start_time": "2024-02-11T19:28:29.284Z"
   },
   {
    "duration": 1192,
    "start_time": "2024-02-11T19:29:13.150Z"
   },
   {
    "duration": 231,
    "start_time": "2024-02-11T19:29:14.344Z"
   },
   {
    "duration": 212,
    "start_time": "2024-02-11T19:29:14.577Z"
   },
   {
    "duration": 377,
    "start_time": "2024-02-11T19:29:14.790Z"
   },
   {
    "duration": 17,
    "start_time": "2024-02-11T19:29:15.170Z"
   },
   {
    "duration": 59,
    "start_time": "2024-02-11T19:29:15.188Z"
   },
   {
    "duration": 92,
    "start_time": "2024-02-11T19:29:15.249Z"
   },
   {
    "duration": 0,
    "start_time": "2024-02-11T19:29:15.342Z"
   },
   {
    "duration": 0,
    "start_time": "2024-02-11T19:29:15.344Z"
   },
   {
    "duration": 0,
    "start_time": "2024-02-11T19:29:15.345Z"
   },
   {
    "duration": 0,
    "start_time": "2024-02-11T19:29:15.346Z"
   },
   {
    "duration": 0,
    "start_time": "2024-02-11T19:29:15.347Z"
   },
   {
    "duration": 0,
    "start_time": "2024-02-11T19:29:15.348Z"
   },
   {
    "duration": 0,
    "start_time": "2024-02-11T19:29:15.365Z"
   },
   {
    "duration": 0,
    "start_time": "2024-02-11T19:29:15.366Z"
   },
   {
    "duration": 0,
    "start_time": "2024-02-11T19:29:15.367Z"
   },
   {
    "duration": 0,
    "start_time": "2024-02-11T19:29:15.369Z"
   },
   {
    "duration": 0,
    "start_time": "2024-02-11T19:29:15.370Z"
   },
   {
    "duration": 0,
    "start_time": "2024-02-11T19:29:15.371Z"
   },
   {
    "duration": 0,
    "start_time": "2024-02-11T19:29:15.372Z"
   },
   {
    "duration": 3,
    "start_time": "2024-02-11T19:29:22.740Z"
   },
   {
    "duration": 70,
    "start_time": "2024-02-11T19:29:22.745Z"
   },
   {
    "duration": 190,
    "start_time": "2024-02-11T19:29:22.817Z"
   },
   {
    "duration": 372,
    "start_time": "2024-02-11T19:29:23.009Z"
   },
   {
    "duration": 15,
    "start_time": "2024-02-11T19:29:23.384Z"
   },
   {
    "duration": 20,
    "start_time": "2024-02-11T19:29:23.401Z"
   },
   {
    "duration": 10,
    "start_time": "2024-02-11T19:29:23.423Z"
   },
   {
    "duration": 0,
    "start_time": "2024-02-11T19:29:23.435Z"
   },
   {
    "duration": 0,
    "start_time": "2024-02-11T19:29:23.465Z"
   },
   {
    "duration": 0,
    "start_time": "2024-02-11T19:29:23.466Z"
   },
   {
    "duration": 0,
    "start_time": "2024-02-11T19:29:23.468Z"
   },
   {
    "duration": 0,
    "start_time": "2024-02-11T19:29:23.469Z"
   },
   {
    "duration": 0,
    "start_time": "2024-02-11T19:29:23.471Z"
   },
   {
    "duration": 0,
    "start_time": "2024-02-11T19:29:23.472Z"
   },
   {
    "duration": 0,
    "start_time": "2024-02-11T19:29:23.474Z"
   },
   {
    "duration": 0,
    "start_time": "2024-02-11T19:29:23.475Z"
   },
   {
    "duration": 0,
    "start_time": "2024-02-11T19:29:23.477Z"
   },
   {
    "duration": 0,
    "start_time": "2024-02-11T19:29:23.478Z"
   },
   {
    "duration": 0,
    "start_time": "2024-02-11T19:29:23.479Z"
   },
   {
    "duration": 0,
    "start_time": "2024-02-11T19:29:23.481Z"
   },
   {
    "duration": 143,
    "start_time": "2024-02-11T19:29:57.456Z"
   },
   {
    "duration": 121,
    "start_time": "2024-02-11T19:30:54.101Z"
   },
   {
    "duration": 167,
    "start_time": "2024-02-11T19:30:54.224Z"
   },
   {
    "duration": 258,
    "start_time": "2024-02-11T19:30:54.393Z"
   },
   {
    "duration": 240,
    "start_time": "2024-02-11T19:30:54.654Z"
   },
   {
    "duration": 46,
    "start_time": "2024-02-11T19:30:54.896Z"
   },
   {
    "duration": 215,
    "start_time": "2024-02-11T19:30:54.944Z"
   },
   {
    "duration": 252,
    "start_time": "2024-02-11T19:30:55.161Z"
   },
   {
    "duration": 195,
    "start_time": "2024-02-11T19:30:55.415Z"
   },
   {
    "duration": 225,
    "start_time": "2024-02-11T19:30:55.611Z"
   },
   {
    "duration": 1074,
    "start_time": "2024-02-11T19:30:55.838Z"
   },
   {
    "duration": 5,
    "start_time": "2024-02-11T19:30:56.914Z"
   },
   {
    "duration": 5,
    "start_time": "2024-02-11T19:30:56.920Z"
   },
   {
    "duration": 9,
    "start_time": "2024-02-11T19:30:56.926Z"
   },
   {
    "duration": 1004,
    "start_time": "2024-02-11T19:44:02.474Z"
   },
   {
    "duration": 116,
    "start_time": "2024-02-11T19:44:03.480Z"
   },
   {
    "duration": 217,
    "start_time": "2024-02-11T19:44:03.598Z"
   },
   {
    "duration": 373,
    "start_time": "2024-02-11T19:44:03.817Z"
   },
   {
    "duration": 18,
    "start_time": "2024-02-11T19:44:04.193Z"
   },
   {
    "duration": 30,
    "start_time": "2024-02-11T19:44:04.212Z"
   },
   {
    "duration": 145,
    "start_time": "2024-02-11T19:44:04.244Z"
   },
   {
    "duration": 148,
    "start_time": "2024-02-11T19:44:04.391Z"
   },
   {
    "duration": 184,
    "start_time": "2024-02-11T19:44:04.541Z"
   },
   {
    "duration": 212,
    "start_time": "2024-02-11T19:44:04.727Z"
   },
   {
    "duration": 238,
    "start_time": "2024-02-11T19:44:04.941Z"
   },
   {
    "duration": 49,
    "start_time": "2024-02-11T19:44:05.181Z"
   },
   {
    "duration": 195,
    "start_time": "2024-02-11T19:44:05.232Z"
   },
   {
    "duration": 310,
    "start_time": "2024-02-11T19:44:05.430Z"
   },
   {
    "duration": 223,
    "start_time": "2024-02-11T19:44:05.742Z"
   },
   {
    "duration": 225,
    "start_time": "2024-02-11T19:44:05.967Z"
   },
   {
    "duration": 1038,
    "start_time": "2024-02-11T19:44:06.194Z"
   },
   {
    "duration": 5,
    "start_time": "2024-02-11T19:44:07.233Z"
   },
   {
    "duration": 6,
    "start_time": "2024-02-11T19:44:07.239Z"
   },
   {
    "duration": 22,
    "start_time": "2024-02-11T19:44:07.247Z"
   },
   {
    "duration": 1045,
    "start_time": "2024-02-12T11:09:32.614Z"
   },
   {
    "duration": 286,
    "start_time": "2024-02-12T11:09:33.661Z"
   },
   {
    "duration": 216,
    "start_time": "2024-02-12T11:09:33.949Z"
   },
   {
    "duration": 399,
    "start_time": "2024-02-12T11:09:34.166Z"
   },
   {
    "duration": 17,
    "start_time": "2024-02-12T11:09:34.568Z"
   },
   {
    "duration": 26,
    "start_time": "2024-02-12T11:09:34.594Z"
   },
   {
    "duration": 173,
    "start_time": "2024-02-12T11:09:34.622Z"
   },
   {
    "duration": 137,
    "start_time": "2024-02-12T11:09:34.796Z"
   },
   {
    "duration": 183,
    "start_time": "2024-02-12T11:09:34.935Z"
   },
   {
    "duration": 203,
    "start_time": "2024-02-12T11:09:35.119Z"
   },
   {
    "duration": 263,
    "start_time": "2024-02-12T11:09:35.324Z"
   },
   {
    "duration": 50,
    "start_time": "2024-02-12T11:09:35.589Z"
   },
   {
    "duration": 201,
    "start_time": "2024-02-12T11:09:35.641Z"
   },
   {
    "duration": 303,
    "start_time": "2024-02-12T11:09:35.844Z"
   },
   {
    "duration": 194,
    "start_time": "2024-02-12T11:09:36.149Z"
   },
   {
    "duration": 228,
    "start_time": "2024-02-12T11:09:36.345Z"
   },
   {
    "duration": 1006,
    "start_time": "2024-02-12T11:09:36.575Z"
   },
   {
    "duration": 12,
    "start_time": "2024-02-12T11:09:37.582Z"
   },
   {
    "duration": 19,
    "start_time": "2024-02-12T11:09:37.595Z"
   },
   {
    "duration": 55,
    "start_time": "2024-02-12T11:09:37.616Z"
   },
   {
    "duration": 1027,
    "start_time": "2024-02-12T11:40:43.501Z"
   },
   {
    "duration": 108,
    "start_time": "2024-02-12T11:40:44.529Z"
   },
   {
    "duration": 203,
    "start_time": "2024-02-12T11:40:44.638Z"
   },
   {
    "duration": 382,
    "start_time": "2024-02-12T11:40:44.843Z"
   },
   {
    "duration": 17,
    "start_time": "2024-02-12T11:40:45.226Z"
   },
   {
    "duration": 72,
    "start_time": "2024-02-12T11:40:45.244Z"
   },
   {
    "duration": 202,
    "start_time": "2024-02-12T11:40:45.318Z"
   },
   {
    "duration": 128,
    "start_time": "2024-02-12T11:40:45.521Z"
   },
   {
    "duration": 159,
    "start_time": "2024-02-12T11:40:45.651Z"
   },
   {
    "duration": 191,
    "start_time": "2024-02-12T11:40:45.812Z"
   },
   {
    "duration": 224,
    "start_time": "2024-02-12T11:40:46.004Z"
   },
   {
    "duration": 45,
    "start_time": "2024-02-12T11:40:46.230Z"
   },
   {
    "duration": 192,
    "start_time": "2024-02-12T11:40:46.277Z"
   },
   {
    "duration": 305,
    "start_time": "2024-02-12T11:40:46.471Z"
   },
   {
    "duration": 194,
    "start_time": "2024-02-12T11:40:46.778Z"
   },
   {
    "duration": 216,
    "start_time": "2024-02-12T11:40:46.973Z"
   },
   {
    "duration": 970,
    "start_time": "2024-02-12T11:40:47.193Z"
   },
   {
    "duration": 5,
    "start_time": "2024-02-12T11:40:48.165Z"
   },
   {
    "duration": 17,
    "start_time": "2024-02-12T11:40:48.171Z"
   },
   {
    "duration": 40,
    "start_time": "2024-02-12T11:40:48.189Z"
   },
   {
    "duration": 54,
    "start_time": "2024-02-12T21:01:29.585Z"
   },
   {
    "duration": 1363,
    "start_time": "2024-02-12T21:01:35.440Z"
   },
   {
    "duration": 260,
    "start_time": "2024-02-12T21:01:36.805Z"
   },
   {
    "duration": 250,
    "start_time": "2024-02-12T21:01:37.067Z"
   },
   {
    "duration": 463,
    "start_time": "2024-02-12T21:01:37.319Z"
   },
   {
    "duration": 20,
    "start_time": "2024-02-12T21:01:37.784Z"
   },
   {
    "duration": 10,
    "start_time": "2024-02-12T21:01:38.128Z"
   },
   {
    "duration": 7,
    "start_time": "2024-02-12T21:01:40.138Z"
   },
   {
    "duration": 8,
    "start_time": "2024-02-12T21:01:41.008Z"
   },
   {
    "duration": 7,
    "start_time": "2024-02-12T21:01:41.877Z"
   },
   {
    "duration": 8,
    "start_time": "2024-02-12T21:01:43.526Z"
   },
   {
    "duration": 10,
    "start_time": "2024-02-12T21:01:44.042Z"
   },
   {
    "duration": 6,
    "start_time": "2024-02-12T21:01:44.815Z"
   },
   {
    "duration": 7,
    "start_time": "2024-02-12T21:01:49.197Z"
   },
   {
    "duration": 10,
    "start_time": "2024-02-12T21:01:58.289Z"
   },
   {
    "duration": 211,
    "start_time": "2024-02-12T21:03:42.063Z"
   },
   {
    "duration": 148,
    "start_time": "2024-02-12T21:03:57.829Z"
   },
   {
    "duration": 197,
    "start_time": "2024-02-12T21:06:48.064Z"
   },
   {
    "duration": 196,
    "start_time": "2024-02-12T21:09:24.144Z"
   },
   {
    "duration": 247,
    "start_time": "2024-02-12T21:09:30.503Z"
   },
   {
    "duration": 227,
    "start_time": "2024-02-12T21:09:39.267Z"
   },
   {
    "duration": 218,
    "start_time": "2024-02-12T21:10:34.062Z"
   },
   {
    "duration": 232,
    "start_time": "2024-02-12T21:24:17.779Z"
   },
   {
    "duration": 172,
    "start_time": "2024-02-12T21:25:38.961Z"
   },
   {
    "duration": 145,
    "start_time": "2024-02-12T21:25:55.047Z"
   },
   {
    "duration": 109,
    "start_time": "2024-02-12T21:26:45.048Z"
   },
   {
    "duration": 84,
    "start_time": "2024-02-12T21:26:49.309Z"
   },
   {
    "duration": 203,
    "start_time": "2024-02-12T21:28:24.746Z"
   },
   {
    "duration": 61,
    "start_time": "2024-02-12T21:36:22.015Z"
   },
   {
    "duration": 118,
    "start_time": "2024-02-12T21:36:30.880Z"
   },
   {
    "duration": 110,
    "start_time": "2024-02-12T21:36:43.005Z"
   },
   {
    "duration": 114,
    "start_time": "2024-02-12T21:37:04.479Z"
   },
   {
    "duration": 110,
    "start_time": "2024-02-12T21:37:22.391Z"
   },
   {
    "duration": 67,
    "start_time": "2024-02-12T21:41:25.883Z"
   },
   {
    "duration": 3,
    "start_time": "2024-02-12T21:41:32.478Z"
   },
   {
    "duration": 96,
    "start_time": "2024-02-12T21:41:32.483Z"
   },
   {
    "duration": 213,
    "start_time": "2024-02-12T21:41:32.580Z"
   },
   {
    "duration": 514,
    "start_time": "2024-02-12T21:41:32.795Z"
   },
   {
    "duration": 18,
    "start_time": "2024-02-12T21:41:33.311Z"
   },
   {
    "duration": 29,
    "start_time": "2024-02-12T21:41:33.330Z"
   },
   {
    "duration": 7,
    "start_time": "2024-02-12T21:41:33.360Z"
   },
   {
    "duration": 8,
    "start_time": "2024-02-12T21:41:33.368Z"
   },
   {
    "duration": 5,
    "start_time": "2024-02-12T21:41:33.378Z"
   },
   {
    "duration": 10,
    "start_time": "2024-02-12T21:41:33.385Z"
   },
   {
    "duration": 9,
    "start_time": "2024-02-12T21:41:33.396Z"
   },
   {
    "duration": 5,
    "start_time": "2024-02-12T21:41:33.406Z"
   },
   {
    "duration": 252,
    "start_time": "2024-02-12T21:41:33.413Z"
   },
   {
    "duration": 159,
    "start_time": "2024-02-12T21:41:33.668Z"
   },
   {
    "duration": 183,
    "start_time": "2024-02-12T21:41:33.829Z"
   },
   {
    "duration": 210,
    "start_time": "2024-02-12T21:41:34.013Z"
   },
   {
    "duration": 247,
    "start_time": "2024-02-12T21:41:34.225Z"
   },
   {
    "duration": 123,
    "start_time": "2024-02-12T21:41:34.473Z"
   },
   {
    "duration": 122,
    "start_time": "2024-02-12T21:41:34.598Z"
   },
   {
    "duration": 57,
    "start_time": "2024-02-12T21:41:34.721Z"
   },
   {
    "duration": 195,
    "start_time": "2024-02-12T21:41:39.088Z"
   },
   {
    "duration": 248,
    "start_time": "2024-02-12T21:42:08.718Z"
   },
   {
    "duration": 295,
    "start_time": "2024-02-12T21:42:10.646Z"
   },
   {
    "duration": 241,
    "start_time": "2024-02-12T21:42:12.391Z"
   },
   {
    "duration": 1090,
    "start_time": "2024-02-12T21:50:38.514Z"
   },
   {
    "duration": 1088,
    "start_time": "2024-02-12T21:53:33.503Z"
   },
   {
    "duration": 1153,
    "start_time": "2024-02-12T21:55:14.484Z"
   },
   {
    "duration": 1342,
    "start_time": "2024-02-12T22:08:11.399Z"
   },
   {
    "duration": 1382,
    "start_time": "2024-02-12T22:09:39.238Z"
   },
   {
    "duration": 6,
    "start_time": "2024-02-12T22:14:07.904Z"
   },
   {
    "duration": 1207,
    "start_time": "2024-02-12T22:23:21.697Z"
   },
   {
    "duration": 70,
    "start_time": "2024-02-12T22:23:22.906Z"
   },
   {
    "duration": 236,
    "start_time": "2024-02-12T22:23:22.978Z"
   },
   {
    "duration": 437,
    "start_time": "2024-02-12T22:23:23.217Z"
   },
   {
    "duration": 18,
    "start_time": "2024-02-12T22:23:23.658Z"
   },
   {
    "duration": 15,
    "start_time": "2024-02-12T22:23:23.677Z"
   },
   {
    "duration": 10,
    "start_time": "2024-02-12T22:23:23.693Z"
   },
   {
    "duration": 6,
    "start_time": "2024-02-12T22:23:23.705Z"
   },
   {
    "duration": 5,
    "start_time": "2024-02-12T22:23:23.713Z"
   },
   {
    "duration": 42,
    "start_time": "2024-02-12T22:23:23.721Z"
   },
   {
    "duration": 8,
    "start_time": "2024-02-12T22:23:23.765Z"
   },
   {
    "duration": 5,
    "start_time": "2024-02-12T22:23:23.775Z"
   },
   {
    "duration": 218,
    "start_time": "2024-02-12T22:23:23.782Z"
   },
   {
    "duration": 157,
    "start_time": "2024-02-12T22:23:24.002Z"
   },
   {
    "duration": 186,
    "start_time": "2024-02-12T22:23:24.160Z"
   },
   {
    "duration": 225,
    "start_time": "2024-02-12T22:23:24.348Z"
   },
   {
    "duration": 254,
    "start_time": "2024-02-12T22:23:24.575Z"
   },
   {
    "duration": 196,
    "start_time": "2024-02-12T22:23:24.830Z"
   },
   {
    "duration": 122,
    "start_time": "2024-02-12T22:23:25.027Z"
   },
   {
    "duration": 53,
    "start_time": "2024-02-12T22:23:25.151Z"
   },
   {
    "duration": 216,
    "start_time": "2024-02-12T22:23:25.205Z"
   },
   {
    "duration": 258,
    "start_time": "2024-02-12T22:23:25.423Z"
   },
   {
    "duration": 210,
    "start_time": "2024-02-12T22:23:25.683Z"
   },
   {
    "duration": 256,
    "start_time": "2024-02-12T22:23:25.895Z"
   },
   {
    "duration": 1358,
    "start_time": "2024-02-12T22:23:26.153Z"
   },
   {
    "duration": 7,
    "start_time": "2024-02-12T22:23:27.513Z"
   },
   {
    "duration": 7,
    "start_time": "2024-02-12T22:23:27.522Z"
   },
   {
    "duration": 32,
    "start_time": "2024-02-12T22:23:27.532Z"
   },
   {
    "duration": 1206,
    "start_time": "2024-02-12T22:24:33.669Z"
   },
   {
    "duration": 72,
    "start_time": "2024-02-12T22:24:34.877Z"
   },
   {
    "duration": 238,
    "start_time": "2024-02-12T22:24:34.951Z"
   },
   {
    "duration": 428,
    "start_time": "2024-02-12T22:24:35.190Z"
   },
   {
    "duration": 19,
    "start_time": "2024-02-12T22:24:35.620Z"
   },
   {
    "duration": 11,
    "start_time": "2024-02-12T22:24:35.658Z"
   },
   {
    "duration": 7,
    "start_time": "2024-02-12T22:24:35.670Z"
   },
   {
    "duration": 7,
    "start_time": "2024-02-12T22:24:35.679Z"
   },
   {
    "duration": 6,
    "start_time": "2024-02-12T22:24:35.688Z"
   },
   {
    "duration": 25,
    "start_time": "2024-02-12T22:24:35.696Z"
   },
   {
    "duration": 38,
    "start_time": "2024-02-12T22:24:35.723Z"
   },
   {
    "duration": 6,
    "start_time": "2024-02-12T22:24:35.763Z"
   },
   {
    "duration": 232,
    "start_time": "2024-02-12T22:24:35.771Z"
   },
   {
    "duration": 159,
    "start_time": "2024-02-12T22:24:36.007Z"
   },
   {
    "duration": 192,
    "start_time": "2024-02-12T22:24:36.168Z"
   },
   {
    "duration": 220,
    "start_time": "2024-02-12T22:24:36.363Z"
   },
   {
    "duration": 261,
    "start_time": "2024-02-12T22:24:36.585Z"
   },
   {
    "duration": 214,
    "start_time": "2024-02-12T22:24:36.848Z"
   },
   {
    "duration": 134,
    "start_time": "2024-02-12T22:24:37.064Z"
   },
   {
    "duration": 61,
    "start_time": "2024-02-12T22:24:37.199Z"
   },
   {
    "duration": 207,
    "start_time": "2024-02-12T22:24:37.262Z"
   },
   {
    "duration": 262,
    "start_time": "2024-02-12T22:24:37.470Z"
   },
   {
    "duration": 208,
    "start_time": "2024-02-12T22:24:37.734Z"
   },
   {
    "duration": 250,
    "start_time": "2024-02-12T22:24:37.943Z"
   },
   {
    "duration": 1287,
    "start_time": "2024-02-12T22:24:38.195Z"
   },
   {
    "duration": 6,
    "start_time": "2024-02-12T22:24:39.484Z"
   },
   {
    "duration": 6,
    "start_time": "2024-02-12T22:24:39.491Z"
   },
   {
    "duration": 10,
    "start_time": "2024-02-12T22:24:39.499Z"
   },
   {
    "duration": 1300,
    "start_time": "2024-02-13T14:17:44.238Z"
   },
   {
    "duration": 192,
    "start_time": "2024-02-13T14:17:45.541Z"
   },
   {
    "duration": 246,
    "start_time": "2024-02-13T14:17:45.735Z"
   },
   {
    "duration": 419,
    "start_time": "2024-02-13T14:17:45.982Z"
   },
   {
    "duration": 19,
    "start_time": "2024-02-13T14:17:46.403Z"
   },
   {
    "duration": 35,
    "start_time": "2024-02-13T14:17:46.424Z"
   },
   {
    "duration": 7,
    "start_time": "2024-02-13T14:17:46.461Z"
   },
   {
    "duration": 25,
    "start_time": "2024-02-13T14:17:46.470Z"
   },
   {
    "duration": 29,
    "start_time": "2024-02-13T14:17:46.497Z"
   },
   {
    "duration": 14,
    "start_time": "2024-02-13T14:17:46.528Z"
   },
   {
    "duration": 10,
    "start_time": "2024-02-13T14:17:46.544Z"
   },
   {
    "duration": 6,
    "start_time": "2024-02-13T14:17:46.556Z"
   },
   {
    "duration": 211,
    "start_time": "2024-02-13T14:17:46.564Z"
   },
   {
    "duration": 163,
    "start_time": "2024-02-13T14:17:46.779Z"
   },
   {
    "duration": 207,
    "start_time": "2024-02-13T14:17:46.944Z"
   },
   {
    "duration": 219,
    "start_time": "2024-02-13T14:17:47.153Z"
   },
   {
    "duration": 251,
    "start_time": "2024-02-13T14:17:47.374Z"
   },
   {
    "duration": 207,
    "start_time": "2024-02-13T14:17:47.627Z"
   },
   {
    "duration": 124,
    "start_time": "2024-02-13T14:17:47.836Z"
   },
   {
    "duration": 69,
    "start_time": "2024-02-13T14:17:47.962Z"
   },
   {
    "duration": 235,
    "start_time": "2024-02-13T14:17:48.033Z"
   },
   {
    "duration": 260,
    "start_time": "2024-02-13T14:17:48.270Z"
   },
   {
    "duration": 215,
    "start_time": "2024-02-13T14:17:48.532Z"
   },
   {
    "duration": 251,
    "start_time": "2024-02-13T14:17:48.748Z"
   },
   {
    "duration": 1311,
    "start_time": "2024-02-13T14:17:49.001Z"
   },
   {
    "duration": 5,
    "start_time": "2024-02-13T14:17:50.313Z"
   },
   {
    "duration": 9,
    "start_time": "2024-02-13T14:17:50.320Z"
   },
   {
    "duration": 30,
    "start_time": "2024-02-13T14:17:50.330Z"
   },
   {
    "duration": 1252,
    "start_time": "2024-02-13T14:45:09.274Z"
   },
   {
    "duration": 70,
    "start_time": "2024-02-13T14:45:10.528Z"
   },
   {
    "duration": 236,
    "start_time": "2024-02-13T14:45:10.599Z"
   },
   {
    "duration": 439,
    "start_time": "2024-02-13T14:45:10.837Z"
   },
   {
    "duration": 18,
    "start_time": "2024-02-13T14:45:11.278Z"
   },
   {
    "duration": 11,
    "start_time": "2024-02-13T14:45:11.297Z"
   },
   {
    "duration": 7,
    "start_time": "2024-02-13T14:45:11.309Z"
   },
   {
    "duration": 12,
    "start_time": "2024-02-13T14:45:11.317Z"
   },
   {
    "duration": 6,
    "start_time": "2024-02-13T14:45:11.358Z"
   },
   {
    "duration": 11,
    "start_time": "2024-02-13T14:45:11.366Z"
   },
   {
    "duration": 12,
    "start_time": "2024-02-13T14:45:11.379Z"
   },
   {
    "duration": 5,
    "start_time": "2024-02-13T14:45:11.393Z"
   },
   {
    "duration": 229,
    "start_time": "2024-02-13T14:45:11.400Z"
   },
   {
    "duration": 157,
    "start_time": "2024-02-13T14:45:11.632Z"
   },
   {
    "duration": 187,
    "start_time": "2024-02-13T14:45:11.790Z"
   },
   {
    "duration": 217,
    "start_time": "2024-02-13T14:45:11.979Z"
   },
   {
    "duration": 282,
    "start_time": "2024-02-13T14:45:12.197Z"
   },
   {
    "duration": 193,
    "start_time": "2024-02-13T14:45:12.481Z"
   },
   {
    "duration": 120,
    "start_time": "2024-02-13T14:45:12.676Z"
   },
   {
    "duration": 46,
    "start_time": "2024-02-13T14:45:12.797Z"
   },
   {
    "duration": 214,
    "start_time": "2024-02-13T14:45:12.845Z"
   },
   {
    "duration": 272,
    "start_time": "2024-02-13T14:45:13.061Z"
   },
   {
    "duration": 216,
    "start_time": "2024-02-13T14:45:13.335Z"
   },
   {
    "duration": 268,
    "start_time": "2024-02-13T14:45:13.558Z"
   },
   {
    "duration": 1352,
    "start_time": "2024-02-13T14:45:13.828Z"
   },
   {
    "duration": 6,
    "start_time": "2024-02-13T14:45:15.182Z"
   },
   {
    "duration": 17,
    "start_time": "2024-02-13T14:45:15.190Z"
   },
   {
    "duration": 29,
    "start_time": "2024-02-13T14:45:15.209Z"
   },
   {
    "duration": 1184,
    "start_time": "2024-02-13T14:45:43.581Z"
   },
   {
    "duration": 70,
    "start_time": "2024-02-13T14:45:44.767Z"
   },
   {
    "duration": 240,
    "start_time": "2024-02-13T14:45:44.838Z"
   },
   {
    "duration": 453,
    "start_time": "2024-02-13T14:45:45.080Z"
   },
   {
    "duration": 28,
    "start_time": "2024-02-13T14:45:45.535Z"
   },
   {
    "duration": 10,
    "start_time": "2024-02-13T14:45:45.565Z"
   },
   {
    "duration": 6,
    "start_time": "2024-02-13T14:45:45.577Z"
   },
   {
    "duration": 12,
    "start_time": "2024-02-13T14:45:45.585Z"
   },
   {
    "duration": 6,
    "start_time": "2024-02-13T14:45:45.598Z"
   },
   {
    "duration": 11,
    "start_time": "2024-02-13T14:45:45.607Z"
   },
   {
    "duration": 40,
    "start_time": "2024-02-13T14:45:45.620Z"
   },
   {
    "duration": 5,
    "start_time": "2024-02-13T14:45:45.662Z"
   },
   {
    "duration": 220,
    "start_time": "2024-02-13T14:45:45.669Z"
   },
   {
    "duration": 156,
    "start_time": "2024-02-13T14:45:45.891Z"
   },
   {
    "duration": 192,
    "start_time": "2024-02-13T14:45:46.049Z"
   },
   {
    "duration": 216,
    "start_time": "2024-02-13T14:45:46.242Z"
   },
   {
    "duration": 275,
    "start_time": "2024-02-13T14:45:46.460Z"
   },
   {
    "duration": 209,
    "start_time": "2024-02-13T14:45:46.736Z"
   },
   {
    "duration": 134,
    "start_time": "2024-02-13T14:45:46.946Z"
   },
   {
    "duration": 51,
    "start_time": "2024-02-13T14:45:47.082Z"
   },
   {
    "duration": 226,
    "start_time": "2024-02-13T14:45:47.135Z"
   },
   {
    "duration": 261,
    "start_time": "2024-02-13T14:45:47.363Z"
   },
   {
    "duration": 217,
    "start_time": "2024-02-13T14:45:47.625Z"
   },
   {
    "duration": 259,
    "start_time": "2024-02-13T14:45:47.844Z"
   },
   {
    "duration": 1331,
    "start_time": "2024-02-13T14:45:48.105Z"
   },
   {
    "duration": 6,
    "start_time": "2024-02-13T14:45:49.437Z"
   },
   {
    "duration": 16,
    "start_time": "2024-02-13T14:45:49.444Z"
   },
   {
    "duration": 10,
    "start_time": "2024-02-13T14:45:49.463Z"
   },
   {
    "duration": 1154,
    "start_time": "2024-02-13T14:48:24.407Z"
   },
   {
    "duration": 70,
    "start_time": "2024-02-13T14:48:25.563Z"
   },
   {
    "duration": 237,
    "start_time": "2024-02-13T14:48:25.635Z"
   },
   {
    "duration": 441,
    "start_time": "2024-02-13T14:48:25.873Z"
   },
   {
    "duration": 18,
    "start_time": "2024-02-13T14:48:26.316Z"
   },
   {
    "duration": 28,
    "start_time": "2024-02-13T14:48:26.335Z"
   },
   {
    "duration": 6,
    "start_time": "2024-02-13T14:48:26.365Z"
   },
   {
    "duration": 8,
    "start_time": "2024-02-13T14:48:26.373Z"
   },
   {
    "duration": 7,
    "start_time": "2024-02-13T14:48:26.382Z"
   },
   {
    "duration": 9,
    "start_time": "2024-02-13T14:48:26.391Z"
   },
   {
    "duration": 9,
    "start_time": "2024-02-13T14:48:26.402Z"
   },
   {
    "duration": 10,
    "start_time": "2024-02-13T14:48:26.412Z"
   },
   {
    "duration": 212,
    "start_time": "2024-02-13T14:48:26.459Z"
   },
   {
    "duration": 155,
    "start_time": "2024-02-13T14:48:26.674Z"
   },
   {
    "duration": 207,
    "start_time": "2024-02-13T14:48:26.831Z"
   },
   {
    "duration": 233,
    "start_time": "2024-02-13T14:48:27.040Z"
   },
   {
    "duration": 256,
    "start_time": "2024-02-13T14:48:27.275Z"
   },
   {
    "duration": 198,
    "start_time": "2024-02-13T14:48:27.533Z"
   },
   {
    "duration": 122,
    "start_time": "2024-02-13T14:48:27.733Z"
   },
   {
    "duration": 46,
    "start_time": "2024-02-13T14:48:27.857Z"
   },
   {
    "duration": 213,
    "start_time": "2024-02-13T14:48:27.905Z"
   },
   {
    "duration": 266,
    "start_time": "2024-02-13T14:48:28.120Z"
   },
   {
    "duration": 231,
    "start_time": "2024-02-13T14:48:28.388Z"
   },
   {
    "duration": 249,
    "start_time": "2024-02-13T14:48:28.620Z"
   },
   {
    "duration": 1321,
    "start_time": "2024-02-13T14:48:28.871Z"
   },
   {
    "duration": 5,
    "start_time": "2024-02-13T14:48:30.194Z"
   },
   {
    "duration": 58,
    "start_time": "2024-02-13T14:48:30.201Z"
   },
   {
    "duration": 56,
    "start_time": "2024-02-13T14:48:30.260Z"
   },
   {
    "duration": 61,
    "start_time": "2024-02-13T15:31:41.631Z"
   },
   {
    "duration": 1460,
    "start_time": "2024-02-13T15:31:49.212Z"
   },
   {
    "duration": 300,
    "start_time": "2024-02-13T15:31:50.674Z"
   },
   {
    "duration": 278,
    "start_time": "2024-02-13T15:31:50.976Z"
   },
   {
    "duration": 513,
    "start_time": "2024-02-13T15:31:51.257Z"
   },
   {
    "duration": 29,
    "start_time": "2024-02-13T15:31:51.772Z"
   },
   {
    "duration": 23,
    "start_time": "2024-02-13T15:31:51.803Z"
   },
   {
    "duration": 9,
    "start_time": "2024-02-13T15:31:51.828Z"
   },
   {
    "duration": 39,
    "start_time": "2024-02-13T15:31:51.838Z"
   },
   {
    "duration": 16,
    "start_time": "2024-02-13T15:31:51.879Z"
   },
   {
    "duration": 65,
    "start_time": "2024-02-13T15:31:51.899Z"
   },
   {
    "duration": 33,
    "start_time": "2024-02-13T15:31:51.966Z"
   },
   {
    "duration": 9,
    "start_time": "2024-02-13T15:31:52.000Z"
   },
   {
    "duration": 279,
    "start_time": "2024-02-13T15:31:52.011Z"
   },
   {
    "duration": 182,
    "start_time": "2024-02-13T15:31:52.294Z"
   },
   {
    "duration": 194,
    "start_time": "2024-02-13T15:31:52.478Z"
   },
   {
    "duration": 216,
    "start_time": "2024-02-13T15:31:52.674Z"
   },
   {
    "duration": 263,
    "start_time": "2024-02-13T15:31:52.892Z"
   },
   {
    "duration": 219,
    "start_time": "2024-02-13T15:31:53.157Z"
   },
   {
    "duration": 120,
    "start_time": "2024-02-13T15:31:53.378Z"
   },
   {
    "duration": 48,
    "start_time": "2024-02-13T15:31:53.499Z"
   },
   {
    "duration": 214,
    "start_time": "2024-02-13T15:31:53.548Z"
   },
   {
    "duration": 277,
    "start_time": "2024-02-13T15:31:53.764Z"
   },
   {
    "duration": 209,
    "start_time": "2024-02-13T15:31:54.042Z"
   },
   {
    "duration": 258,
    "start_time": "2024-02-13T15:31:54.253Z"
   },
   {
    "duration": 1448,
    "start_time": "2024-02-13T15:31:54.514Z"
   },
   {
    "duration": 1335,
    "start_time": "2024-02-13T15:37:07.208Z"
   },
   {
    "duration": 77,
    "start_time": "2024-02-13T15:37:08.546Z"
   },
   {
    "duration": 336,
    "start_time": "2024-02-13T15:37:08.625Z"
   },
   {
    "duration": 462,
    "start_time": "2024-02-13T15:37:08.962Z"
   },
   {
    "duration": 19,
    "start_time": "2024-02-13T15:37:09.426Z"
   },
   {
    "duration": 14,
    "start_time": "2024-02-13T15:37:09.446Z"
   },
   {
    "duration": 7,
    "start_time": "2024-02-13T15:37:09.462Z"
   },
   {
    "duration": 35,
    "start_time": "2024-02-13T15:37:09.471Z"
   },
   {
    "duration": 8,
    "start_time": "2024-02-13T15:37:09.509Z"
   },
   {
    "duration": 17,
    "start_time": "2024-02-13T15:37:09.519Z"
   },
   {
    "duration": 13,
    "start_time": "2024-02-13T15:37:09.538Z"
   },
   {
    "duration": 38,
    "start_time": "2024-02-13T15:37:09.553Z"
   },
   {
    "duration": 255,
    "start_time": "2024-02-13T15:37:09.596Z"
   },
   {
    "duration": 173,
    "start_time": "2024-02-13T15:37:09.854Z"
   },
   {
    "duration": 204,
    "start_time": "2024-02-13T15:37:10.029Z"
   },
   {
    "duration": 231,
    "start_time": "2024-02-13T15:37:10.235Z"
   },
   {
    "duration": 276,
    "start_time": "2024-02-13T15:37:10.467Z"
   },
   {
    "duration": 230,
    "start_time": "2024-02-13T15:37:10.744Z"
   },
   {
    "duration": 131,
    "start_time": "2024-02-13T15:37:10.976Z"
   },
   {
    "duration": 49,
    "start_time": "2024-02-13T15:37:11.108Z"
   },
   {
    "duration": 228,
    "start_time": "2024-02-13T15:37:11.159Z"
   },
   {
    "duration": 266,
    "start_time": "2024-02-13T15:37:11.390Z"
   },
   {
    "duration": 211,
    "start_time": "2024-02-13T15:37:11.658Z"
   },
   {
    "duration": 275,
    "start_time": "2024-02-13T15:37:11.871Z"
   },
   {
    "duration": 1424,
    "start_time": "2024-02-13T15:37:12.148Z"
   },
   {
    "duration": 6,
    "start_time": "2024-02-13T15:37:13.573Z"
   },
   {
    "duration": 14,
    "start_time": "2024-02-13T15:37:13.581Z"
   },
   {
    "duration": 10,
    "start_time": "2024-02-13T15:37:13.598Z"
   },
   {
    "duration": 1280,
    "start_time": "2024-02-14T07:54:58.598Z"
   },
   {
    "duration": 187,
    "start_time": "2024-02-14T07:54:59.880Z"
   },
   {
    "duration": 460,
    "start_time": "2024-02-14T07:55:00.068Z"
   },
   {
    "duration": 636,
    "start_time": "2024-02-14T07:55:00.533Z"
   },
   {
    "duration": 18,
    "start_time": "2024-02-14T07:55:01.171Z"
   },
   {
    "duration": 49,
    "start_time": "2024-02-14T07:55:01.191Z"
   },
   {
    "duration": 136,
    "start_time": "2024-02-14T07:55:01.242Z"
   },
   {
    "duration": 43,
    "start_time": "2024-02-14T07:55:01.380Z"
   },
   {
    "duration": 28,
    "start_time": "2024-02-14T07:55:01.425Z"
   },
   {
    "duration": 56,
    "start_time": "2024-02-14T07:55:01.455Z"
   },
   {
    "duration": 38,
    "start_time": "2024-02-14T07:55:01.512Z"
   },
   {
    "duration": 23,
    "start_time": "2024-02-14T07:55:01.552Z"
   },
   {
    "duration": 333,
    "start_time": "2024-02-14T07:55:01.577Z"
   },
   {
    "duration": 137,
    "start_time": "2024-02-14T07:55:01.913Z"
   },
   {
    "duration": 375,
    "start_time": "2024-02-14T07:55:02.052Z"
   },
   {
    "duration": 309,
    "start_time": "2024-02-14T07:55:02.433Z"
   },
   {
    "duration": 340,
    "start_time": "2024-02-14T07:55:02.743Z"
   },
   {
    "duration": 196,
    "start_time": "2024-02-14T07:55:03.084Z"
   },
   {
    "duration": 185,
    "start_time": "2024-02-14T07:55:03.281Z"
   },
   {
    "duration": 45,
    "start_time": "2024-02-14T07:55:03.467Z"
   },
   {
    "duration": 404,
    "start_time": "2024-02-14T07:55:03.513Z"
   },
   {
    "duration": 388,
    "start_time": "2024-02-14T07:55:03.919Z"
   },
   {
    "duration": 339,
    "start_time": "2024-02-14T07:55:04.308Z"
   },
   {
    "duration": 325,
    "start_time": "2024-02-14T07:55:04.648Z"
   },
   {
    "duration": 1133,
    "start_time": "2024-02-14T07:55:04.975Z"
   },
   {
    "duration": 5,
    "start_time": "2024-02-14T07:55:06.109Z"
   },
   {
    "duration": 6,
    "start_time": "2024-02-14T07:55:06.116Z"
   },
   {
    "duration": 9,
    "start_time": "2024-02-14T07:55:06.134Z"
   },
   {
    "duration": 1216,
    "start_time": "2024-02-14T07:58:05.983Z"
   },
   {
    "duration": 69,
    "start_time": "2024-02-14T07:58:07.201Z"
   },
   {
    "duration": 462,
    "start_time": "2024-02-14T07:58:07.272Z"
   },
   {
    "duration": 724,
    "start_time": "2024-02-14T07:58:07.736Z"
   },
   {
    "duration": 16,
    "start_time": "2024-02-14T07:58:08.463Z"
   },
   {
    "duration": 10,
    "start_time": "2024-02-14T07:58:08.481Z"
   },
   {
    "duration": 8,
    "start_time": "2024-02-14T07:58:08.492Z"
   },
   {
    "duration": 7,
    "start_time": "2024-02-14T07:58:08.502Z"
   },
   {
    "duration": 26,
    "start_time": "2024-02-14T07:58:08.511Z"
   },
   {
    "duration": 9,
    "start_time": "2024-02-14T07:58:08.539Z"
   },
   {
    "duration": 9,
    "start_time": "2024-02-14T07:58:08.549Z"
   },
   {
    "duration": 4,
    "start_time": "2024-02-14T07:58:08.560Z"
   },
   {
    "duration": 339,
    "start_time": "2024-02-14T07:58:08.565Z"
   },
   {
    "duration": 227,
    "start_time": "2024-02-14T07:58:08.906Z"
   },
   {
    "duration": 315,
    "start_time": "2024-02-14T07:58:09.135Z"
   },
   {
    "duration": 304,
    "start_time": "2024-02-14T07:58:09.452Z"
   },
   {
    "duration": 342,
    "start_time": "2024-02-14T07:58:09.758Z"
   },
   {
    "duration": 264,
    "start_time": "2024-02-14T07:58:10.102Z"
   },
   {
    "duration": 216,
    "start_time": "2024-02-14T07:58:10.368Z"
   },
   {
    "duration": 52,
    "start_time": "2024-02-14T07:58:10.585Z"
   },
   {
    "duration": 410,
    "start_time": "2024-02-14T07:58:10.638Z"
   },
   {
    "duration": 362,
    "start_time": "2024-02-14T07:58:11.049Z"
   },
   {
    "duration": 341,
    "start_time": "2024-02-14T07:58:11.413Z"
   },
   {
    "duration": 342,
    "start_time": "2024-02-14T07:58:11.755Z"
   },
   {
    "duration": 1196,
    "start_time": "2024-02-14T07:58:12.099Z"
   },
   {
    "duration": 6,
    "start_time": "2024-02-14T07:58:13.297Z"
   },
   {
    "duration": 8,
    "start_time": "2024-02-14T07:58:13.305Z"
   },
   {
    "duration": 26,
    "start_time": "2024-02-14T07:58:13.315Z"
   }
  ],
  "kernelspec": {
   "display_name": "Python 3 (ipykernel)",
   "language": "python",
   "name": "python3"
  },
  "language_info": {
   "codemirror_mode": {
    "name": "ipython",
    "version": 3
   },
   "file_extension": ".py",
   "mimetype": "text/x-python",
   "name": "python",
   "nbconvert_exporter": "python",
   "pygments_lexer": "ipython3",
   "version": "3.9.5"
  },
  "toc": {
   "base_numbering": 1,
   "nav_menu": {},
   "number_sections": true,
   "sideBar": true,
   "skip_h1_title": true,
   "title_cell": "Table of Contents",
   "title_sidebar": "Contents",
   "toc_cell": false,
   "toc_position": {},
   "toc_section_display": true,
   "toc_window_display": false
  }
 },
 "nbformat": 4,
 "nbformat_minor": 5
}
